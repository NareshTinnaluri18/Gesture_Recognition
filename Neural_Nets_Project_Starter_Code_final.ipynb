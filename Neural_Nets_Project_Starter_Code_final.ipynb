{
 "cells": [
  {
   "cell_type": "markdown",
   "metadata": {
    "id": "6ICUd3yL0VTH"
   },
   "source": [
    "# Gesture Recognition\n",
    "In this group project, you are going to build a 3D Conv model that will be able to predict the 5 gestures correctly. Please import the following libraries to get started."
   ]
  },
  {
   "cell_type": "code",
   "execution_count": 2,
   "metadata": {
    "execution": {
     "iopub.execute_input": "2021-10-23T15:25:25.535475Z",
     "iopub.status.busy": "2021-10-23T15:25:25.534935Z",
     "iopub.status.idle": "2021-10-23T15:25:25.559327Z",
     "shell.execute_reply": "2021-10-23T15:25:25.558692Z",
     "shell.execute_reply.started": "2021-10-23T15:25:25.535374Z"
    },
    "id": "cwLp--DW0VTN"
   },
   "outputs": [],
   "source": [
    "import numpy as np\n",
    "import os\n",
    "import datetime\n",
    "def imread(path):\n",
    "    from PIL import Image\n",
    "    return np.array(Image.open(path))\n",
    "\n",
    "def imresize(img, size):\n",
    "    from PIL import Image\n",
    "    return np.array(Image.fromarray((img).astype(np.uint8)).resize(size))\n",
    "import warnings\n",
    "warnings.filterwarnings('ignore')"
   ]
  },
  {
   "cell_type": "markdown",
   "metadata": {
    "id": "GAfevEFR0VTO"
   },
   "source": [
    "We set the random seed so that the results don't vary drastically."
   ]
  },
  {
   "cell_type": "code",
   "execution_count": 3,
   "metadata": {
    "execution": {
     "iopub.execute_input": "2021-10-23T15:25:29.689730Z",
     "iopub.status.busy": "2021-10-23T15:25:29.689394Z",
     "iopub.status.idle": "2021-10-23T15:25:34.388115Z",
     "shell.execute_reply": "2021-10-23T15:25:34.387356Z",
     "shell.execute_reply.started": "2021-10-23T15:25:29.689696Z"
    },
    "id": "_QQhYsVh0VTO"
   },
   "outputs": [],
   "source": [
    "np.random.seed(30)\n",
    "import random as rn\n",
    "rn.seed(30)\n",
    "from keras import backend as K\n",
    "import tensorflow as tf\n",
    "tf.random.set_seed(30)"
   ]
  },
  {
   "cell_type": "markdown",
   "metadata": {
    "execution": {
     "iopub.execute_input": "2021-10-23T14:35:16.532442Z",
     "iopub.status.busy": "2021-10-23T14:35:16.532103Z",
     "iopub.status.idle": "2021-10-23T14:35:16.541275Z",
     "shell.execute_reply": "2021-10-23T14:35:16.539822Z",
     "shell.execute_reply.started": "2021-10-23T14:35:16.532406Z"
    },
    "id": "j5zWnvl30VTP"
   },
   "source": [
    "In this block, you read the folder names for training and validation. You also set the `batch_size` here. Note that you set the batch size in such a way that you are able to use the GPU in full capacity. You keep increasing the batch size until the machine throws an error."
   ]
  },
  {
   "cell_type": "code",
   "execution_count": 4,
   "metadata": {
    "execution": {
     "iopub.execute_input": "2021-10-23T15:25:40.390309Z",
     "iopub.status.busy": "2021-10-23T15:25:40.389661Z",
     "iopub.status.idle": "2021-10-23T15:25:40.410579Z",
     "shell.execute_reply": "2021-10-23T15:25:40.409895Z",
     "shell.execute_reply.started": "2021-10-23T15:25:40.390269Z"
    },
    "id": "VAQTiA7K0VTP"
   },
   "outputs": [],
   "source": [
    "train_doc = np.random.permutation(open(r'/content/project_data/train.csv').readlines())\n",
    "val_doc = np.random.permutation(open(r'/content/project_data/val.csv').readlines())\n",
    "batch_size = 32"
   ]
  },
  {
   "cell_type": "markdown",
   "metadata": {
    "id": "Z2Jba_cK0VTQ"
   },
   "source": [
    "## Generator\n",
    "This is one of the most important part of the code. The overall structure of the generator has been given. In the generator, you are going to preprocess the images as you have images of 2 different dimensions as well as create a batch of video frames. You have to experiment with `img_idx`, `y`,`z` and normalization such that you get high accuracy."
   ]
  },
  {
   "cell_type": "code",
   "execution_count": 5,
   "metadata": {
    "execution": {
     "iopub.execute_input": "2021-10-23T15:25:44.188711Z",
     "iopub.status.busy": "2021-10-23T15:25:44.188454Z",
     "iopub.status.idle": "2021-10-23T15:25:44.208768Z",
     "shell.execute_reply": "2021-10-23T15:25:44.208053Z",
     "shell.execute_reply.started": "2021-10-23T15:25:44.188680Z"
    },
    "id": "y9szSLQe0VTR"
   },
   "outputs": [],
   "source": [
    "def generator(source_path, folder_list, batch_size):\n",
    "    print( 'Source path = ', source_path, '; batch size =', batch_size)\n",
    "    # It is not possible to work with all the 30 images, as it will take too long processing time.\n",
    "    # So lets choose randomly 18 images\n",
    "    img_idx = [0,1,2,4,6,8,10,12,14,16,18,20,22,24,26,27,28,29] #create a list of image numbers you want to use for a particular video(incase if u want to try with lesser images)\n",
    "    x, y, z = len(img_idx), 84, 84\n",
    "    while True:\n",
    "        t = np.random.permutation(folder_list)\n",
    "        num_batches = len(t)//batch_size # calculate the number of batches\n",
    "        for batch in range(num_batches): # we iterate over the number of batches\n",
    "            batch_data = np.zeros((batch_size,x,y,z,3)) # x is the number of images you use for each video, (y,z) is the final size of the input images and 3 is the number of channels RGB\n",
    "            batch_labels = np.zeros((batch_size,5)) # batch_labels is the one hot representation of the output\n",
    "            for folder in range(batch_size): # iterate over the batch_size\n",
    "                imgs = os.listdir(source_path+'/'+ t[folder + (batch*batch_size)].split(';')[0]) # read all the images in the folder\n",
    "                for idx,item in enumerate(img_idx): #  Iterate iver the frames/images of a folder to read them in\n",
    "                    image = imread(source_path+'/'+ t[folder + (batch*batch_size)].strip().split(';')[0]+'/'+imgs[item]).astype(np.float32)\n",
    "                    \n",
    "                    #crop the images and resize them. Note that the images are of 2 different shape \n",
    "                    #and the conv3D will throw error if the inputs in a batch have different shapes\n",
    "                    image = imresize(image[:,20:140,:],(84,84)).astype(np.float32)\n",
    "                    image = image/255.0\n",
    "                    batch_data[folder,idx,:,:,0] =(image[:,:,0]) #normalise and feed in the image # divide by 255.0\n",
    "                    batch_data[folder,idx,:,:,1] =(image[:,:,1])#normalise and feed in the image\n",
    "                    batch_data[folder,idx,:,:,2] =(image[:,:,2]) #normalise and feed in the image\n",
    "                    \n",
    "                batch_labels[folder, int(t[folder + (batch*batch_size)].strip().split(';')[2])] = 1 # OHE\n",
    "            yield batch_data, batch_labels #you yield the batch_data and the batch_labels, remember what does yield do\n",
    "\n",
    "        \n",
    "        # write the code for the remaining data points which are left after full batches\n",
    "        if(len(t)%batch_size)!=0:\n",
    "            batch_data = np.zeros((len(t)%batch_size,x,y,z,3)) # x is the number of images you use for each video, (y,z) is the final size of the input images and 3 is the number of channels RGB\n",
    "            batch_labels = np.zeros((len(t)%batch_size,5)) # batch_labels is the one hot representation of the output\n",
    "            for folder in range(len(t)%batch_size): # iterate over the batch_size\n",
    "                imgs = os.listdir(source_path+'/'+ t[folder + (num_batches*batch_size)].split(';')[0]) # read all the images in the folder\n",
    "                for idx,item in enumerate(img_idx): #  Iterate iver the frames/images of a folder to read them in\n",
    "                    image = imread(source_path+'/'+ t[folder + (num_batches*batch_size)].strip().split(';')[0]+'/'+imgs[item]).astype(np.float32)\n",
    "                    \n",
    "                    #crop the images and resize them. Note that the images are of 2 different shape \n",
    "                    #and the conv3D will throw error if the inputs in a batch have different shapes\n",
    "                    image = imresize(image[:,20:140,:],(84,84)).astype(np.float32)\n",
    "                    image = image/255.0\n",
    "                    batch_data[folder,idx,:,:,0] = (image[:,:,0])#normalise and feed in the image # divide by 255.0\n",
    "                    batch_data[folder,idx,:,:,1] = (image[:,:,1])#normalise and feed in the image\n",
    "                    batch_data[folder,idx,:,:,2] = (image[:,:,2])#normalise and feed in the image\n",
    "                    \n",
    "                batch_labels[folder, int(t[folder + (num_batches*batch_size)].strip().split(';')[2])] = 1 # OHE\n",
    "            yield batch_data, batch_labels\n"
   ]
  },
  {
   "cell_type": "markdown",
   "metadata": {
    "id": "8mY7Cw6X0VTT"
   },
   "source": [
    "Note here that a video is represented above in the generator as (number of images, height, width, number of channels). Take this into consideration while creating the model architecture."
   ]
  },
  {
   "cell_type": "code",
   "execution_count": 6,
   "metadata": {
    "colab": {
     "base_uri": "https://localhost:8080/"
    },
    "execution": {
     "iopub.execute_input": "2021-10-23T15:25:46.919748Z",
     "iopub.status.busy": "2021-10-23T15:25:46.919206Z",
     "iopub.status.idle": "2021-10-23T15:25:46.928756Z",
     "shell.execute_reply": "2021-10-23T15:25:46.927630Z",
     "shell.execute_reply.started": "2021-10-23T15:25:46.919706Z"
    },
    "id": "SeiN_Nmo0VTU",
    "outputId": "0a98ffd9-7ad5-4b1d-e0a1-b044bce0616e"
   },
   "outputs": [
    {
     "name": "stdout",
     "output_type": "stream",
     "text": [
      "# training sequences = 663\n",
      "# validation sequences = 100\n",
      "# epochs = 20\n"
     ]
    }
   ],
   "source": [
    "curr_dt_time = datetime.datetime.now()\n",
    "train_path = r'/content/project_data/train'\n",
    "val_path = r'/content/project_data/val'\n",
    "num_train_sequences = len(train_doc)\n",
    "print('# training sequences =', num_train_sequences)\n",
    "num_val_sequences = len(val_doc)\n",
    "print('# validation sequences =', num_val_sequences)\n",
    "num_epochs = 20\n",
    "print ('# epochs =', num_epochs)"
   ]
  },
  {
   "cell_type": "markdown",
   "metadata": {
    "id": "tRogpWOW0VTU"
   },
   "source": [
    "## Model\n",
    "Here you make the model using different functionalities that Keras provides. Remember to use `Conv3D` and `MaxPooling3D` and not `Conv2D` and `Maxpooling2D` for a 3D convolution model. You would want to use `TimeDistributed` while building a Conv2D + RNN model. Also remember that the last layer is the softmax. Design the network in such a way that the model is able to give good accuracy on the least number of parameters so that it can fit in the memory of the webcam."
   ]
  },
  {
   "cell_type": "code",
   "execution_count": 7,
   "metadata": {
    "execution": {
     "iopub.execute_input": "2021-10-23T15:25:49.490518Z",
     "iopub.status.busy": "2021-10-23T15:25:49.489818Z",
     "iopub.status.idle": "2021-10-23T15:25:52.278003Z",
     "shell.execute_reply": "2021-10-23T15:25:52.276927Z",
     "shell.execute_reply.started": "2021-10-23T15:25:49.490481Z"
    },
    "id": "f1C5xJoJ0VTV"
   },
   "outputs": [],
   "source": [
    "# Model 1\n",
    "\n",
    "# Batch_size = 32\n",
    "# image_shape = 84, 84, 3\n",
    "# epochs = 20\n",
    "# When given the bacth_size of 64 OOM error is generated by the GPU.\n",
    "\n",
    "from keras.models import Sequential, Model\n",
    "from keras.layers import Dense, GRU, Flatten, TimeDistributed, Flatten, BatchNormalization, Activation, Dropout\n",
    "from keras.layers.convolutional import Conv3D, MaxPooling3D\n",
    "from keras.callbacks import ModelCheckpoint, ReduceLROnPlateau\n",
    "from keras import optimizers\n",
    "\n",
    "model = Sequential()\n",
    "model.add(Conv3D(16, (3, 3, 3), strides=(1,1,1), padding='same', input_shape=(18,84,84,3)))\n",
    "model.add(Activation('relu'))\n",
    "model.add(BatchNormalization())\n",
    "model.add(MaxPooling3D(pool_size=(2, 2, 2),strides=(2,2,1)))\n",
    "\n",
    "model.add(Conv3D(32, (2, 2, 2), strides=(1,1,1), padding='same', input_shape=(18,84,84,3)))\n",
    "model.add(Activation('relu'))\n",
    "model.add(BatchNormalization())\n",
    "model.add(MaxPooling3D(pool_size=(2, 2, 2), strides=(2,2,1)))\n",
    "\n",
    "model.add(Conv3D(64, (2, 2, 2), strides=(1,1,1), padding='same', input_shape=(18,84,84,3)))\n",
    "model.add(Activation('relu'))\n",
    "model.add(BatchNormalization())\n",
    "model.add(MaxPooling3D(pool_size=(2, 2, 2)))\n",
    "\n",
    "model.add(Conv3D(128, (2, 2, 2), strides=(1,1,1), padding='same', input_shape=(18,84,84,3)))\n",
    "model.add(Activation('relu'))\n",
    "model.add(BatchNormalization())\n",
    "model.add(MaxPooling3D(pool_size=(2, 2, 2)))\n",
    "\n",
    "model.add(Flatten())\n",
    "model.add(Dense(128,activation='relu'))\n",
    "model.add(BatchNormalization())\n",
    "model.add(Dropout(0.5))\n",
    "\n",
    "model.add(Dense(64,activation='relu'))\n",
    "model.add(BatchNormalization())\n",
    "model.add(Dropout(0.25))\n",
    "\n",
    "model.add(Dense(5,activation='softmax'))\n"
   ]
  },
  {
   "cell_type": "markdown",
   "metadata": {
    "id": "JWEbAfDd0VTW"
   },
   "source": [
    "Now that you have written the model, the next step is to `compile` the model. When you print the `summary` of the model, you'll see the total number of parameters you have to train."
   ]
  },
  {
   "cell_type": "code",
   "execution_count": 8,
   "metadata": {
    "colab": {
     "base_uri": "https://localhost:8080/"
    },
    "execution": {
     "iopub.execute_input": "2021-10-23T15:26:12.065861Z",
     "iopub.status.busy": "2021-10-23T15:26:12.065064Z",
     "iopub.status.idle": "2021-10-23T15:26:12.390075Z",
     "shell.execute_reply": "2021-10-23T15:26:12.389408Z",
     "shell.execute_reply.started": "2021-10-23T15:26:12.065812Z"
    },
    "id": "iOIT-Cvk0VTW",
    "outputId": "cb9dacd7-c2cb-4feb-cd40-dabae4a300af"
   },
   "outputs": [
    {
     "name": "stdout",
     "output_type": "stream",
     "text": [
      "Model: \"sequential\"\n",
      "_________________________________________________________________\n",
      "Layer (type)                 Output Shape              Param #   \n",
      "=================================================================\n",
      "conv3d (Conv3D)              (None, 18, 84, 84, 16)    1312      \n",
      "_________________________________________________________________\n",
      "activation (Activation)      (None, 18, 84, 84, 16)    0         \n",
      "_________________________________________________________________\n",
      "batch_normalization (BatchNo (None, 18, 84, 84, 16)    64        \n",
      "_________________________________________________________________\n",
      "max_pooling3d (MaxPooling3D) (None, 9, 42, 83, 16)     0         \n",
      "_________________________________________________________________\n",
      "conv3d_1 (Conv3D)            (None, 9, 42, 83, 32)     4128      \n",
      "_________________________________________________________________\n",
      "activation_1 (Activation)    (None, 9, 42, 83, 32)     0         \n",
      "_________________________________________________________________\n",
      "batch_normalization_1 (Batch (None, 9, 42, 83, 32)     128       \n",
      "_________________________________________________________________\n",
      "max_pooling3d_1 (MaxPooling3 (None, 4, 21, 82, 32)     0         \n",
      "_________________________________________________________________\n",
      "conv3d_2 (Conv3D)            (None, 4, 21, 82, 64)     16448     \n",
      "_________________________________________________________________\n",
      "activation_2 (Activation)    (None, 4, 21, 82, 64)     0         \n",
      "_________________________________________________________________\n",
      "batch_normalization_2 (Batch (None, 4, 21, 82, 64)     256       \n",
      "_________________________________________________________________\n",
      "max_pooling3d_2 (MaxPooling3 (None, 2, 10, 41, 64)     0         \n",
      "_________________________________________________________________\n",
      "conv3d_3 (Conv3D)            (None, 2, 10, 41, 128)    65664     \n",
      "_________________________________________________________________\n",
      "activation_3 (Activation)    (None, 2, 10, 41, 128)    0         \n",
      "_________________________________________________________________\n",
      "batch_normalization_3 (Batch (None, 2, 10, 41, 128)    512       \n",
      "_________________________________________________________________\n",
      "max_pooling3d_3 (MaxPooling3 (None, 1, 5, 20, 128)     0         \n",
      "_________________________________________________________________\n",
      "flatten (Flatten)            (None, 12800)             0         \n",
      "_________________________________________________________________\n",
      "dense (Dense)                (None, 128)               1638528   \n",
      "_________________________________________________________________\n",
      "batch_normalization_4 (Batch (None, 128)               512       \n",
      "_________________________________________________________________\n",
      "dropout (Dropout)            (None, 128)               0         \n",
      "_________________________________________________________________\n",
      "dense_1 (Dense)              (None, 64)                8256      \n",
      "_________________________________________________________________\n",
      "batch_normalization_5 (Batch (None, 64)                256       \n",
      "_________________________________________________________________\n",
      "dropout_1 (Dropout)          (None, 64)                0         \n",
      "_________________________________________________________________\n",
      "dense_2 (Dense)              (None, 5)                 325       \n",
      "=================================================================\n",
      "Total params: 1,736,389\n",
      "Trainable params: 1,735,525\n",
      "Non-trainable params: 864\n",
      "_________________________________________________________________\n",
      "None\n"
     ]
    }
   ],
   "source": [
    "optimiser = tf.keras.optimizers.SGD(lr=0.001, decay=1e-6, momentum=0.7) #write your optimizer\n",
    "model.compile(optimizer=optimiser, loss='categorical_crossentropy', metrics=['categorical_accuracy'])\n",
    "print (model.summary())"
   ]
  },
  {
   "cell_type": "markdown",
   "metadata": {
    "id": "lgdaCSog0VTX"
   },
   "source": [
    "Let us create the `train_generator` and the `val_generator` which will be used in `.fit_generator`."
   ]
  },
  {
   "cell_type": "code",
   "execution_count": 9,
   "metadata": {
    "execution": {
     "iopub.execute_input": "2021-10-23T15:26:18.835807Z",
     "iopub.status.busy": "2021-10-23T15:26:18.835094Z",
     "iopub.status.idle": "2021-10-23T15:26:18.840767Z",
     "shell.execute_reply": "2021-10-23T15:26:18.839801Z",
     "shell.execute_reply.started": "2021-10-23T15:26:18.835750Z"
    },
    "id": "wLxsMnJc0VTY"
   },
   "outputs": [],
   "source": [
    "train_generator = generator(train_path, train_doc, batch_size)\n",
    "val_generator = generator(val_path, val_doc, batch_size)"
   ]
  },
  {
   "cell_type": "code",
   "execution_count": 10,
   "metadata": {
    "colab": {
     "base_uri": "https://localhost:8080/"
    },
    "execution": {
     "iopub.execute_input": "2021-10-23T15:26:24.569858Z",
     "iopub.status.busy": "2021-10-23T15:26:24.569026Z",
     "iopub.status.idle": "2021-10-23T15:26:24.578691Z",
     "shell.execute_reply": "2021-10-23T15:26:24.578025Z",
     "shell.execute_reply.started": "2021-10-23T15:26:24.569805Z"
    },
    "id": "S4zV3auE0VTZ",
    "outputId": "d04b2f66-a187-4bd7-db10-ec38d372fe62"
   },
   "outputs": [
    {
     "name": "stdout",
     "output_type": "stream",
     "text": [
      "WARNING:tensorflow:`period` argument is deprecated. Please use `save_freq` to specify the frequency in number of batches seen.\n",
      "WARNING:tensorflow:`epsilon` argument is deprecated and will be removed, use `min_delta` instead.\n"
     ]
    }
   ],
   "source": [
    "model_name = 'model_init' + '_' + str(curr_dt_time).replace(' ','').replace(':','_') + '/'\n",
    "# model_init_1-_25_43/model-epoch:01-loss:0.9876-categorical_accuracy:0.76545......\n",
    "\n",
    "if not os.path.exists(model_name):\n",
    "    os.mkdir(model_name)\n",
    "        \n",
    "filepath = model_name + 'model-{epoch:05d}-{loss:.5f}-{categorical_accuracy:.5f}-{val_loss:.5f}-{val_categorical_accuracy:.5f}.h5'\n",
    "\n",
    "checkpoint = ModelCheckpoint(filepath, monitor='val_loss', verbose=1, save_best_only=False, save_weights_only=False, mode='auto', period=1)\n",
    "# ModelCheckpoint - saves weight and model after every epoch\n",
    "LR = ReduceLROnPlateau(monitor='val_loss', factor=0.5, patience=2, verbose=1, mode='min', epsilon=0.0001, cooldown=0, min_lr=0.00001) # write the REducelronplateau code here\n",
    "callbacks_list = [checkpoint, LR]"
   ]
  },
  {
   "cell_type": "markdown",
   "metadata": {
    "id": "2_sKy57z0VTZ"
   },
   "source": [
    "The `steps_per_epoch` and `validation_steps` are used by `fit_generator` to decide the number of next() calls it need to make."
   ]
  },
  {
   "cell_type": "code",
   "execution_count": 11,
   "metadata": {
    "execution": {
     "iopub.execute_input": "2021-10-23T15:26:30.071472Z",
     "iopub.status.busy": "2021-10-23T15:26:30.070762Z",
     "iopub.status.idle": "2021-10-23T15:26:30.076646Z",
     "shell.execute_reply": "2021-10-23T15:26:30.075775Z",
     "shell.execute_reply.started": "2021-10-23T15:26:30.071434Z"
    },
    "id": "zA55aqhI0VTa"
   },
   "outputs": [],
   "source": [
    "# if #images=55, batch_size=5, then we have 11 batches and 11 epochs\n",
    "if (num_train_sequences%batch_size) == 0:\n",
    "    steps_per_epoch = int(num_train_sequences/batch_size)\n",
    "# if #images=55, batch_size=5, then we have 11 batches and 3 pending images, therefore 12 epoch will be reqd for last 3 images\n",
    "else:\n",
    "    steps_per_epoch = (num_train_sequences//batch_size) + 1\n",
    "\n",
    "if (num_val_sequences%batch_size) == 0:\n",
    "    validation_steps = int(num_val_sequences/batch_size)\n",
    "else:\n",
    "    validation_steps = (num_val_sequences//batch_size) + 1"
   ]
  },
  {
   "cell_type": "markdown",
   "metadata": {
    "id": "tHO9a7Ae0VTb"
   },
   "source": [
    "Let us now fit the model. This will start training the model and with the help of the checkpoints, you'll be able to save the model at the end of each epoch."
   ]
  },
  {
   "cell_type": "code",
   "execution_count": 12,
   "metadata": {
    "colab": {
     "base_uri": "https://localhost:8080/"
    },
    "execution": {
     "iopub.execute_input": "2021-10-23T15:26:33.289752Z",
     "iopub.status.busy": "2021-10-23T15:26:33.289193Z"
    },
    "id": "1CmzjToP0VTb",
    "outputId": "2d9ea631-18e0-456e-c3ef-836489cf3597"
   },
   "outputs": [
    {
     "name": "stdout",
     "output_type": "stream",
     "text": [
      "Source path =  /content/project_data/train ; batch size = 32\n",
      "Epoch 1/20\n",
      "21/21 [==============================] - ETA: 0s - loss: 2.1737 - categorical_accuracy: 0.2398Source path =  /content/project_data/val ; batch size = 32\n",
      "21/21 [==============================] - 75s 2s/step - loss: 2.1737 - categorical_accuracy: 0.2398 - val_loss: 1.6423 - val_categorical_accuracy: 0.1600\n",
      "\n",
      "Epoch 00001: saving model to model_init_2021-10-2403_40_28.846484/model-00001-2.17369-0.23982-1.64235-0.16000.h5\n",
      "Epoch 2/20\n",
      "21/21 [==============================] - 44s 2s/step - loss: 1.6244 - categorical_accuracy: 0.3967 - val_loss: 1.8501 - val_categorical_accuracy: 0.1700\n",
      "\n",
      "Epoch 00002: saving model to model_init_2021-10-2403_40_28.846484/model-00002-1.62441-0.39668-1.85014-0.17000.h5\n",
      "Epoch 3/20\n",
      "21/21 [==============================] - 44s 2s/step - loss: 1.4131 - categorical_accuracy: 0.4359 - val_loss: 2.3851 - val_categorical_accuracy: 0.1500\n",
      "\n",
      "Epoch 00003: saving model to model_init_2021-10-2403_40_28.846484/model-00003-1.41311-0.43590-2.38514-0.15000.h5\n",
      "\n",
      "Epoch 00003: ReduceLROnPlateau reducing learning rate to 0.0005000000237487257.\n",
      "Epoch 4/20\n",
      "21/21 [==============================] - 42s 2s/step - loss: 1.2869 - categorical_accuracy: 0.4917 - val_loss: 2.6725 - val_categorical_accuracy: 0.1500\n",
      "\n",
      "Epoch 00004: saving model to model_init_2021-10-2403_40_28.846484/model-00004-1.28691-0.49170-2.67249-0.15000.h5\n",
      "Epoch 5/20\n",
      "21/21 [==============================] - 44s 2s/step - loss: 1.1829 - categorical_accuracy: 0.5309 - val_loss: 2.7765 - val_categorical_accuracy: 0.1600\n",
      "\n",
      "Epoch 00005: saving model to model_init_2021-10-2403_40_28.846484/model-00005-1.18295-0.53092-2.77648-0.16000.h5\n",
      "\n",
      "Epoch 00005: ReduceLROnPlateau reducing learning rate to 0.0002500000118743628.\n",
      "Epoch 6/20\n",
      "21/21 [==============================] - 44s 2s/step - loss: 1.0973 - categorical_accuracy: 0.5596 - val_loss: 2.8291 - val_categorical_accuracy: 0.1400\n",
      "\n",
      "Epoch 00006: saving model to model_init_2021-10-2403_40_28.846484/model-00006-1.09734-0.55958-2.82910-0.14000.h5\n",
      "Epoch 7/20\n",
      "21/21 [==============================] - 44s 2s/step - loss: 0.9992 - categorical_accuracy: 0.6154 - val_loss: 2.8660 - val_categorical_accuracy: 0.1800\n",
      "\n",
      "Epoch 00007: saving model to model_init_2021-10-2403_40_28.846484/model-00007-0.99916-0.61538-2.86596-0.18000.h5\n",
      "\n",
      "Epoch 00007: ReduceLROnPlateau reducing learning rate to 0.0001250000059371814.\n",
      "Epoch 8/20\n",
      "21/21 [==============================] - 42s 2s/step - loss: 1.0202 - categorical_accuracy: 0.5777 - val_loss: 2.9291 - val_categorical_accuracy: 0.2300\n",
      "\n",
      "Epoch 00008: saving model to model_init_2021-10-2403_40_28.846484/model-00008-1.02016-0.57768-2.92911-0.23000.h5\n",
      "Epoch 9/20\n",
      "21/21 [==============================] - 43s 2s/step - loss: 0.9741 - categorical_accuracy: 0.6154 - val_loss: 2.9762 - val_categorical_accuracy: 0.2700\n",
      "\n",
      "Epoch 00009: saving model to model_init_2021-10-2403_40_28.846484/model-00009-0.97412-0.61538-2.97616-0.27000.h5\n",
      "\n",
      "Epoch 00009: ReduceLROnPlateau reducing learning rate to 6.25000029685907e-05.\n",
      "Epoch 10/20\n",
      "21/21 [==============================] - 44s 2s/step - loss: 0.9462 - categorical_accuracy: 0.6033 - val_loss: 3.0706 - val_categorical_accuracy: 0.2800\n",
      "\n",
      "Epoch 00010: saving model to model_init_2021-10-2403_40_28.846484/model-00010-0.94624-0.60332-3.07055-0.28000.h5\n",
      "Epoch 11/20\n",
      "21/21 [==============================] - 44s 2s/step - loss: 0.9626 - categorical_accuracy: 0.6199 - val_loss: 2.9656 - val_categorical_accuracy: 0.2700\n",
      "\n",
      "Epoch 00011: saving model to model_init_2021-10-2403_40_28.846484/model-00011-0.96261-0.61991-2.96564-0.27000.h5\n",
      "\n",
      "Epoch 00011: ReduceLROnPlateau reducing learning rate to 3.125000148429535e-05.\n",
      "Epoch 12/20\n",
      "21/21 [==============================] - 42s 2s/step - loss: 0.8781 - categorical_accuracy: 0.6606 - val_loss: 2.9002 - val_categorical_accuracy: 0.2900\n",
      "\n",
      "Epoch 00012: saving model to model_init_2021-10-2403_40_28.846484/model-00012-0.87811-0.66063-2.90017-0.29000.h5\n",
      "Epoch 13/20\n",
      "21/21 [==============================] - 43s 2s/step - loss: 0.9086 - categorical_accuracy: 0.6169 - val_loss: 2.7184 - val_categorical_accuracy: 0.2700\n",
      "\n",
      "Epoch 00013: saving model to model_init_2021-10-2403_40_28.846484/model-00013-0.90856-0.61689-2.71836-0.27000.h5\n",
      "\n",
      "Epoch 00013: ReduceLROnPlateau reducing learning rate to 1.5625000742147677e-05.\n",
      "Epoch 14/20\n",
      "21/21 [==============================] - 44s 2s/step - loss: 0.8931 - categorical_accuracy: 0.6395 - val_loss: 2.6991 - val_categorical_accuracy: 0.2100\n",
      "\n",
      "Epoch 00014: saving model to model_init_2021-10-2403_40_28.846484/model-00014-0.89310-0.63952-2.69906-0.21000.h5\n",
      "Epoch 15/20\n",
      "21/21 [==============================] - 45s 2s/step - loss: 0.9041 - categorical_accuracy: 0.6275 - val_loss: 2.2814 - val_categorical_accuracy: 0.2400\n",
      "\n",
      "Epoch 00015: saving model to model_init_2021-10-2403_40_28.846484/model-00015-0.90407-0.62745-2.28138-0.24000.h5\n",
      "\n",
      "Epoch 00015: ReduceLROnPlateau reducing learning rate to 1e-05.\n",
      "Epoch 16/20\n",
      "21/21 [==============================] - 42s 2s/step - loss: 0.9600 - categorical_accuracy: 0.6199 - val_loss: 2.3257 - val_categorical_accuracy: 0.2500\n",
      "\n",
      "Epoch 00016: saving model to model_init_2021-10-2403_40_28.846484/model-00016-0.96001-0.61991-2.32568-0.25000.h5\n",
      "Epoch 17/20\n",
      "21/21 [==============================] - 44s 2s/step - loss: 0.9403 - categorical_accuracy: 0.6305 - val_loss: 2.1087 - val_categorical_accuracy: 0.2900\n",
      "\n",
      "Epoch 00017: saving model to model_init_2021-10-2403_40_28.846484/model-00017-0.94032-0.63047-2.10867-0.29000.h5\n",
      "Epoch 18/20\n",
      "21/21 [==============================] - 44s 2s/step - loss: 0.8695 - categorical_accuracy: 0.6471 - val_loss: 2.0051 - val_categorical_accuracy: 0.3400\n",
      "\n",
      "Epoch 00018: saving model to model_init_2021-10-2403_40_28.846484/model-00018-0.86954-0.64706-2.00506-0.34000.h5\n",
      "Epoch 19/20\n",
      "21/21 [==============================] - 44s 2s/step - loss: 0.8776 - categorical_accuracy: 0.6471 - val_loss: 1.8028 - val_categorical_accuracy: 0.3500\n",
      "\n",
      "Epoch 00019: saving model to model_init_2021-10-2403_40_28.846484/model-00019-0.87755-0.64706-1.80279-0.35000.h5\n",
      "Epoch 20/20\n",
      "21/21 [==============================] - 42s 2s/step - loss: 0.8749 - categorical_accuracy: 0.6606 - val_loss: 1.6371 - val_categorical_accuracy: 0.4000\n",
      "\n",
      "Epoch 00020: saving model to model_init_2021-10-2403_40_28.846484/model-00020-0.87494-0.66063-1.63715-0.40000.h5\n"
     ]
    }
   ],
   "source": [
    "history = model.fit_generator(train_generator, steps_per_epoch=steps_per_epoch, epochs=num_epochs, verbose=1, \n",
    "                    callbacks=callbacks_list, validation_data=val_generator, \n",
    "                    validation_steps=validation_steps, class_weight=None, workers=1, initial_epoch=0)"
   ]
  },
  {
   "cell_type": "code",
   "execution_count": 13,
   "metadata": {
    "colab": {
     "base_uri": "https://localhost:8080/",
     "height": 265
    },
    "id": "O1NTVYtx0VTc",
    "outputId": "0f63d56b-deff-40ec-a891-b5049c013368"
   },
   "outputs": [
    {
     "data": {
      "image/png": "[encoded data removed]",
      "text/plain": [
       "<Figure size 1080x288 with 2 Axes>"
      ]
     },
     "metadata": {
      "needs_background": "light"
     },
     "output_type": "display_data"
    }
   ],
   "source": [
    "import matplotlib.pyplot as plt\n",
    "\n",
    "fig, axes = plt.subplots(nrows=1, ncols=2, figsize=(15,4))\n",
    "axes[0].plot(history.history['loss'])   \n",
    "axes[0].plot(history.history['val_loss'])\n",
    "axes[0].legend(['loss','val_loss'])\n",
    "\n",
    "axes[1].plot(history.history['categorical_accuracy'])   \n",
    "axes[1].plot(history.history['val_categorical_accuracy'])\n",
    "axes[1].legend(['categorical_accuracy','val_categorical_accuracy'])\n",
    "\n",
    "plt.savefig('model1.png')"
   ]
  },
  {
   "cell_type": "markdown",
   "metadata": {},
   "source": [
    "## Summary for Model 1:\n",
    "\n",
    "Even after 20 epochs the model is still overfitting the data. "
   ]
  },
  {
   "cell_type": "code",
   "execution_count": 14,
   "metadata": {
    "colab": {
     "base_uri": "https://localhost:8080/"
    },
    "id": "jKcHn6eA0VTd",
    "outputId": "52f67775-c010-4a14-874f-2060cf2d5134"
   },
   "outputs": [
    {
     "name": "stdout",
     "output_type": "stream",
     "text": [
      "# training sequences = 663\n",
      "# validation sequences = 100\n",
      "# epochs = 20\n"
     ]
    }
   ],
   "source": [
    "#Model 2\n",
    "train_doc = np.random.permutation(open(r'/content/project_data/train.csv').readlines())\n",
    "val_doc = np.random.permutation(open(r'/content/project_data/val.csv').readlines())\n",
    "batch_size = 32\n",
    "\n",
    "# Image Data Generator\n",
    "def generator1(source_path, folder_list, batch_size):\n",
    "    print( 'Source path = ', source_path, '; batch size =', batch_size)\n",
    "    # It is not possible to work with all the 30 images, as it will take too long processing time.\n",
    "    # So lets choose randomly 18 images\n",
    "    img_idx = [0,1,2,4,6,8,10,12,14,16,18,20,22,24,26,27,28,29] #create a list of image numbers you want to use for a particular video(incase if u want to try with lesser images)\n",
    "    x, y, z = len(img_idx), 100, 100\n",
    "    while True:\n",
    "        t = np.random.permutation(folder_list)\n",
    "        num_batches = len(t)//batch_size # calculate the number of batches\n",
    "        for batch in range(num_batches): # we iterate over the number of batches\n",
    "            batch_data = np.zeros((batch_size,x,y,z,3)) # x is the number of images you use for each video, (y,z) is the final size of the input images and 3 is the number of channels RGB\n",
    "            batch_labels = np.zeros((batch_size,5)) # batch_labels is the one hot representation of the output\n",
    "            for folder in range(batch_size): # iterate over the batch_size\n",
    "                imgs = os.listdir(source_path+'/'+ t[folder + (batch*batch_size)].split(';')[0]) # read all the images in the folder\n",
    "                for idx,item in enumerate(img_idx): #  Iterate iver the frames/images of a folder to read them in\n",
    "                    image = imread(source_path+'/'+ t[folder + (batch*batch_size)].strip().split(';')[0]+'/'+imgs[item]).astype(np.float32)\n",
    "                    \n",
    "                    #crop the images and resize them. Note that the images are of 2 different shape \n",
    "                    #and the conv3D will throw error if the inputs in a batch have different shapes\n",
    "                    image = imresize(image[:,20:140,:],(100,100)).astype(np.float32)\n",
    "                    image = image/255.0\n",
    "                    batch_data[folder,idx,:,:,0] =(image[:,:,0]) #normalise and feed in the image # divide by 255.0\n",
    "                    batch_data[folder,idx,:,:,1] =(image[:,:,1])#normalise and feed in the image\n",
    "                    batch_data[folder,idx,:,:,2] =(image[:,:,2]) #normalise and feed in the image\n",
    "                    \n",
    "                batch_labels[folder, int(t[folder + (batch*batch_size)].strip().split(';')[2])] = 1 # OHE\n",
    "            yield batch_data, batch_labels #you yield the batch_data and the batch_labels, remember what does yield do\n",
    "\n",
    "        \n",
    "        # write the code for the remaining data points which are left after full batches\n",
    "        if(len(t)%batch_size)!=0:\n",
    "            batch_data = np.zeros((len(t)%batch_size,x,y,z,3)) # x is the number of images you use for each video, (y,z) is the final size of the input images and 3 is the number of channels RGB\n",
    "            batch_labels = np.zeros((len(t)%batch_size,5)) # batch_labels is the one hot representation of the output\n",
    "            for folder in range(len(t)%batch_size): # iterate over the batch_size\n",
    "                imgs = os.listdir(source_path+'/'+ t[folder + (num_batches*batch_size)].split(';')[0]) # read all the images in the folder\n",
    "                for idx,item in enumerate(img_idx): #  Iterate iver the frames/images of a folder to read them in\n",
    "                    image = imread(source_path+'/'+ t[folder + (num_batches*batch_size)].strip().split(';')[0]+'/'+imgs[item]).astype(np.float32)\n",
    "                    \n",
    "                    #crop the images and resize them. Note that the images are of 2 different shape \n",
    "                    #and the conv3D will throw error if the inputs in a batch have different shapes\n",
    "                    image = imresize(image[:,20:140,:],(100,100)).astype(np.float32)\n",
    "                    image = image/255.0\n",
    "                    batch_data[folder,idx,:,:,0] = (image[:,:,0])#normalise and feed in the image # divide by 255.0\n",
    "                    batch_data[folder,idx,:,:,1] = (image[:,:,1])#normalise and feed in the image\n",
    "                    batch_data[folder,idx,:,:,2] = (image[:,:,2])#normalise and feed in the image\n",
    "                    \n",
    "                batch_labels[folder, int(t[folder + (num_batches*batch_size)].strip().split(';')[2])] = 1 # OHE\n",
    "            yield batch_data, batch_labels\n",
    "\n",
    "curr_dt_time = datetime.datetime.now()\n",
    "train_path = r'/content/project_data/train'\n",
    "val_path = r'/content/project_data/val'\n",
    "num_train_sequences = len(train_doc) \n",
    "print('# training sequences =', num_train_sequences)\n",
    "num_val_sequences = len(val_doc) \n",
    "print('# validation sequences =', num_val_sequences)\n",
    "num_epochs = 20 \n",
    "print ('# epochs =', num_epochs)\n",
    "\n",
    "# Model 2 after dropping few layers\n",
    "\n",
    "# Batch_size = 32\n",
    "# image_shape = 100, 100, 3\n",
    "# epochs = 20\n",
    "# When given the bacth_size of 64 OOM error is generated by the GPU.\n",
    "\n",
    "model1 = Sequential()\n",
    "model1.add(Conv3D(64, (3,3,3), strides=(1,1,1), padding='same', input_shape=(18,100,100,3)))\n",
    "model1.add(BatchNormalization())\n",
    "model1.add(Activation('elu'))\n",
    "model1.add(MaxPooling3D(pool_size=(2,2,1), strides=(2,2,1)))\n",
    "\n",
    "model1.add(Conv3D(128, (3,3,3), strides=(1,1,1), padding='same', input_shape=(18,100,100,3)))\n",
    "model1.add(BatchNormalization())\n",
    "model1.add(Activation('elu'))\n",
    "model1.add(MaxPooling3D(pool_size=(2,2,2), strides=(2,2,2)))\n",
    "\n",
    "model1.add(Conv3D(256, (3,3,3), strides=(1,1,1), padding='same', input_shape=(18,100,100,3)))\n",
    "model1.add(BatchNormalization())\n",
    "model1.add(Activation('elu'))\n",
    "model1.add(MaxPooling3D(pool_size=(2,2,1), strides=(2,2,1)))\n",
    "\n",
    "model1.add(Flatten())\n",
    "model1.add(Dropout(0.5))\n",
    "model1.add(Dense(512, activation='elu'))\n",
    "model1.add(Dropout(0.5))\n",
    "model1.add(Dense(5, activation='softmax'))"
   ]
  },
  {
   "cell_type": "code",
   "execution_count": 15,
   "metadata": {
    "colab": {
     "base_uri": "https://localhost:8080/"
    },
    "id": "aTiDNwJVBmAG",
    "outputId": "d9035c69-8462-4bf3-9ed8-6db6be942f78"
   },
   "outputs": [
    {
     "name": "stdout",
     "output_type": "stream",
     "text": [
      "Model: \"sequential_1\"\n",
      "_________________________________________________________________\n",
      "Layer (type)                 Output Shape              Param #   \n",
      "=================================================================\n",
      "conv3d_4 (Conv3D)            (None, 18, 100, 100, 64)  5248      \n",
      "_________________________________________________________________\n",
      "batch_normalization_6 (Batch (None, 18, 100, 100, 64)  256       \n",
      "_________________________________________________________________\n",
      "activation_4 (Activation)    (None, 18, 100, 100, 64)  0         \n",
      "_________________________________________________________________\n",
      "max_pooling3d_4 (MaxPooling3 (None, 9, 50, 100, 64)    0         \n",
      "_________________________________________________________________\n",
      "conv3d_5 (Conv3D)            (None, 9, 50, 100, 128)   221312    \n",
      "_________________________________________________________________\n",
      "batch_normalization_7 (Batch (None, 9, 50, 100, 128)   512       \n",
      "_________________________________________________________________\n",
      "activation_5 (Activation)    (None, 9, 50, 100, 128)   0         \n",
      "_________________________________________________________________\n",
      "max_pooling3d_5 (MaxPooling3 (None, 4, 25, 50, 128)    0         \n",
      "_________________________________________________________________\n",
      "conv3d_6 (Conv3D)            (None, 4, 25, 50, 256)    884992    \n",
      "_________________________________________________________________\n",
      "batch_normalization_8 (Batch (None, 4, 25, 50, 256)    1024      \n",
      "_________________________________________________________________\n",
      "activation_6 (Activation)    (None, 4, 25, 50, 256)    0         \n",
      "_________________________________________________________________\n",
      "max_pooling3d_6 (MaxPooling3 (None, 2, 12, 50, 256)    0         \n",
      "_________________________________________________________________\n",
      "flatten_1 (Flatten)          (None, 307200)            0         \n",
      "_________________________________________________________________\n",
      "dropout_2 (Dropout)          (None, 307200)            0         \n",
      "_________________________________________________________________\n",
      "dense_3 (Dense)              (None, 512)               157286912 \n",
      "_________________________________________________________________\n",
      "dropout_3 (Dropout)          (None, 512)               0         \n",
      "_________________________________________________________________\n",
      "dense_4 (Dense)              (None, 5)                 2565      \n",
      "=================================================================\n",
      "Total params: 158,402,821\n",
      "Trainable params: 158,401,925\n",
      "Non-trainable params: 896\n",
      "_________________________________________________________________\n",
      "None\n"
     ]
    }
   ],
   "source": [
    "optimiser1 = tf.keras.optimizers.SGD(lr=0.001, decay=1e-6, momentum=0.7) #write your optimizer\n",
    "model1.compile(optimizer=optimiser1, loss='categorical_crossentropy', metrics=['categorical_accuracy'])\n",
    "print (model1.summary())"
   ]
  },
  {
   "cell_type": "code",
   "execution_count": 16,
   "metadata": {
    "id": "UQABcYwGBpNJ"
   },
   "outputs": [],
   "source": [
    "train_generator = generator1(train_path, train_doc, batch_size)\n",
    "val_generator = generator1(val_path, val_doc, batch_size)"
   ]
  },
  {
   "cell_type": "code",
   "execution_count": 17,
   "metadata": {
    "colab": {
     "base_uri": "https://localhost:8080/"
    },
    "id": "UJqfT-9pBsvh",
    "outputId": "7572d19d-d449-439e-f221-0194e9b4d47f"
   },
   "outputs": [
    {
     "name": "stdout",
     "output_type": "stream",
     "text": [
      "WARNING:tensorflow:`period` argument is deprecated. Please use `save_freq` to specify the frequency in number of batches seen.\n",
      "WARNING:tensorflow:`epsilon` argument is deprecated and will be removed, use `min_delta` instead.\n"
     ]
    }
   ],
   "source": [
    "model_name = 'model_init' + '_' + str(curr_dt_time).replace(' ','').replace(':','_') + '/'\n",
    "# model_init_1-_25_43/model-epoch:01-loss:0.9876-categorical_accuracy:0.76545......\n",
    "\n",
    "if not os.path.exists(model_name):\n",
    "    os.mkdir(model_name)\n",
    "        \n",
    "filepath = model_name + 'model-{epoch:05d}-{loss:.5f}-{categorical_accuracy:.5f}-{val_loss:.5f}-{val_categorical_accuracy:.5f}.h5'\n",
    "\n",
    "checkpoint = ModelCheckpoint(filepath, monitor='val_loss', verbose=1, save_best_only=False, save_weights_only=False, mode='auto', period=1)\n",
    "# ModelCheckpoint - saves weight and model after every epoch\n",
    "LR = ReduceLROnPlateau(monitor='val_loss', factor=0.5, patience=2, verbose=1, mode='min', epsilon=0.0001, cooldown=0, min_lr=0.00001) # write the REducelronplateau code here\n",
    "callbacks_list = [checkpoint, LR]"
   ]
  },
  {
   "cell_type": "code",
   "execution_count": 18,
   "metadata": {
    "id": "rTfTSWgzBxcM"
   },
   "outputs": [],
   "source": [
    "if (num_train_sequences%batch_size) == 0:\n",
    "    steps_per_epoch = int(num_train_sequences/batch_size)\n",
    "\n",
    "else:\n",
    "    steps_per_epoch = (num_train_sequences//batch_size) + 1\n",
    "\n",
    "if (num_val_sequences%batch_size) == 0:\n",
    "    validation_steps = int(num_val_sequences/batch_size)\n",
    "else:\n",
    "    validation_steps = (num_val_sequences//batch_size) + 1"
   ]
  },
  {
   "cell_type": "code",
   "execution_count": 19,
   "metadata": {
    "colab": {
     "base_uri": "https://localhost:8080/",
     "height": 510
    },
    "id": "LQJ1AhndB2fY",
    "outputId": "91549257-8ca9-4b20-ab52-abc9109dcb65"
   },
   "outputs": [
    {
     "name": "stdout",
     "output_type": "stream",
     "text": [
      "Source path =  /content/project_data/train ; batch size = 32\n",
      "Epoch 1/20\n"
     ]
    },
    {
     "ename": "ResourceExhaustedError",
     "evalue": "ignored",
     "output_type": "error",
     "traceback": [
      "\u001b[0;31m---------------------------------------------------------------------------\u001b[0m",
      "\u001b[0;31mResourceExhaustedError\u001b[0m                    Traceback (most recent call last)",
      "\u001b[0;32m<ipython-input-19-d99f48b20542>\u001b[0m in \u001b[0;36m<module>\u001b[0;34m()\u001b[0m\n\u001b[1;32m      1\u001b[0m history1 = model1.fit_generator(train_generator, steps_per_epoch=steps_per_epoch, epochs=num_epochs, verbose=1, \n\u001b[1;32m      2\u001b[0m                     \u001b[0mcallbacks\u001b[0m\u001b[0;34m=\u001b[0m\u001b[0mcallbacks_list\u001b[0m\u001b[0;34m,\u001b[0m \u001b[0mvalidation_data\u001b[0m\u001b[0;34m=\u001b[0m\u001b[0mval_generator\u001b[0m\u001b[0;34m,\u001b[0m\u001b[0;34m\u001b[0m\u001b[0;34m\u001b[0m\u001b[0m\n\u001b[0;32m----> 3\u001b[0;31m                     validation_steps=validation_steps, class_weight=None, workers=1, initial_epoch=0)\n\u001b[0m",
      "\u001b[0;32m/usr/local/lib/python3.7/dist-packages/keras/engine/training.py\u001b[0m in \u001b[0;36mfit_generator\u001b[0;34m(self, generator, steps_per_epoch, epochs, verbose, callbacks, validation_data, validation_steps, validation_freq, class_weight, max_queue_size, workers, use_multiprocessing, shuffle, initial_epoch)\u001b[0m\n\u001b[1;32m   1987\u001b[0m         \u001b[0muse_multiprocessing\u001b[0m\u001b[0;34m=\u001b[0m\u001b[0muse_multiprocessing\u001b[0m\u001b[0;34m,\u001b[0m\u001b[0;34m\u001b[0m\u001b[0;34m\u001b[0m\u001b[0m\n\u001b[1;32m   1988\u001b[0m         \u001b[0mshuffle\u001b[0m\u001b[0;34m=\u001b[0m\u001b[0mshuffle\u001b[0m\u001b[0;34m,\u001b[0m\u001b[0;34m\u001b[0m\u001b[0;34m\u001b[0m\u001b[0m\n\u001b[0;32m-> 1989\u001b[0;31m         initial_epoch=initial_epoch)\n\u001b[0m\u001b[1;32m   1990\u001b[0m \u001b[0;34m\u001b[0m\u001b[0m\n\u001b[1;32m   1991\u001b[0m   \u001b[0;34m@\u001b[0m\u001b[0mdoc_controls\u001b[0m\u001b[0;34m.\u001b[0m\u001b[0mdo_not_generate_docs\u001b[0m\u001b[0;34m\u001b[0m\u001b[0;34m\u001b[0m\u001b[0m\n",
      "\u001b[0;32m/usr/local/lib/python3.7/dist-packages/keras/engine/training.py\u001b[0m in \u001b[0;36mfit\u001b[0;34m(self, x, y, batch_size, epochs, verbose, callbacks, validation_split, validation_data, shuffle, class_weight, sample_weight, initial_epoch, steps_per_epoch, validation_steps, validation_batch_size, validation_freq, max_queue_size, workers, use_multiprocessing)\u001b[0m\n\u001b[1;32m   1182\u001b[0m                 _r=1):\n\u001b[1;32m   1183\u001b[0m               \u001b[0mcallbacks\u001b[0m\u001b[0;34m.\u001b[0m\u001b[0mon_train_batch_begin\u001b[0m\u001b[0;34m(\u001b[0m\u001b[0mstep\u001b[0m\u001b[0;34m)\u001b[0m\u001b[0;34m\u001b[0m\u001b[0;34m\u001b[0m\u001b[0m\n\u001b[0;32m-> 1184\u001b[0;31m               \u001b[0mtmp_logs\u001b[0m \u001b[0;34m=\u001b[0m \u001b[0mself\u001b[0m\u001b[0;34m.\u001b[0m\u001b[0mtrain_function\u001b[0m\u001b[0;34m(\u001b[0m\u001b[0miterator\u001b[0m\u001b[0;34m)\u001b[0m\u001b[0;34m\u001b[0m\u001b[0;34m\u001b[0m\u001b[0m\n\u001b[0m\u001b[1;32m   1185\u001b[0m               \u001b[0;32mif\u001b[0m \u001b[0mdata_handler\u001b[0m\u001b[0;34m.\u001b[0m\u001b[0mshould_sync\u001b[0m\u001b[0;34m:\u001b[0m\u001b[0;34m\u001b[0m\u001b[0;34m\u001b[0m\u001b[0m\n\u001b[1;32m   1186\u001b[0m                 \u001b[0mcontext\u001b[0m\u001b[0;34m.\u001b[0m\u001b[0masync_wait\u001b[0m\u001b[0;34m(\u001b[0m\u001b[0;34m)\u001b[0m\u001b[0;34m\u001b[0m\u001b[0;34m\u001b[0m\u001b[0m\n",
      "\u001b[0;32m/usr/local/lib/python3.7/dist-packages/tensorflow/python/eager/def_function.py\u001b[0m in \u001b[0;36m__call__\u001b[0;34m(self, *args, **kwds)\u001b[0m\n\u001b[1;32m    883\u001b[0m \u001b[0;34m\u001b[0m\u001b[0m\n\u001b[1;32m    884\u001b[0m       \u001b[0;32mwith\u001b[0m \u001b[0mOptionalXlaContext\u001b[0m\u001b[0;34m(\u001b[0m\u001b[0mself\u001b[0m\u001b[0;34m.\u001b[0m\u001b[0m_jit_compile\u001b[0m\u001b[0;34m)\u001b[0m\u001b[0;34m:\u001b[0m\u001b[0;34m\u001b[0m\u001b[0;34m\u001b[0m\u001b[0m\n\u001b[0;32m--> 885\u001b[0;31m         \u001b[0mresult\u001b[0m \u001b[0;34m=\u001b[0m \u001b[0mself\u001b[0m\u001b[0;34m.\u001b[0m\u001b[0m_call\u001b[0m\u001b[0;34m(\u001b[0m\u001b[0;34m*\u001b[0m\u001b[0margs\u001b[0m\u001b[0;34m,\u001b[0m \u001b[0;34m**\u001b[0m\u001b[0mkwds\u001b[0m\u001b[0;34m)\u001b[0m\u001b[0;34m\u001b[0m\u001b[0;34m\u001b[0m\u001b[0m\n\u001b[0m\u001b[1;32m    886\u001b[0m \u001b[0;34m\u001b[0m\u001b[0m\n\u001b[1;32m    887\u001b[0m       \u001b[0mnew_tracing_count\u001b[0m \u001b[0;34m=\u001b[0m \u001b[0mself\u001b[0m\u001b[0;34m.\u001b[0m\u001b[0mexperimental_get_tracing_count\u001b[0m\u001b[0;34m(\u001b[0m\u001b[0;34m)\u001b[0m\u001b[0;34m\u001b[0m\u001b[0;34m\u001b[0m\u001b[0m\n",
      "\u001b[0;32m/usr/local/lib/python3.7/dist-packages/tensorflow/python/eager/def_function.py\u001b[0m in \u001b[0;36m_call\u001b[0;34m(self, *args, **kwds)\u001b[0m\n\u001b[1;32m    948\u001b[0m         \u001b[0;31m# Lifting succeeded, so variables are initialized and we can run the\u001b[0m\u001b[0;34m\u001b[0m\u001b[0;34m\u001b[0m\u001b[0;34m\u001b[0m\u001b[0m\n\u001b[1;32m    949\u001b[0m         \u001b[0;31m# stateless function.\u001b[0m\u001b[0;34m\u001b[0m\u001b[0;34m\u001b[0m\u001b[0;34m\u001b[0m\u001b[0m\n\u001b[0;32m--> 950\u001b[0;31m         \u001b[0;32mreturn\u001b[0m \u001b[0mself\u001b[0m\u001b[0;34m.\u001b[0m\u001b[0m_stateless_fn\u001b[0m\u001b[0;34m(\u001b[0m\u001b[0;34m*\u001b[0m\u001b[0margs\u001b[0m\u001b[0;34m,\u001b[0m \u001b[0;34m**\u001b[0m\u001b[0mkwds\u001b[0m\u001b[0;34m)\u001b[0m\u001b[0;34m\u001b[0m\u001b[0;34m\u001b[0m\u001b[0m\n\u001b[0m\u001b[1;32m    951\u001b[0m     \u001b[0;32melse\u001b[0m\u001b[0;34m:\u001b[0m\u001b[0;34m\u001b[0m\u001b[0;34m\u001b[0m\u001b[0m\n\u001b[1;32m    952\u001b[0m       \u001b[0m_\u001b[0m\u001b[0;34m,\u001b[0m \u001b[0m_\u001b[0m\u001b[0;34m,\u001b[0m \u001b[0m_\u001b[0m\u001b[0;34m,\u001b[0m \u001b[0mfiltered_flat_args\u001b[0m \u001b[0;34m=\u001b[0m\u001b[0;31m \u001b[0m\u001b[0;31m\\\u001b[0m\u001b[0;34m\u001b[0m\u001b[0;34m\u001b[0m\u001b[0m\n",
      "\u001b[0;32m/usr/local/lib/python3.7/dist-packages/tensorflow/python/eager/function.py\u001b[0m in \u001b[0;36m__call__\u001b[0;34m(self, *args, **kwargs)\u001b[0m\n\u001b[1;32m   3038\u001b[0m        filtered_flat_args) = self._maybe_define_function(args, kwargs)\n\u001b[1;32m   3039\u001b[0m     return graph_function._call_flat(\n\u001b[0;32m-> 3040\u001b[0;31m         filtered_flat_args, captured_inputs=graph_function.captured_inputs)  # pylint: disable=protected-access\n\u001b[0m\u001b[1;32m   3041\u001b[0m \u001b[0;34m\u001b[0m\u001b[0m\n\u001b[1;32m   3042\u001b[0m   \u001b[0;34m@\u001b[0m\u001b[0mproperty\u001b[0m\u001b[0;34m\u001b[0m\u001b[0;34m\u001b[0m\u001b[0m\n",
      "\u001b[0;32m/usr/local/lib/python3.7/dist-packages/tensorflow/python/eager/function.py\u001b[0m in \u001b[0;36m_call_flat\u001b[0;34m(self, args, captured_inputs, cancellation_manager)\u001b[0m\n\u001b[1;32m   1962\u001b[0m       \u001b[0;31m# No tape is watching; skip to running the function.\u001b[0m\u001b[0;34m\u001b[0m\u001b[0;34m\u001b[0m\u001b[0;34m\u001b[0m\u001b[0m\n\u001b[1;32m   1963\u001b[0m       return self._build_call_outputs(self._inference_function.call(\n\u001b[0;32m-> 1964\u001b[0;31m           ctx, args, cancellation_manager=cancellation_manager))\n\u001b[0m\u001b[1;32m   1965\u001b[0m     forward_backward = self._select_forward_and_backward_functions(\n\u001b[1;32m   1966\u001b[0m         \u001b[0margs\u001b[0m\u001b[0;34m,\u001b[0m\u001b[0;34m\u001b[0m\u001b[0;34m\u001b[0m\u001b[0m\n",
      "\u001b[0;32m/usr/local/lib/python3.7/dist-packages/tensorflow/python/eager/function.py\u001b[0m in \u001b[0;36mcall\u001b[0;34m(self, ctx, args, cancellation_manager)\u001b[0m\n\u001b[1;32m    594\u001b[0m               \u001b[0minputs\u001b[0m\u001b[0;34m=\u001b[0m\u001b[0margs\u001b[0m\u001b[0;34m,\u001b[0m\u001b[0;34m\u001b[0m\u001b[0;34m\u001b[0m\u001b[0m\n\u001b[1;32m    595\u001b[0m               \u001b[0mattrs\u001b[0m\u001b[0;34m=\u001b[0m\u001b[0mattrs\u001b[0m\u001b[0;34m,\u001b[0m\u001b[0;34m\u001b[0m\u001b[0;34m\u001b[0m\u001b[0m\n\u001b[0;32m--> 596\u001b[0;31m               ctx=ctx)\n\u001b[0m\u001b[1;32m    597\u001b[0m         \u001b[0;32melse\u001b[0m\u001b[0;34m:\u001b[0m\u001b[0;34m\u001b[0m\u001b[0;34m\u001b[0m\u001b[0m\n\u001b[1;32m    598\u001b[0m           outputs = execute.execute_with_cancellation(\n",
      "\u001b[0;32m/usr/local/lib/python3.7/dist-packages/tensorflow/python/eager/execute.py\u001b[0m in \u001b[0;36mquick_execute\u001b[0;34m(op_name, num_outputs, inputs, attrs, ctx, name)\u001b[0m\n\u001b[1;32m     58\u001b[0m     \u001b[0mctx\u001b[0m\u001b[0;34m.\u001b[0m\u001b[0mensure_initialized\u001b[0m\u001b[0;34m(\u001b[0m\u001b[0;34m)\u001b[0m\u001b[0;34m\u001b[0m\u001b[0;34m\u001b[0m\u001b[0m\n\u001b[1;32m     59\u001b[0m     tensors = pywrap_tfe.TFE_Py_Execute(ctx._handle, device_name, op_name,\n\u001b[0;32m---> 60\u001b[0;31m                                         inputs, attrs, num_outputs)\n\u001b[0m\u001b[1;32m     61\u001b[0m   \u001b[0;32mexcept\u001b[0m \u001b[0mcore\u001b[0m\u001b[0;34m.\u001b[0m\u001b[0m_NotOkStatusException\u001b[0m \u001b[0;32mas\u001b[0m \u001b[0me\u001b[0m\u001b[0;34m:\u001b[0m\u001b[0;34m\u001b[0m\u001b[0;34m\u001b[0m\u001b[0m\n\u001b[1;32m     62\u001b[0m     \u001b[0;32mif\u001b[0m \u001b[0mname\u001b[0m \u001b[0;32mis\u001b[0m \u001b[0;32mnot\u001b[0m \u001b[0;32mNone\u001b[0m\u001b[0;34m:\u001b[0m\u001b[0;34m\u001b[0m\u001b[0;34m\u001b[0m\u001b[0m\n",
      "\u001b[0;31mResourceExhaustedError\u001b[0m:  OOM when allocating tensor with shape[32,128,9,50,100] and type float on /job:localhost/replica:0/task:0/device:GPU:0 by allocator GPU_0_bfc\n\t [[node gradient_tape/sequential_1/max_pooling3d_5/MaxPool3D/MaxPool3DGrad (defined at <ipython-input-19-d99f48b20542>:3) ]]\nHint: If you want to see a list of allocated tensors when OOM happens, add report_tensor_allocations_upon_oom to RunOptions for current allocation info. This isn't available when running in Eager mode.\n [Op:__inference_train_function_7220]\n\nFunction call stack:\ntrain_function\n"
     ]
    }
   ],
   "source": [
    "history1 = model1.fit_generator(train_generator, steps_per_epoch=steps_per_epoch, epochs=num_epochs, verbose=1, \n",
    "                    callbacks=callbacks_list, validation_data=val_generator, \n",
    "                    validation_steps=validation_steps, class_weight=None, workers=1, initial_epoch=0)"
   ]
  },
  {
   "cell_type": "markdown",
   "metadata": {},
   "source": [
    "## Summary for Model 2:\n",
    "OOM Error because of Large tensor size."
   ]
  },
  {
   "cell_type": "code",
   "execution_count": 20,
   "metadata": {
    "colab": {
     "base_uri": "https://localhost:8080/"
    },
    "id": "xpAWMikACvV9",
    "outputId": "5771a299-cebe-4561-c794-e590450e868e"
   },
   "outputs": [
    {
     "name": "stdout",
     "output_type": "stream",
     "text": [
      "# training sequences = 663\n",
      "# validation sequences = 100\n",
      "# epochs = 20\n"
     ]
    }
   ],
   "source": [
    "# Model 3\n",
    "train_doc = np.random.permutation(open(r'/content/project_data/train.csv').readlines())\n",
    "val_doc = np.random.permutation(open(r'/content/project_data/val.csv').readlines())\n",
    "batch_size = 10\n",
    "\n",
    "# Image Data Generator\n",
    "def generator2(source_path, folder_list, batch_size):\n",
    "    print( 'Source path = ', source_path, '; batch size =', batch_size)\n",
    "    # It is not possible to work with all the 30 images, as it will take too long processing time.\n",
    "    # So lets choose randomly 18 images\n",
    "    img_idx = [0,1,2,4,6,8,10,12,14,16,18,20,22,24,26,27,28,29] #create a list of image numbers you want to use for a particular video(incase if u want to try with lesser images)\n",
    "    x, y, z = len(img_idx), 100, 100\n",
    "    while True:\n",
    "        t = np.random.permutation(folder_list)\n",
    "        num_batches = len(t)//batch_size # calculate the number of batches\n",
    "        for batch in range(num_batches): # we iterate over the number of batches\n",
    "            batch_data = np.zeros((batch_size,x,y,z,3)) # x is the number of images you use for each video, (y,z) is the final size of the input images and 3 is the number of channels RGB\n",
    "            batch_labels = np.zeros((batch_size,5)) # batch_labels is the one hot representation of the output\n",
    "            for folder in range(batch_size): # iterate over the batch_size\n",
    "                imgs = os.listdir(source_path+'/'+ t[folder + (batch*batch_size)].split(';')[0]) # read all the images in the folder\n",
    "                for idx,item in enumerate(img_idx): #  Iterate iver the frames/images of a folder to read them in\n",
    "                    image = imread(source_path+'/'+ t[folder + (batch*batch_size)].strip().split(';')[0]+'/'+imgs[item]).astype(np.float32)\n",
    "                    \n",
    "                    #crop the images and resize them. Note that the images are of 2 different shape \n",
    "                    #and the conv3D will throw error if the inputs in a batch have different shapes\n",
    "                    image = imresize(image[:,20:140,:],(100,100)).astype(np.float32)\n",
    "                    image = image/255.0\n",
    "                    batch_data[folder,idx,:,:,0] =(image[:,:,0]) #normalise and feed in the image # divide by 255.0\n",
    "                    batch_data[folder,idx,:,:,1] =(image[:,:,1])#normalise and feed in the image\n",
    "                    batch_data[folder,idx,:,:,2] =(image[:,:,2]) #normalise and feed in the image\n",
    "                    \n",
    "                batch_labels[folder, int(t[folder + (batch*batch_size)].strip().split(';')[2])] = 1 # OHE\n",
    "            yield batch_data, batch_labels #you yield the batch_data and the batch_labels, remember what does yield do\n",
    "\n",
    "        \n",
    "        # write the code for the remaining data points which are left after full batches\n",
    "        if(len(t)%batch_size)!=0:\n",
    "            batch_data = np.zeros((len(t)%batch_size,x,y,z,3)) # x is the number of images you use for each video, (y,z) is the final size of the input images and 3 is the number of channels RGB\n",
    "            batch_labels = np.zeros((len(t)%batch_size,5)) # batch_labels is the one hot representation of the output\n",
    "            for folder in range(len(t)%batch_size): # iterate over the batch_size\n",
    "                imgs = os.listdir(source_path+'/'+ t[folder + (num_batches*batch_size)].split(';')[0]) # read all the images in the folder\n",
    "                for idx,item in enumerate(img_idx): #  Iterate iver the frames/images of a folder to read them in\n",
    "                    image = imread(source_path+'/'+ t[folder + (num_batches*batch_size)].strip().split(';')[0]+'/'+imgs[item]).astype(np.float32)\n",
    "                    \n",
    "                    #crop the images and resize them. Note that the images are of 2 different shape \n",
    "                    #and the conv3D will throw error if the inputs in a batch have different shapes\n",
    "                    image = imresize(image[:,20:140,:],(100,100)).astype(np.float32)\n",
    "                    image = image/255.0\n",
    "                    batch_data[folder,idx,:,:,0] = (image[:,:,0])#normalise and feed in the image # divide by 255.0\n",
    "                    batch_data[folder,idx,:,:,1] = (image[:,:,1])#normalise and feed in the image\n",
    "                    batch_data[folder,idx,:,:,2] = (image[:,:,2])#normalise and feed in the image\n",
    "                    \n",
    "                batch_labels[folder, int(t[folder + (num_batches*batch_size)].strip().split(';')[2])] = 1 # OHE\n",
    "            yield batch_data, batch_labels\n",
    "\n",
    "curr_dt_time = datetime.datetime.now()\n",
    "train_path = r'/content/project_data/train'\n",
    "val_path = r'/content/project_data/val'\n",
    "num_train_sequences = len(train_doc) \n",
    "print('# training sequences =', num_train_sequences)\n",
    "num_val_sequences = len(val_doc) \n",
    "print('# validation sequences =', num_val_sequences)\n",
    "num_epochs = 20 \n",
    "print ('# epochs =', num_epochs)\n",
    "\n",
    "# Model 3 after Resizing the tensor size\n",
    "\n",
    "# Batch_size = 10\n",
    "# image_shape = 100, 100, 3\n",
    "# epochs = 20\n",
    "\n",
    "model2 = Sequential()\n",
    "model2.add(Conv3D(64, (3,3,3), strides=(1,1,1), padding='same', input_shape=(18,100,100,3)))\n",
    "model2.add(BatchNormalization())\n",
    "model2.add(Activation('elu'))\n",
    "model2.add(MaxPooling3D(pool_size=(2,2,1), strides=(2,2,1)))\n",
    "\n",
    "model2.add(Conv3D(128, (3,3,3), strides=(1,1,1), padding='same', input_shape=(18,100,100,3)))\n",
    "model2.add(BatchNormalization())\n",
    "model2.add(Activation('elu'))\n",
    "model2.add(MaxPooling3D(pool_size=(2,2,2), strides=(2,2,2)))\n",
    "\n",
    "model2.add(Conv3D(256, (3,3,3), strides=(1,1,1), padding='same', input_shape=(18,100,100,3)))\n",
    "model2.add(BatchNormalization())\n",
    "model2.add(Activation('elu'))\n",
    "model2.add(MaxPooling3D(pool_size=(2,2,1), strides=(2,2,1)))\n",
    "\n",
    "model2.add(Flatten())\n",
    "model2.add(Dropout(0.5))\n",
    "model2.add(Dense(512, activation='elu'))\n",
    "model2.add(Dropout(0.5))\n",
    "model2.add(Dense(5, activation='softmax'))\n"
   ]
  },
  {
   "cell_type": "code",
   "execution_count": 21,
   "metadata": {
    "colab": {
     "base_uri": "https://localhost:8080/"
    },
    "id": "eU3oCi3JEUaL",
    "outputId": "d88bb4f5-78a9-44ea-d7c0-0796441ae1ed"
   },
   "outputs": [
    {
     "name": "stdout",
     "output_type": "stream",
     "text": [
      "Model: \"sequential_2\"\n",
      "_________________________________________________________________\n",
      "Layer (type)                 Output Shape              Param #   \n",
      "=================================================================\n",
      "conv3d_7 (Conv3D)            (None, 18, 100, 100, 64)  5248      \n",
      "_________________________________________________________________\n",
      "batch_normalization_9 (Batch (None, 18, 100, 100, 64)  256       \n",
      "_________________________________________________________________\n",
      "activation_7 (Activation)    (None, 18, 100, 100, 64)  0         \n",
      "_________________________________________________________________\n",
      "max_pooling3d_7 (MaxPooling3 (None, 9, 50, 100, 64)    0         \n",
      "_________________________________________________________________\n",
      "conv3d_8 (Conv3D)            (None, 9, 50, 100, 128)   221312    \n",
      "_________________________________________________________________\n",
      "batch_normalization_10 (Batc (None, 9, 50, 100, 128)   512       \n",
      "_________________________________________________________________\n",
      "activation_8 (Activation)    (None, 9, 50, 100, 128)   0         \n",
      "_________________________________________________________________\n",
      "max_pooling3d_8 (MaxPooling3 (None, 4, 25, 50, 128)    0         \n",
      "_________________________________________________________________\n",
      "conv3d_9 (Conv3D)            (None, 4, 25, 50, 256)    884992    \n",
      "_________________________________________________________________\n",
      "batch_normalization_11 (Batc (None, 4, 25, 50, 256)    1024      \n",
      "_________________________________________________________________\n",
      "activation_9 (Activation)    (None, 4, 25, 50, 256)    0         \n",
      "_________________________________________________________________\n",
      "max_pooling3d_9 (MaxPooling3 (None, 2, 12, 50, 256)    0         \n",
      "_________________________________________________________________\n",
      "flatten_2 (Flatten)          (None, 307200)            0         \n",
      "_________________________________________________________________\n",
      "dropout_4 (Dropout)          (None, 307200)            0         \n",
      "_________________________________________________________________\n",
      "dense_5 (Dense)              (None, 512)               157286912 \n",
      "_________________________________________________________________\n",
      "dropout_5 (Dropout)          (None, 512)               0         \n",
      "_________________________________________________________________\n",
      "dense_6 (Dense)              (None, 5)                 2565      \n",
      "=================================================================\n",
      "Total params: 158,402,821\n",
      "Trainable params: 158,401,925\n",
      "Non-trainable params: 896\n",
      "_________________________________________________________________\n",
      "None\n"
     ]
    }
   ],
   "source": [
    "optimiser2 = tf.keras.optimizers.SGD(lr=0.001, decay=1e-6, momentum=0.7) #write your optimizer\n",
    "model2.compile(optimizer=optimiser2, loss='categorical_crossentropy', metrics=['categorical_accuracy'])\n",
    "print (model2.summary())"
   ]
  },
  {
   "cell_type": "code",
   "execution_count": 22,
   "metadata": {
    "id": "501c4TvUEbsT"
   },
   "outputs": [],
   "source": [
    "train_generator2 = generator2(train_path, train_doc, batch_size)\n",
    "val_generator2 = generator2(val_path, val_doc, batch_size)"
   ]
  },
  {
   "cell_type": "code",
   "execution_count": 26,
   "metadata": {
    "colab": {
     "base_uri": "https://localhost:8080/"
    },
    "id": "NeSVvrLgEgFR",
    "outputId": "f451133d-826c-401d-869a-1cd912bc1fd9"
   },
   "outputs": [
    {
     "name": "stdout",
     "output_type": "stream",
     "text": [
      "WARNING:tensorflow:`period` argument is deprecated. Please use `save_freq` to specify the frequency in number of batches seen.\n",
      "WARNING:tensorflow:`epsilon` argument is deprecated and will be removed, use `min_delta` instead.\n"
     ]
    }
   ],
   "source": [
    "model_name = 'model_init' + '_' + str(curr_dt_time).replace(' ','').replace(':','_') + '/'\n",
    "# model_init_1-_25_43/model-epoch:01-loss:0.9876-categorical_accuracy:0.76545......\n",
    "\n",
    "if not os.path.exists(model_name):\n",
    "    os.mkdir(model_name)\n",
    "        \n",
    "filepath = model_name + 'model-{epoch:05d}-{loss:.5f}-{categorical_accuracy:.5f}-{val_loss:.5f}-{val_categorical_accuracy:.5f}.h5'\n",
    "\n",
    "checkpoint = ModelCheckpoint(filepath, monitor='val_loss', verbose=1, save_best_only=False, save_weights_only=False, mode='auto', period=1)\n",
    "# ModelCheckpoint - saves weight and model after every epoch\n",
    "LR = ReduceLROnPlateau(monitor='val_loss', factor=0.5, patience=2, verbose=1, mode='min', epsilon=0.0001, cooldown=0, min_lr=0.00001) # write the REducelronplateau code here\n",
    "callbacks_list = [checkpoint, LR]"
   ]
  },
  {
   "cell_type": "code",
   "execution_count": 27,
   "metadata": {
    "id": "FC26n5tGEjD3"
   },
   "outputs": [],
   "source": [
    "if (num_train_sequences%batch_size) == 0:\n",
    "    steps_per_epoch = int(num_train_sequences/batch_size)\n",
    "\n",
    "else:\n",
    "    steps_per_epoch = (num_train_sequences//batch_size) + 1\n",
    "\n",
    "if (num_val_sequences%batch_size) == 0:\n",
    "    validation_steps = int(num_val_sequences/batch_size)\n",
    "else:\n",
    "    validation_steps = (num_val_sequences//batch_size) + 1"
   ]
  },
  {
   "cell_type": "code",
   "execution_count": 28,
   "metadata": {
    "colab": {
     "base_uri": "https://localhost:8080/"
    },
    "id": "PDYV6sH9EqNo",
    "outputId": "a9d20626-8291-4fa6-d4f8-21ccdebd07f7"
   },
   "outputs": [
    {
     "name": "stdout",
     "output_type": "stream",
     "text": [
      "Epoch 1/20\n",
      "67/67 [==============================] - 79s 1s/step - loss: 1.1795 - categorical_accuracy: 0.5837 - val_loss: 3.7607 - val_categorical_accuracy: 0.3000\n",
      "\n",
      "Epoch 00001: saving model to model_init_2021-10-2404_27_52.977538/model-00001-1.17954-0.58371-3.76069-0.30000.h5\n",
      "Epoch 2/20\n",
      "67/67 [==============================] - 79s 1s/step - loss: 0.9539 - categorical_accuracy: 0.6456 - val_loss: 2.1339 - val_categorical_accuracy: 0.4300\n",
      "\n",
      "Epoch 00002: saving model to model_init_2021-10-2404_27_52.977538/model-00002-0.95393-0.64555-2.13391-0.43000.h5\n",
      "Epoch 3/20\n",
      "67/67 [==============================] - 79s 1s/step - loss: 0.9351 - categorical_accuracy: 0.6682 - val_loss: 2.2879 - val_categorical_accuracy: 0.4500\n",
      "\n",
      "Epoch 00003: saving model to model_init_2021-10-2404_27_52.977538/model-00003-0.93512-0.66817-2.28786-0.45000.h5\n",
      "Epoch 4/20\n",
      "67/67 [==============================] - 79s 1s/step - loss: 0.9533 - categorical_accuracy: 0.6531 - val_loss: 1.5766 - val_categorical_accuracy: 0.5700\n",
      "\n",
      "Epoch 00004: saving model to model_init_2021-10-2404_27_52.977538/model-00004-0.95330-0.65309-1.57659-0.57000.h5\n",
      "Epoch 5/20\n",
      "67/67 [==============================] - 80s 1s/step - loss: 0.8462 - categorical_accuracy: 0.6863 - val_loss: 1.3050 - val_categorical_accuracy: 0.6100\n",
      "\n",
      "Epoch 00005: saving model to model_init_2021-10-2404_27_52.977538/model-00005-0.84616-0.68627-1.30497-0.61000.h5\n",
      "Epoch 6/20\n",
      "67/67 [==============================] - 79s 1s/step - loss: 0.6879 - categorical_accuracy: 0.7391 - val_loss: 1.0141 - val_categorical_accuracy: 0.7400\n",
      "\n",
      "Epoch 00006: saving model to model_init_2021-10-2404_27_52.977538/model-00006-0.68791-0.73906-1.01414-0.74000.h5\n",
      "Epoch 7/20\n",
      "67/67 [==============================] - 79s 1s/step - loss: 0.6596 - categorical_accuracy: 0.7557 - val_loss: 1.0395 - val_categorical_accuracy: 0.6900\n",
      "\n",
      "Epoch 00007: saving model to model_init_2021-10-2404_27_52.977538/model-00007-0.65958-0.75566-1.03955-0.69000.h5\n",
      "Epoch 8/20\n",
      "67/67 [==============================] - 79s 1s/step - loss: 0.6182 - categorical_accuracy: 0.7692 - val_loss: 0.8048 - val_categorical_accuracy: 0.7600\n",
      "\n",
      "Epoch 00008: saving model to model_init_2021-10-2404_27_52.977538/model-00008-0.61821-0.76923-0.80480-0.76000.h5\n",
      "Epoch 9/20\n",
      "67/67 [==============================] - 80s 1s/step - loss: 0.6088 - categorical_accuracy: 0.7919 - val_loss: 1.2684 - val_categorical_accuracy: 0.7400\n",
      "\n",
      "Epoch 00009: saving model to model_init_2021-10-2404_27_52.977538/model-00009-0.60880-0.79186-1.26835-0.74000.h5\n",
      "Epoch 10/20\n",
      "67/67 [==============================] - 79s 1s/step - loss: 0.5318 - categorical_accuracy: 0.8084 - val_loss: 1.2516 - val_categorical_accuracy: 0.7100\n",
      "\n",
      "Epoch 00010: saving model to model_init_2021-10-2404_27_52.977538/model-00010-0.53177-0.80845-1.25161-0.71000.h5\n",
      "\n",
      "Epoch 00010: ReduceLROnPlateau reducing learning rate to 0.0002500000118743628.\n",
      "Epoch 11/20\n",
      "67/67 [==============================] - 79s 1s/step - loss: 0.4082 - categorical_accuracy: 0.8431 - val_loss: 1.0282 - val_categorical_accuracy: 0.7600\n",
      "\n",
      "Epoch 00011: saving model to model_init_2021-10-2404_27_52.977538/model-00011-0.40819-0.84314-1.02821-0.76000.h5\n",
      "Epoch 12/20\n",
      "67/67 [==============================] - 79s 1s/step - loss: 0.3724 - categorical_accuracy: 0.8582 - val_loss: 1.1016 - val_categorical_accuracy: 0.7700\n",
      "\n",
      "Epoch 00012: saving model to model_init_2021-10-2404_27_52.977538/model-00012-0.37239-0.85822-1.10159-0.77000.h5\n",
      "\n",
      "Epoch 00012: ReduceLROnPlateau reducing learning rate to 0.0001250000059371814.\n",
      "Epoch 13/20\n",
      "67/67 [==============================] - 80s 1s/step - loss: 0.3202 - categorical_accuracy: 0.8718 - val_loss: 1.2939 - val_categorical_accuracy: 0.7500\n",
      "\n",
      "Epoch 00013: saving model to model_init_2021-10-2404_27_52.977538/model-00013-0.32024-0.87179-1.29388-0.75000.h5\n",
      "Epoch 14/20\n",
      "67/67 [==============================] - 79s 1s/step - loss: 0.3161 - categorical_accuracy: 0.8824 - val_loss: 0.9833 - val_categorical_accuracy: 0.7600\n",
      "\n",
      "Epoch 00014: saving model to model_init_2021-10-2404_27_52.977538/model-00014-0.31613-0.88235-0.98333-0.76000.h5\n",
      "\n",
      "Epoch 00014: ReduceLROnPlateau reducing learning rate to 6.25000029685907e-05.\n",
      "Epoch 15/20\n",
      "67/67 [==============================] - 80s 1s/step - loss: 0.2566 - categorical_accuracy: 0.8959 - val_loss: 1.0735 - val_categorical_accuracy: 0.7700\n",
      "\n",
      "Epoch 00015: saving model to model_init_2021-10-2404_27_52.977538/model-00015-0.25658-0.89593-1.07346-0.77000.h5\n",
      "Epoch 16/20\n",
      "67/67 [==============================] - 79s 1s/step - loss: 0.2585 - categorical_accuracy: 0.9050 - val_loss: 1.0555 - val_categorical_accuracy: 0.7700\n",
      "\n",
      "Epoch 00016: saving model to model_init_2021-10-2404_27_52.977538/model-00016-0.25845-0.90498-1.05553-0.77000.h5\n",
      "\n",
      "Epoch 00016: ReduceLROnPlateau reducing learning rate to 3.125000148429535e-05.\n",
      "Epoch 17/20\n",
      "67/67 [==============================] - 80s 1s/step - loss: 0.2353 - categorical_accuracy: 0.9170 - val_loss: 1.0867 - val_categorical_accuracy: 0.7600\n",
      "\n",
      "Epoch 00017: saving model to model_init_2021-10-2404_27_52.977538/model-00017-0.23528-0.91704-1.08669-0.76000.h5\n",
      "Epoch 18/20\n",
      "67/67 [==============================] - 79s 1s/step - loss: 0.2375 - categorical_accuracy: 0.9065 - val_loss: 1.0067 - val_categorical_accuracy: 0.7800\n",
      "\n",
      "Epoch 00018: saving model to model_init_2021-10-2404_27_52.977538/model-00018-0.23747-0.90649-1.00674-0.78000.h5\n",
      "\n",
      "Epoch 00018: ReduceLROnPlateau reducing learning rate to 1.5625000742147677e-05.\n",
      "Epoch 19/20\n",
      "67/67 [==============================] - 79s 1s/step - loss: 0.1950 - categorical_accuracy: 0.9291 - val_loss: 1.0793 - val_categorical_accuracy: 0.7500\n",
      "\n",
      "Epoch 00019: saving model to model_init_2021-10-2404_27_52.977538/model-00019-0.19497-0.92911-1.07927-0.75000.h5\n",
      "Epoch 20/20\n",
      "67/67 [==============================] - 79s 1s/step - loss: 0.2245 - categorical_accuracy: 0.9186 - val_loss: 1.0976 - val_categorical_accuracy: 0.7700\n",
      "\n",
      "Epoch 00020: saving model to model_init_2021-10-2404_27_52.977538/model-00020-0.22452-0.91855-1.09762-0.77000.h5\n",
      "\n",
      "Epoch 00020: ReduceLROnPlateau reducing learning rate to 1e-05.\n"
     ]
    }
   ],
   "source": [
    "history2 = model2.fit_generator(train_generator2, steps_per_epoch=steps_per_epoch, epochs=num_epochs, verbose=1, \n",
    "                    callbacks=callbacks_list, validation_data=val_generator2, \n",
    "                    validation_steps=validation_steps, class_weight=None, workers=1, initial_epoch=0)"
   ]
  },
  {
   "cell_type": "code",
   "execution_count": 29,
   "metadata": {
    "colab": {
     "base_uri": "https://localhost:8080/",
     "height": 265
    },
    "id": "SeuSeM-oG8ft",
    "outputId": "b0c7ffe9-6549-4901-b97b-caf837c275ce"
   },
   "outputs": [
    {
     "data": {
      "image/png": "[encoded data removed]",
      "text/plain": [
       "<Figure size 1080x288 with 2 Axes>"
      ]
     },
     "metadata": {
      "needs_background": "light"
     },
     "output_type": "display_data"
    }
   ],
   "source": [
    "import matplotlib.pyplot as plt\n",
    "\n",
    "fig, axes = plt.subplots(nrows=1, ncols=2, figsize=(15,4))\n",
    "axes[0].plot(history2.history['loss'])   \n",
    "axes[0].plot(history2.history['val_loss'])\n",
    "axes[0].legend(['loss','val_loss'])\n",
    "\n",
    "axes[1].plot(history2.history['categorical_accuracy'])   \n",
    "axes[1].plot(history2.history['val_categorical_accuracy'])\n",
    "axes[1].legend(['categorical_accuracy','val_categorical_accuracy'])\n",
    "\n",
    "plt.savefig('Model3.png')"
   ]
  },
  {
   "cell_type": "markdown",
   "metadata": {},
   "source": [
    "## Summary for model 3:\n",
    "\n",
    "After removing few layers model is generalising data so changing tensor shape.\n",
    "\n",
    "best model: 'model-00012-0.37239-0.85822-1.10159-0.77000.h5'\n",
    "\n",
    "accuracy : train - 87% val - 75%"
   ]
  },
  {
   "cell_type": "code",
   "execution_count": 30,
   "metadata": {
    "id": "Zw14hwJSG5i-"
   },
   "outputs": [],
   "source": [
    "train_doc = np.random.permutation(open(r'/content/project_data/train.csv').readlines())\n",
    "val_doc = np.random.permutation(open(r'/content/project_data/val.csv').readlines())\n",
    "batch_size = 10"
   ]
  },
  {
   "cell_type": "code",
   "execution_count": 31,
   "metadata": {
    "id": "QabilYanHHr0"
   },
   "outputs": [],
   "source": [
    "def generator3(source_path, folder_list, batch_size):\n",
    "    print( 'Source path = ', source_path, '; batch size =', batch_size)\n",
    "    # It is not possible to work with all the 30 images, as it will take too long processing time.\n",
    "    # So lets choose randomly 18 images\n",
    "    img_idx = [0,1,2,4,6,8,10,12,14,16,18,20,22,24,26,27,28,29] #create a list of image numbers you want to use for a particular video(incase if u want to try with lesser images)\n",
    "    x, y, z = len(img_idx), 84, 84\n",
    "    while True:\n",
    "        t = np.random.permutation(folder_list)\n",
    "        num_batches = len(t)//batch_size # calculate the number of batches\n",
    "        for batch in range(num_batches): # we iterate over the number of batches\n",
    "            batch_data = np.zeros((batch_size,x,y,z,3)) # x is the number of images you use for each video, (y,z) is the final size of the input images and 3 is the number of channels RGB\n",
    "            batch_labels = np.zeros((batch_size,5)) # batch_labels is the one hot representation of the output\n",
    "            for folder in range(batch_size): # iterate over the batch_size\n",
    "                imgs = os.listdir(source_path+'/'+ t[folder + (batch*batch_size)].split(';')[0]) # read all the images in the folder\n",
    "                for idx,item in enumerate(img_idx): #  Iterate iver the frames/images of a folder to read them in\n",
    "                    image = imread(source_path+'/'+ t[folder + (batch*batch_size)].strip().split(';')[0]+'/'+imgs[item]).astype(np.float32)\n",
    "                    \n",
    "                    #crop the images and resize them. Note that the images are of 2 different shape \n",
    "                    #and the conv3D will throw error if the inputs in a batch have different shapes\n",
    "                    image = imresize(image[:,20:140,:],(84,84)).astype(np.float32)\n",
    "                    image = image/255.0\n",
    "                    batch_data[folder,idx,:,:,0] =(image[:,:,0]) #normalise and feed in the image # divide by 255.0\n",
    "                    batch_data[folder,idx,:,:,1] =(image[:,:,1])#normalise and feed in the image\n",
    "                    batch_data[folder,idx,:,:,2] =(image[:,:,2]) #normalise and feed in the image\n",
    "                    \n",
    "                batch_labels[folder, int(t[folder + (batch*batch_size)].strip().split(';')[2])] = 1 # OHE\n",
    "            yield batch_data, batch_labels #you yield the batch_data and the batch_labels, remember what does yield do\n",
    "\n",
    "        \n",
    "        # write the code for the remaining data points which are left after full batches\n",
    "        if(len(t)%batch_size)!=0:\n",
    "            batch_data = np.zeros((len(t)%batch_size,x,y,z,3)) # x is the number of images you use for each video, (y,z) is the final size of the input images and 3 is the number of channels RGB\n",
    "            batch_labels = np.zeros((len(t)%batch_size,5)) # batch_labels is the one hot representation of the output\n",
    "            for folder in range(len(t)%batch_size): # iterate over the batch_size\n",
    "                imgs = os.listdir(source_path+'/'+ t[folder + (num_batches*batch_size)].split(';')[0]) # read all the images in the folder\n",
    "                for idx,item in enumerate(img_idx): #  Iterate iver the frames/images of a folder to read them in\n",
    "                    image = imread(source_path+'/'+ t[folder + (num_batches*batch_size)].strip().split(';')[0]+'/'+imgs[item]).astype(np.float32)\n",
    "                    \n",
    "                    #crop the images and resize them. Note that the images are of 2 different shape \n",
    "                    #and the conv3D will throw error if the inputs in a batch have different shapes\n",
    "                    image = imresize(image[:,20:140,:],(84,84)).astype(np.float32)\n",
    "                    image = image/255.0\n",
    "                    batch_data[folder,idx,:,:,0] = (image[:,:,0])#normalise and feed in the image # divide by 255.0\n",
    "                    batch_data[folder,idx,:,:,1] = (image[:,:,1])#normalise and feed in the image\n",
    "                    batch_data[folder,idx,:,:,2] = (image[:,:,2])#normalise and feed in the image\n",
    "                    \n",
    "                batch_labels[folder, int(t[folder + (num_batches*batch_size)].strip().split(';')[2])] = 1 # OHE\n",
    "            yield batch_data, batch_labels\n"
   ]
  },
  {
   "cell_type": "code",
   "execution_count": 32,
   "metadata": {
    "colab": {
     "base_uri": "https://localhost:8080/"
    },
    "id": "CK5ngxCfHIrN",
    "outputId": "651f4f23-2016-452a-815a-5492c1d6b3fb"
   },
   "outputs": [
    {
     "name": "stdout",
     "output_type": "stream",
     "text": [
      "# training sequences = 663\n",
      "# validation sequences = 100\n",
      "# epochs = 20\n"
     ]
    }
   ],
   "source": [
    "curr_dt_time = datetime.datetime.now()\n",
    "train_path = r'/content/project_data/train'\n",
    "val_path = r'/content/project_data/val'\n",
    "num_train_sequences = len(train_doc) \n",
    "print('# training sequences =', num_train_sequences)\n",
    "num_val_sequences = len(val_doc) \n",
    "print('# validation sequences =', num_val_sequences)\n",
    "num_epochs = 20 \n",
    "print ('# epochs =', num_epochs)"
   ]
  },
  {
   "cell_type": "code",
   "execution_count": 33,
   "metadata": {
    "id": "uQPnUxBb0VTd"
   },
   "outputs": [],
   "source": [
    "#Model 4\n",
    "\n",
    "#Final Model\n",
    "\n",
    "# Batch_size = 10\n",
    "# image_shape = 84, 84, 3\n",
    "# epochs = 20\n",
    "\n",
    "from keras.models import Sequential, Model\n",
    "from keras.layers import Dense, GRU, Flatten, TimeDistributed, Flatten, BatchNormalization, Activation, Dropout\n",
    "from keras.layers.convolutional import Conv3D, MaxPooling3D\n",
    "from keras.callbacks import ModelCheckpoint, ReduceLROnPlateau\n",
    "from keras import optimizers\n",
    "\n",
    "#write your model here\n",
    "model3 = Sequential()\n",
    "model3.add(Conv3D(64, (3,3,3), strides=(1,1,1), padding='same', input_shape=(18,84,84,3)))\n",
    "model3.add(BatchNormalization())\n",
    "model3.add(Activation('elu'))\n",
    "model3.add(MaxPooling3D(pool_size=(2,2,1), strides=(2,2,1)))\n",
    "\n",
    "model3.add(Conv3D(128, (3,3,3), strides=(1,1,1), padding='same', input_shape=(18,84,84,3)))\n",
    "model3.add(BatchNormalization())\n",
    "model3.add(Activation('elu'))\n",
    "model3.add(MaxPooling3D(pool_size=(2,2,2), strides=(2,2,2)))\n",
    "\n",
    "model3.add(Conv3D(256, (3,3,3), strides=(1,1,1), padding='same', input_shape=(18,84,84,3)))\n",
    "model3.add(BatchNormalization())\n",
    "model3.add(Activation('elu'))\n",
    "model3.add(MaxPooling3D(pool_size=(2,2,1), strides=(2,2,1)))\n",
    "\n",
    "model3.add(Flatten())\n",
    "model3.add(Dropout(0.5))\n",
    "model3.add(Dense(512, activation='elu'))\n",
    "model3.add(Dropout(0.5))\n",
    "model3.add(Dense(5, activation='softmax'))"
   ]
  },
  {
   "cell_type": "code",
   "execution_count": 34,
   "metadata": {
    "colab": {
     "base_uri": "https://localhost:8080/"
    },
    "id": "U5WnJ_WSHYHW",
    "outputId": "abd3224a-9828-4ce3-e2f0-8c502914a36d"
   },
   "outputs": [
    {
     "name": "stdout",
     "output_type": "stream",
     "text": [
      "Model: \"sequential_3\"\n",
      "_________________________________________________________________\n",
      "Layer (type)                 Output Shape              Param #   \n",
      "=================================================================\n",
      "conv3d_10 (Conv3D)           (None, 18, 84, 84, 64)    5248      \n",
      "_________________________________________________________________\n",
      "batch_normalization_12 (Batc (None, 18, 84, 84, 64)    256       \n",
      "_________________________________________________________________\n",
      "activation_10 (Activation)   (None, 18, 84, 84, 64)    0         \n",
      "_________________________________________________________________\n",
      "max_pooling3d_10 (MaxPooling (None, 9, 42, 84, 64)     0         \n",
      "_________________________________________________________________\n",
      "conv3d_11 (Conv3D)           (None, 9, 42, 84, 128)    221312    \n",
      "_________________________________________________________________\n",
      "batch_normalization_13 (Batc (None, 9, 42, 84, 128)    512       \n",
      "_________________________________________________________________\n",
      "activation_11 (Activation)   (None, 9, 42, 84, 128)    0         \n",
      "_________________________________________________________________\n",
      "max_pooling3d_11 (MaxPooling (None, 4, 21, 42, 128)    0         \n",
      "_________________________________________________________________\n",
      "conv3d_12 (Conv3D)           (None, 4, 21, 42, 256)    884992    \n",
      "_________________________________________________________________\n",
      "batch_normalization_14 (Batc (None, 4, 21, 42, 256)    1024      \n",
      "_________________________________________________________________\n",
      "activation_12 (Activation)   (None, 4, 21, 42, 256)    0         \n",
      "_________________________________________________________________\n",
      "max_pooling3d_12 (MaxPooling (None, 2, 10, 42, 256)    0         \n",
      "_________________________________________________________________\n",
      "flatten_3 (Flatten)          (None, 215040)            0         \n",
      "_________________________________________________________________\n",
      "dropout_6 (Dropout)          (None, 215040)            0         \n",
      "_________________________________________________________________\n",
      "dense_7 (Dense)              (None, 512)               110100992 \n",
      "_________________________________________________________________\n",
      "dropout_7 (Dropout)          (None, 512)               0         \n",
      "_________________________________________________________________\n",
      "dense_8 (Dense)              (None, 5)                 2565      \n",
      "=================================================================\n",
      "Total params: 111,216,901\n",
      "Trainable params: 111,216,005\n",
      "Non-trainable params: 896\n",
      "_________________________________________________________________\n",
      "None\n"
     ]
    }
   ],
   "source": [
    "optimiser3 = tf.keras.optimizers.SGD(lr=0.001, decay=1e-6, momentum=0.7) #write your optimizer\n",
    "model3.compile(optimizer=optimiser3, loss='categorical_crossentropy', metrics=['categorical_accuracy'])\n",
    "print (model3.summary())"
   ]
  },
  {
   "cell_type": "code",
   "execution_count": 35,
   "metadata": {
    "id": "WisHQnqNHbVn"
   },
   "outputs": [],
   "source": [
    "train_generator3 = generator3(train_path, train_doc, batch_size)\n",
    "val_generator3 = generator3(val_path, val_doc, batch_size)"
   ]
  },
  {
   "cell_type": "code",
   "execution_count": 36,
   "metadata": {
    "colab": {
     "base_uri": "https://localhost:8080/"
    },
    "id": "OOks5amMHbxQ",
    "outputId": "2f4c0511-17d2-410c-f7e0-75bbad5c8cc7"
   },
   "outputs": [
    {
     "name": "stdout",
     "output_type": "stream",
     "text": [
      "WARNING:tensorflow:`period` argument is deprecated. Please use `save_freq` to specify the frequency in number of batches seen.\n",
      "WARNING:tensorflow:`epsilon` argument is deprecated and will be removed, use `min_delta` instead.\n"
     ]
    }
   ],
   "source": [
    "model_name = 'model_init' + '_' + str(curr_dt_time).replace(' ','').replace(':','_') + '/'\n",
    "# model_init_1-_25_43/model-epoch:01-loss:0.9876-categorical_accuracy:0.76545......\n",
    "\n",
    "if not os.path.exists(model_name):\n",
    "    os.mkdir(model_name)\n",
    "        \n",
    "filepath = model_name + 'model-{epoch:05d}-{loss:.5f}-{categorical_accuracy:.5f}-{val_loss:.5f}-{val_categorical_accuracy:.5f}.h5'\n",
    "\n",
    "checkpoint = ModelCheckpoint(filepath, monitor='val_loss', verbose=1, save_best_only=False, save_weights_only=False, mode='auto', period=1)\n",
    "# ModelCheckpoint - saves weight and model after every epoch\n",
    "LR = ReduceLROnPlateau(monitor='val_loss', factor=0.5, patience=2, verbose=1, mode='min', epsilon=0.0001, cooldown=0, min_lr=0.00001) # write the REducelronplateau code here\n",
    "callbacks_list = [checkpoint, LR]"
   ]
  },
  {
   "cell_type": "code",
   "execution_count": 37,
   "metadata": {
    "id": "hfBb7cvCHcGe"
   },
   "outputs": [],
   "source": [
    "if (num_train_sequences%batch_size) == 0:\n",
    "    steps_per_epoch = int(num_train_sequences/batch_size)\n",
    "\n",
    "else:\n",
    "    steps_per_epoch = (num_train_sequences//batch_size) + 1\n",
    "\n",
    "if (num_val_sequences%batch_size) == 0:\n",
    "    validation_steps = int(num_val_sequences/batch_size)\n",
    "else:\n",
    "    validation_steps = (num_val_sequences//batch_size) + 1"
   ]
  },
  {
   "cell_type": "code",
   "execution_count": 38,
   "metadata": {
    "colab": {
     "base_uri": "https://localhost:8080/"
    },
    "id": "e9wdUz6oHcUY",
    "outputId": "114c53e3-396a-4f39-808d-e4af3b6b1fff"
   },
   "outputs": [
    {
     "name": "stdout",
     "output_type": "stream",
     "text": [
      "Source path =  /content/project_data/train ; batch size = 10\n",
      "Epoch 1/20\n",
      "67/67 [==============================] - ETA: 0s - loss: 7.4663 - categorical_accuracy: 0.2896Source path =  /content/project_data/val ; batch size = 10\n",
      "67/67 [==============================] - 65s 923ms/step - loss: 7.4663 - categorical_accuracy: 0.2896 - val_loss: 3.2390 - val_categorical_accuracy: 0.1600\n",
      "\n",
      "Epoch 00001: saving model to model_init_2021-10-2405_25_20.907875/model-00001-7.46627-0.28959-3.23898-0.16000.h5\n",
      "Epoch 2/20\n",
      "67/67 [==============================] - 60s 901ms/step - loss: 1.9078 - categorical_accuracy: 0.3725 - val_loss: 3.7121 - val_categorical_accuracy: 0.1700\n",
      "\n",
      "Epoch 00002: saving model to model_init_2021-10-2405_25_20.907875/model-00002-1.90776-0.37255-3.71212-0.17000.h5\n",
      "Epoch 3/20\n",
      "67/67 [==============================] - 60s 899ms/step - loss: 1.7373 - categorical_accuracy: 0.4178 - val_loss: 5.6999 - val_categorical_accuracy: 0.2300\n",
      "\n",
      "Epoch 00003: saving model to model_init_2021-10-2405_25_20.907875/model-00003-1.73728-0.41780-5.69991-0.23000.h5\n",
      "\n",
      "Epoch 00003: ReduceLROnPlateau reducing learning rate to 0.0005000000237487257.\n",
      "Epoch 4/20\n",
      "67/67 [==============================] - 60s 905ms/step - loss: 1.4715 - categorical_accuracy: 0.4646 - val_loss: 5.7650 - val_categorical_accuracy: 0.2200\n",
      "\n",
      "Epoch 00004: saving model to model_init_2021-10-2405_25_20.907875/model-00004-1.47152-0.46456-5.76504-0.22000.h5\n",
      "Epoch 5/20\n",
      "67/67 [==============================] - 61s 908ms/step - loss: 1.3116 - categorical_accuracy: 0.5279 - val_loss: 4.6266 - val_categorical_accuracy: 0.3000\n",
      "\n",
      "Epoch 00005: saving model to model_init_2021-10-2405_25_20.907875/model-00005-1.31161-0.52790-4.62662-0.30000.h5\n",
      "\n",
      "Epoch 00005: ReduceLROnPlateau reducing learning rate to 0.0002500000118743628.\n",
      "Epoch 6/20\n",
      "67/67 [==============================] - 60s 894ms/step - loss: 1.1167 - categorical_accuracy: 0.5626 - val_loss: 3.7255 - val_categorical_accuracy: 0.2900\n",
      "\n",
      "Epoch 00006: saving model to model_init_2021-10-2405_25_20.907875/model-00006-1.11672-0.56259-3.72547-0.29000.h5\n",
      "Epoch 7/20\n",
      "67/67 [==============================] - 60s 905ms/step - loss: 0.9600 - categorical_accuracy: 0.6410 - val_loss: 2.4653 - val_categorical_accuracy: 0.3300\n",
      "\n",
      "Epoch 00007: saving model to model_init_2021-10-2405_25_20.907875/model-00007-0.96003-0.64103-2.46525-0.33000.h5\n",
      "Epoch 8/20\n",
      "67/67 [==============================] - 60s 897ms/step - loss: 0.9478 - categorical_accuracy: 0.6531 - val_loss: 1.7770 - val_categorical_accuracy: 0.4900\n",
      "\n",
      "Epoch 00008: saving model to model_init_2021-10-2405_25_20.907875/model-00008-0.94778-0.65309-1.77699-0.49000.h5\n",
      "Epoch 9/20\n",
      "67/67 [==============================] - 61s 906ms/step - loss: 0.8059 - categorical_accuracy: 0.6923 - val_loss: 1.5860 - val_categorical_accuracy: 0.4800\n",
      "\n",
      "Epoch 00009: saving model to model_init_2021-10-2405_25_20.907875/model-00009-0.80589-0.69231-1.58599-0.48000.h5\n",
      "Epoch 10/20\n",
      "67/67 [==============================] - 61s 905ms/step - loss: 0.8960 - categorical_accuracy: 0.6938 - val_loss: 1.2541 - val_categorical_accuracy: 0.6300\n",
      "\n",
      "Epoch 00010: saving model to model_init_2021-10-2405_25_20.907875/model-00010-0.89599-0.69382-1.25415-0.63000.h5\n",
      "Epoch 11/20\n",
      "67/67 [==============================] - 60s 902ms/step - loss: 0.7807 - categorical_accuracy: 0.7059 - val_loss: 1.0974 - val_categorical_accuracy: 0.6700\n",
      "\n",
      "Epoch 00011: saving model to model_init_2021-10-2405_25_20.907875/model-00011-0.78067-0.70588-1.09743-0.67000.h5\n",
      "Epoch 12/20\n",
      "67/67 [==============================] - 60s 899ms/step - loss: 0.8682 - categorical_accuracy: 0.6757 - val_loss: 1.1967 - val_categorical_accuracy: 0.6600\n",
      "\n",
      "Epoch 00012: saving model to model_init_2021-10-2405_25_20.907875/model-00012-0.86816-0.67572-1.19666-0.66000.h5\n",
      "Epoch 13/20\n",
      "67/67 [==============================] - 60s 899ms/step - loss: 0.6728 - categorical_accuracy: 0.7587 - val_loss: 1.2038 - val_categorical_accuracy: 0.6700\n",
      "\n",
      "Epoch 00013: saving model to model_init_2021-10-2405_25_20.907875/model-00013-0.67282-0.75867-1.20377-0.67000.h5\n",
      "\n",
      "Epoch 00013: ReduceLROnPlateau reducing learning rate to 0.0001250000059371814.\n",
      "Epoch 14/20\n",
      "67/67 [==============================] - 61s 909ms/step - loss: 0.6651 - categorical_accuracy: 0.7436 - val_loss: 1.1992 - val_categorical_accuracy: 0.6500\n",
      "\n",
      "Epoch 00014: saving model to model_init_2021-10-2405_25_20.907875/model-00014-0.66510-0.74359-1.19925-0.65000.h5\n",
      "Epoch 15/20\n",
      "67/67 [==============================] - 60s 904ms/step - loss: 0.6274 - categorical_accuracy: 0.7496 - val_loss: 0.9154 - val_categorical_accuracy: 0.7700\n",
      "\n",
      "Epoch 00015: saving model to model_init_2021-10-2405_25_20.907875/model-00015-0.62737-0.74962-0.91543-0.77000.h5\n",
      "Epoch 16/20\n",
      "67/67 [==============================] - 60s 895ms/step - loss: 0.6050 - categorical_accuracy: 0.7677 - val_loss: 1.0209 - val_categorical_accuracy: 0.7400\n",
      "\n",
      "Epoch 00016: saving model to model_init_2021-10-2405_25_20.907875/model-00016-0.60496-0.76772-1.02090-0.74000.h5\n",
      "Epoch 17/20\n",
      "67/67 [==============================] - 60s 896ms/step - loss: 0.6223 - categorical_accuracy: 0.7436 - val_loss: 1.1855 - val_categorical_accuracy: 0.6700\n",
      "\n",
      "Epoch 00017: saving model to model_init_2021-10-2405_25_20.907875/model-00017-0.62226-0.74359-1.18550-0.67000.h5\n",
      "\n",
      "Epoch 00017: ReduceLROnPlateau reducing learning rate to 6.25000029685907e-05.\n",
      "Epoch 18/20\n",
      "67/67 [==============================] - 60s 903ms/step - loss: 0.5433 - categorical_accuracy: 0.7919 - val_loss: 1.0872 - val_categorical_accuracy: 0.7000\n",
      "\n",
      "Epoch 00018: saving model to model_init_2021-10-2405_25_20.907875/model-00018-0.54333-0.79186-1.08725-0.70000.h5\n",
      "Epoch 19/20\n",
      "67/67 [==============================] - 60s 900ms/step - loss: 0.5336 - categorical_accuracy: 0.7903 - val_loss: 1.3245 - val_categorical_accuracy: 0.7000\n",
      "\n",
      "Epoch 00019: saving model to model_init_2021-10-2405_25_20.907875/model-00019-0.53358-0.79035-1.32454-0.70000.h5\n",
      "\n",
      "Epoch 00019: ReduceLROnPlateau reducing learning rate to 3.125000148429535e-05.\n",
      "Epoch 20/20\n",
      "67/67 [==============================] - 60s 901ms/step - loss: 0.5555 - categorical_accuracy: 0.7843 - val_loss: 1.0163 - val_categorical_accuracy: 0.7400\n",
      "\n",
      "Epoch 00020: saving model to model_init_2021-10-2405_25_20.907875/model-00020-0.55551-0.78431-1.01631-0.74000.h5\n"
     ]
    }
   ],
   "source": [
    "history3 = model3.fit_generator(train_generator3, steps_per_epoch=steps_per_epoch, epochs=num_epochs, verbose=1, \n",
    "                    callbacks=callbacks_list, validation_data=val_generator3, \n",
    "                    validation_steps=validation_steps, class_weight=None, workers=1, initial_epoch=0)"
   ]
  },
  {
   "cell_type": "code",
   "execution_count": 39,
   "metadata": {
    "colab": {
     "base_uri": "https://localhost:8080/",
     "height": 265
    },
    "id": "JPUF68aQ3dbu",
    "outputId": "5fc994a8-1b77-43e8-d537-13d7498e15bd"
   },
   "outputs": [
    {
     "data": {
      "image/png": "[encoded data removed]",
      "text/plain": [
       "<Figure size 1080x288 with 2 Axes>"
      ]
     },
     "metadata": {
      "needs_background": "light"
     },
     "output_type": "display_data"
    }
   ],
   "source": [
    "import matplotlib.pyplot as plt\n",
    "\n",
    "fig, axes = plt.subplots(nrows=1, ncols=2, figsize=(15,4))\n",
    "axes[0].plot(history3.history['loss'])   \n",
    "axes[0].plot(history3.history['val_loss'])\n",
    "axes[0].legend(['loss','val_loss'])\n",
    "\n",
    "axes[1].plot(history3.history['categorical_accuracy'])   \n",
    "axes[1].plot(history3.history['val_categorical_accuracy'])\n",
    "axes[1].legend(['categorical_accuracy','val_categorical_accuracy'])\n",
    "\n",
    "plt.savefig('Model3.png')"
   ]
  },
  {
   "cell_type": "markdown",
   "metadata": {},
   "source": [
    "## Summary for model 4:\n",
    "\n",
    "After changing tensor shape acheived good accuracy\n",
    "\n",
    "best model: 'model-00019-0.53358-0.79035-1.32454-0.70000.h5'\n",
    "\n",
    "accuracy : train - 79% val - 70%"
   ]
  },
  {
   "cell_type": "markdown",
   "metadata": {},
   "source": [
    "# Using CNN + RNN\n",
    "\n",
    "CNN - to extract features \n",
    "RNN - use features extracted from the CNN model and to train the model"
   ]
  },
  {
   "cell_type": "markdown",
   "metadata": {},
   "source": [
    "# CNN + LSTM"
   ]
  },
  {
   "cell_type": "code",
   "execution_count": 40,
   "metadata": {
    "id": "4kryfVOOUpHO"
   },
   "outputs": [],
   "source": [
    "train_doc = np.random.permutation(open(r'/content/project_data/train.csv').readlines())\n",
    "val_doc = np.random.permutation(open(r'/content/project_data/val.csv').readlines())\n",
    "batch_size = 10"
   ]
  },
  {
   "cell_type": "code",
   "execution_count": 41,
   "metadata": {
    "id": "9TdKuNp4Hq1c"
   },
   "outputs": [],
   "source": [
    "def generator4(source_path, folder_list, batch_size):\n",
    "    print( 'Source path = ', source_path, '; batch size =', batch_size)\n",
    "    # It is not possible to work with all the 30 images, as it will take too long processing time.\n",
    "    # So lets choose randomly 18 images\n",
    "    img_idx = [0,1,2,4,6,8,10,12,14,16,18,20,22,24,26,27,28,29] #create a list of image numbers you want to use for a particular video(incase if u want to try with lesser images)\n",
    "    x, y, z = len(img_idx), 120, 120\n",
    "    while True:\n",
    "        t = np.random.permutation(folder_list)\n",
    "        num_batches = len(t)//batch_size # calculate the number of batches\n",
    "        for batch in range(num_batches): # we iterate over the number of batches\n",
    "            batch_data = np.zeros((batch_size,x,y,z,3)) # x is the number of images you use for each video, (y,z) is the final size of the input images and 3 is the number of channels RGB\n",
    "            batch_labels = np.zeros((batch_size,5)) # batch_labels is the one hot representation of the output\n",
    "            for folder in range(batch_size): # iterate over the batch_size\n",
    "                imgs = os.listdir(source_path+'/'+ t[folder + (batch*batch_size)].split(';')[0]) # read all the images in the folder\n",
    "                for idx,item in enumerate(img_idx): #  Iterate iver the frames/images of a folder to read them in\n",
    "                    image = imread(source_path+'/'+ t[folder + (batch*batch_size)].strip().split(';')[0]+'/'+imgs[item]).astype(np.float32)\n",
    "                    \n",
    "                    #crop the images and resize them. Note that the images are of 2 different shape \n",
    "                    #and the conv3D will throw error if the inputs in a batch have different shapes\n",
    "                    image = imresize(image[:,20:140,:],(120,120)).astype(np.float32)\n",
    "                    image = image/255.0\n",
    "                    batch_data[folder,idx,:,:,0] =(image[:,:,0]) #normalise and feed in the image # divide by 255.0\n",
    "                    batch_data[folder,idx,:,:,1] =(image[:,:,1])#normalise and feed in the image\n",
    "                    batch_data[folder,idx,:,:,2] =(image[:,:,2]) #normalise and feed in the image\n",
    "                    \n",
    "                batch_labels[folder, int(t[folder + (batch*batch_size)].strip().split(';')[2])] = 1 # OHE\n",
    "            yield batch_data, batch_labels #you yield the batch_data and the batch_labels, remember what does yield do\n",
    "\n",
    "        \n",
    "        # write the code for the remaining data points which are left after full batches\n",
    "        if(len(t)%batch_size)!=0:\n",
    "            batch_data = np.zeros((len(t)%batch_size,x,y,z,3)) # x is the number of images you use for each video, (y,z) is the final size of the input images and 3 is the number of channels RGB\n",
    "            batch_labels = np.zeros((len(t)%batch_size,5)) # batch_labels is the one hot representation of the output\n",
    "            for folder in range(len(t)%batch_size): # iterate over the batch_size\n",
    "                imgs = os.listdir(source_path+'/'+ t[folder + (num_batches*batch_size)].split(';')[0]) # read all the images in the folder\n",
    "                for idx,item in enumerate(img_idx): #  Iterate iver the frames/images of a folder to read them in\n",
    "                    image = imread(source_path+'/'+ t[folder + (num_batches*batch_size)].strip().split(';')[0]+'/'+imgs[item]).astype(np.float32)\n",
    "                    \n",
    "                    #crop the images and resize them. Note that the images are of 2 different shape \n",
    "                    #and the conv3D will throw error if the inputs in a batch have different shapes\n",
    "                    image = imresize(image[:,20:140,:],(120,120)).astype(np.float32)\n",
    "                    image = image/255.0\n",
    "                    batch_data[folder,idx,:,:,0] = (image[:,:,0])#normalise and feed in the image # divide by 255.0\n",
    "                    batch_data[folder,idx,:,:,1] = (image[:,:,1])#normalise and feed in the image\n",
    "                    batch_data[folder,idx,:,:,2] = (image[:,:,2])#normalise and feed in the image\n",
    "                    \n",
    "                batch_labels[folder, int(t[folder + (num_batches*batch_size)].strip().split(';')[2])] = 1 # OHE\n",
    "            yield batch_data, batch_labels\n"
   ]
  },
  {
   "cell_type": "code",
   "execution_count": 42,
   "metadata": {
    "colab": {
     "base_uri": "https://localhost:8080/"
    },
    "id": "rdqBODxBU5mE",
    "outputId": "7afad047-011f-4804-9d8d-ed74dec72349"
   },
   "outputs": [
    {
     "name": "stdout",
     "output_type": "stream",
     "text": [
      "# training sequences = 663\n",
      "# validation sequences = 100\n",
      "# epochs = 20\n"
     ]
    }
   ],
   "source": [
    "curr_dt_time = datetime.datetime.now()\n",
    "train_path = r'/content/project_data/train'\n",
    "val_path = r'/content/project_data/val'\n",
    "num_train_sequences = len(train_doc) \n",
    "print('# training sequences =', num_train_sequences)\n",
    "num_val_sequences = len(val_doc) \n",
    "print('# validation sequences =', num_val_sequences)\n",
    "num_epochs = 20 \n",
    "print ('# epochs =', num_epochs)"
   ]
  },
  {
   "cell_type": "code",
   "execution_count": 43,
   "metadata": {
    "id": "dOK3KsBMVDD3"
   },
   "outputs": [],
   "source": [
    "# CNN-RNN model \n",
    "\n",
    "# Model 1\n",
    "\n",
    "\n",
    "# Batch_size = 10\n",
    "# image_shape = 120, 120, 3\n",
    "# epochs = 20\n",
    "\n",
    "from keras.models import Sequential, Model\n",
    "from keras.layers import Dense, GRU, Flatten, TimeDistributed, Flatten, BatchNormalization, Activation\n",
    "from keras.layers.convolutional import Conv3D, MaxPooling3D, Conv2D, MaxPooling2D\n",
    "from keras.layers.recurrent import LSTM\n",
    "from keras.callbacks import ModelCheckpoint, ReduceLROnPlateau, EarlyStopping\n",
    "from keras import optimizers\n",
    "from keras.layers import Dropout\n",
    "\n",
    "model_rnn = Sequential()\n",
    "model_rnn.add(TimeDistributed(Conv2D(16, (3, 3) , padding='same', activation='relu'),input_shape=(18,120,120,3)))\n",
    "model_rnn.add(TimeDistributed(BatchNormalization()))\n",
    "model_rnn.add(TimeDistributed(MaxPooling2D((2, 2))))\n",
    "        \n",
    "model_rnn.add(TimeDistributed(Conv2D(32, (3, 3) , padding='same', activation='relu')))\n",
    "model_rnn.add(TimeDistributed(BatchNormalization()))\n",
    "model_rnn.add(TimeDistributed(MaxPooling2D((2, 2))))\n",
    "        \n",
    "model_rnn.add(TimeDistributed(Conv2D(64, (3, 3) , padding='same', activation='relu')))\n",
    "model_rnn.add(TimeDistributed(BatchNormalization()))\n",
    "model_rnn.add(TimeDistributed(MaxPooling2D((2, 2))))\n",
    "        \n",
    "model_rnn.add(TimeDistributed(Conv2D(128, (3, 3) , padding='same', activation='relu')))\n",
    "model_rnn.add(TimeDistributed(BatchNormalization()))\n",
    "model_rnn.add(TimeDistributed(MaxPooling2D((2, 2))))\n",
    "\n",
    "model_rnn.add(TimeDistributed(Conv2D(256, (3, 3) , padding='same', activation='relu')))\n",
    "model_rnn.add(TimeDistributed(BatchNormalization()))\n",
    "model_rnn.add(TimeDistributed(MaxPooling2D((2, 2))))\n",
    "        \n",
    "model_rnn.add(TimeDistributed(Flatten()))\n",
    "\n",
    "\n",
    "model_rnn.add(LSTM(128))\n",
    "model_rnn.add(Dropout(0.25))\n",
    "        \n",
    "model_rnn.add(Dense(128,activation='relu'))\n",
    "model_rnn.add(Dropout(0.25))\n",
    "        \n",
    "model_rnn.add(Dense(5, activation='softmax'))"
   ]
  },
  {
   "cell_type": "code",
   "execution_count": 44,
   "metadata": {
    "id": "EnOD7viZVKa7"
   },
   "outputs": [],
   "source": [
    "model_rnn.compile(optimizer='adam', loss='categorical_crossentropy', metrics=['categorical_accuracy'])"
   ]
  },
  {
   "cell_type": "code",
   "execution_count": 45,
   "metadata": {
    "colab": {
     "base_uri": "https://localhost:8080/"
    },
    "id": "8n1-kD-pVhbW",
    "outputId": "8e0818ec-b5ba-462a-9894-5eebd9334bcf"
   },
   "outputs": [
    {
     "name": "stdout",
     "output_type": "stream",
     "text": [
      "WARNING:tensorflow:`period` argument is deprecated. Please use `save_freq` to specify the frequency in number of batches seen.\n",
      "WARNING:tensorflow:`epsilon` argument is deprecated and will be removed, use `min_delta` instead.\n"
     ]
    }
   ],
   "source": [
    "model_name = 'model_init' + '_' + str(curr_dt_time).replace(' ','').replace(':','_') + '/'\n",
    "# model_init_1-_25_43/model-epoch:01-loss:0.9876-categorical_accuracy:0.76545......\n",
    "\n",
    "if not os.path.exists(model_name):\n",
    "    os.mkdir(model_name)\n",
    "        \n",
    "filepath = model_name + 'model-{epoch:05d}-{loss:.5f}-{categorical_accuracy:.5f}-{val_loss:.5f}-{val_categorical_accuracy:.5f}.h5'\n",
    "\n",
    "checkpoint = ModelCheckpoint(filepath, monitor='val_loss', verbose=1, save_best_only=False, save_weights_only=False, mode='auto', period=1)\n",
    "# ModelCheckpoint - saves weight and model after every epoch\n",
    "LR = ReduceLROnPlateau(monitor='val_loss', factor=0.5, patience=2, verbose=1, mode='min', epsilon=0.0001, cooldown=0, min_lr=0.00001) # write the REducelronplateau code here\n",
    "callbacks_list = [checkpoint, LR]"
   ]
  },
  {
   "cell_type": "code",
   "execution_count": 46,
   "metadata": {
    "id": "i5wlAj7-Vktx"
   },
   "outputs": [],
   "source": [
    "if (num_train_sequences%batch_size) == 0:\n",
    "    steps_per_epoch = int(num_train_sequences/batch_size)\n",
    "\n",
    "else:\n",
    "    steps_per_epoch = (num_train_sequences//batch_size) + 1\n",
    "\n",
    "if (num_val_sequences%batch_size) == 0:\n",
    "    validation_steps = int(num_val_sequences/batch_size)\n",
    "else:\n",
    "    validation_steps = (num_val_sequences//batch_size) + 1"
   ]
  },
  {
   "cell_type": "code",
   "execution_count": 48,
   "metadata": {
    "id": "Px8gpb595Ki0"
   },
   "outputs": [],
   "source": [
    "train_generator_rnn = generator4(train_path, train_doc, batch_size)\n",
    "val_generator_rnn = generator4(val_path, val_doc, batch_size)"
   ]
  },
  {
   "cell_type": "code",
   "execution_count": 49,
   "metadata": {
    "colab": {
     "base_uri": "https://localhost:8080/",
     "height": 442
    },
    "id": "-t0h-0yyVniF",
    "outputId": "10be841a-e981-4bf9-dd1b-847dc2b907ed"
   },
   "outputs": [
    {
     "name": "stdout",
     "output_type": "stream",
     "text": [
      "Source path =  /content/project_data/train ; batch size = 10\n",
      "Epoch 1/20\n"
     ]
    },
    {
     "ename": "InvalidArgumentError",
     "evalue": "ignored",
     "output_type": "error",
     "traceback": [
      "\u001b[0;31m---------------------------------------------------------------------------\u001b[0m",
      "\u001b[0;31mInvalidArgumentError\u001b[0m                      Traceback (most recent call last)",
      "\u001b[0;32m<ipython-input-49-71413de2e00d>\u001b[0m in \u001b[0;36m<module>\u001b[0;34m()\u001b[0m\n\u001b[1;32m      1\u001b[0m history_rnn = model.fit_generator(train_generator_rnn, steps_per_epoch=steps_per_epoch, epochs=num_epochs, verbose=1, \n\u001b[1;32m      2\u001b[0m                     \u001b[0mcallbacks\u001b[0m\u001b[0;34m=\u001b[0m\u001b[0mcallbacks_list\u001b[0m\u001b[0;34m,\u001b[0m \u001b[0mvalidation_data\u001b[0m\u001b[0;34m=\u001b[0m\u001b[0mval_generator_rnn\u001b[0m\u001b[0;34m,\u001b[0m\u001b[0;34m\u001b[0m\u001b[0;34m\u001b[0m\u001b[0m\n\u001b[0;32m----> 3\u001b[0;31m                     validation_steps=validation_steps, class_weight=None, workers=1, initial_epoch=0)\n\u001b[0m",
      "\u001b[0;32m/usr/local/lib/python3.7/dist-packages/keras/engine/training.py\u001b[0m in \u001b[0;36mfit_generator\u001b[0;34m(self, generator, steps_per_epoch, epochs, verbose, callbacks, validation_data, validation_steps, validation_freq, class_weight, max_queue_size, workers, use_multiprocessing, shuffle, initial_epoch)\u001b[0m\n\u001b[1;32m   1987\u001b[0m         \u001b[0muse_multiprocessing\u001b[0m\u001b[0;34m=\u001b[0m\u001b[0muse_multiprocessing\u001b[0m\u001b[0;34m,\u001b[0m\u001b[0;34m\u001b[0m\u001b[0;34m\u001b[0m\u001b[0m\n\u001b[1;32m   1988\u001b[0m         \u001b[0mshuffle\u001b[0m\u001b[0;34m=\u001b[0m\u001b[0mshuffle\u001b[0m\u001b[0;34m,\u001b[0m\u001b[0;34m\u001b[0m\u001b[0;34m\u001b[0m\u001b[0m\n\u001b[0;32m-> 1989\u001b[0;31m         initial_epoch=initial_epoch)\n\u001b[0m\u001b[1;32m   1990\u001b[0m \u001b[0;34m\u001b[0m\u001b[0m\n\u001b[1;32m   1991\u001b[0m   \u001b[0;34m@\u001b[0m\u001b[0mdoc_controls\u001b[0m\u001b[0;34m.\u001b[0m\u001b[0mdo_not_generate_docs\u001b[0m\u001b[0;34m\u001b[0m\u001b[0;34m\u001b[0m\u001b[0m\n",
      "\u001b[0;32m/usr/local/lib/python3.7/dist-packages/keras/engine/training.py\u001b[0m in \u001b[0;36mfit\u001b[0;34m(self, x, y, batch_size, epochs, verbose, callbacks, validation_split, validation_data, shuffle, class_weight, sample_weight, initial_epoch, steps_per_epoch, validation_steps, validation_batch_size, validation_freq, max_queue_size, workers, use_multiprocessing)\u001b[0m\n\u001b[1;32m   1182\u001b[0m                 _r=1):\n\u001b[1;32m   1183\u001b[0m               \u001b[0mcallbacks\u001b[0m\u001b[0;34m.\u001b[0m\u001b[0mon_train_batch_begin\u001b[0m\u001b[0;34m(\u001b[0m\u001b[0mstep\u001b[0m\u001b[0;34m)\u001b[0m\u001b[0;34m\u001b[0m\u001b[0;34m\u001b[0m\u001b[0m\n\u001b[0;32m-> 1184\u001b[0;31m               \u001b[0mtmp_logs\u001b[0m \u001b[0;34m=\u001b[0m \u001b[0mself\u001b[0m\u001b[0;34m.\u001b[0m\u001b[0mtrain_function\u001b[0m\u001b[0;34m(\u001b[0m\u001b[0miterator\u001b[0m\u001b[0;34m)\u001b[0m\u001b[0;34m\u001b[0m\u001b[0;34m\u001b[0m\u001b[0m\n\u001b[0m\u001b[1;32m   1185\u001b[0m               \u001b[0;32mif\u001b[0m \u001b[0mdata_handler\u001b[0m\u001b[0;34m.\u001b[0m\u001b[0mshould_sync\u001b[0m\u001b[0;34m:\u001b[0m\u001b[0;34m\u001b[0m\u001b[0;34m\u001b[0m\u001b[0m\n\u001b[1;32m   1186\u001b[0m                 \u001b[0mcontext\u001b[0m\u001b[0;34m.\u001b[0m\u001b[0masync_wait\u001b[0m\u001b[0;34m(\u001b[0m\u001b[0;34m)\u001b[0m\u001b[0;34m\u001b[0m\u001b[0;34m\u001b[0m\u001b[0m\n",
      "\u001b[0;32m/usr/local/lib/python3.7/dist-packages/tensorflow/python/eager/def_function.py\u001b[0m in \u001b[0;36m__call__\u001b[0;34m(self, *args, **kwds)\u001b[0m\n\u001b[1;32m    883\u001b[0m \u001b[0;34m\u001b[0m\u001b[0m\n\u001b[1;32m    884\u001b[0m       \u001b[0;32mwith\u001b[0m \u001b[0mOptionalXlaContext\u001b[0m\u001b[0;34m(\u001b[0m\u001b[0mself\u001b[0m\u001b[0;34m.\u001b[0m\u001b[0m_jit_compile\u001b[0m\u001b[0;34m)\u001b[0m\u001b[0;34m:\u001b[0m\u001b[0;34m\u001b[0m\u001b[0;34m\u001b[0m\u001b[0m\n\u001b[0;32m--> 885\u001b[0;31m         \u001b[0mresult\u001b[0m \u001b[0;34m=\u001b[0m \u001b[0mself\u001b[0m\u001b[0;34m.\u001b[0m\u001b[0m_call\u001b[0m\u001b[0;34m(\u001b[0m\u001b[0;34m*\u001b[0m\u001b[0margs\u001b[0m\u001b[0;34m,\u001b[0m \u001b[0;34m**\u001b[0m\u001b[0mkwds\u001b[0m\u001b[0;34m)\u001b[0m\u001b[0;34m\u001b[0m\u001b[0;34m\u001b[0m\u001b[0m\n\u001b[0m\u001b[1;32m    886\u001b[0m \u001b[0;34m\u001b[0m\u001b[0m\n\u001b[1;32m    887\u001b[0m       \u001b[0mnew_tracing_count\u001b[0m \u001b[0;34m=\u001b[0m \u001b[0mself\u001b[0m\u001b[0;34m.\u001b[0m\u001b[0mexperimental_get_tracing_count\u001b[0m\u001b[0;34m(\u001b[0m\u001b[0;34m)\u001b[0m\u001b[0;34m\u001b[0m\u001b[0;34m\u001b[0m\u001b[0m\n",
      "\u001b[0;32m/usr/local/lib/python3.7/dist-packages/tensorflow/python/eager/def_function.py\u001b[0m in \u001b[0;36m_call\u001b[0;34m(self, *args, **kwds)\u001b[0m\n\u001b[1;32m    915\u001b[0m       \u001b[0;31m# In this case we have created variables on the first call, so we run the\u001b[0m\u001b[0;34m\u001b[0m\u001b[0;34m\u001b[0m\u001b[0;34m\u001b[0m\u001b[0m\n\u001b[1;32m    916\u001b[0m       \u001b[0;31m# defunned version which is guaranteed to never create variables.\u001b[0m\u001b[0;34m\u001b[0m\u001b[0;34m\u001b[0m\u001b[0;34m\u001b[0m\u001b[0m\n\u001b[0;32m--> 917\u001b[0;31m       \u001b[0;32mreturn\u001b[0m \u001b[0mself\u001b[0m\u001b[0;34m.\u001b[0m\u001b[0m_stateless_fn\u001b[0m\u001b[0;34m(\u001b[0m\u001b[0;34m*\u001b[0m\u001b[0margs\u001b[0m\u001b[0;34m,\u001b[0m \u001b[0;34m**\u001b[0m\u001b[0mkwds\u001b[0m\u001b[0;34m)\u001b[0m  \u001b[0;31m# pylint: disable=not-callable\u001b[0m\u001b[0;34m\u001b[0m\u001b[0;34m\u001b[0m\u001b[0m\n\u001b[0m\u001b[1;32m    918\u001b[0m     \u001b[0;32melif\u001b[0m \u001b[0mself\u001b[0m\u001b[0;34m.\u001b[0m\u001b[0m_stateful_fn\u001b[0m \u001b[0;32mis\u001b[0m \u001b[0;32mnot\u001b[0m \u001b[0;32mNone\u001b[0m\u001b[0;34m:\u001b[0m\u001b[0;34m\u001b[0m\u001b[0;34m\u001b[0m\u001b[0m\n\u001b[1;32m    919\u001b[0m       \u001b[0;31m# Release the lock early so that multiple threads can perform the call\u001b[0m\u001b[0;34m\u001b[0m\u001b[0;34m\u001b[0m\u001b[0;34m\u001b[0m\u001b[0m\n",
      "\u001b[0;32m/usr/local/lib/python3.7/dist-packages/tensorflow/python/eager/function.py\u001b[0m in \u001b[0;36m__call__\u001b[0;34m(self, *args, **kwargs)\u001b[0m\n\u001b[1;32m   3038\u001b[0m        filtered_flat_args) = self._maybe_define_function(args, kwargs)\n\u001b[1;32m   3039\u001b[0m     return graph_function._call_flat(\n\u001b[0;32m-> 3040\u001b[0;31m         filtered_flat_args, captured_inputs=graph_function.captured_inputs)  # pylint: disable=protected-access\n\u001b[0m\u001b[1;32m   3041\u001b[0m \u001b[0;34m\u001b[0m\u001b[0m\n\u001b[1;32m   3042\u001b[0m   \u001b[0;34m@\u001b[0m\u001b[0mproperty\u001b[0m\u001b[0;34m\u001b[0m\u001b[0;34m\u001b[0m\u001b[0m\n",
      "\u001b[0;32m/usr/local/lib/python3.7/dist-packages/tensorflow/python/eager/function.py\u001b[0m in \u001b[0;36m_call_flat\u001b[0;34m(self, args, captured_inputs, cancellation_manager)\u001b[0m\n\u001b[1;32m   1962\u001b[0m       \u001b[0;31m# No tape is watching; skip to running the function.\u001b[0m\u001b[0;34m\u001b[0m\u001b[0;34m\u001b[0m\u001b[0;34m\u001b[0m\u001b[0m\n\u001b[1;32m   1963\u001b[0m       return self._build_call_outputs(self._inference_function.call(\n\u001b[0;32m-> 1964\u001b[0;31m           ctx, args, cancellation_manager=cancellation_manager))\n\u001b[0m\u001b[1;32m   1965\u001b[0m     forward_backward = self._select_forward_and_backward_functions(\n\u001b[1;32m   1966\u001b[0m         \u001b[0margs\u001b[0m\u001b[0;34m,\u001b[0m\u001b[0;34m\u001b[0m\u001b[0;34m\u001b[0m\u001b[0m\n",
      "\u001b[0;32m/usr/local/lib/python3.7/dist-packages/tensorflow/python/eager/function.py\u001b[0m in \u001b[0;36mcall\u001b[0;34m(self, ctx, args, cancellation_manager)\u001b[0m\n\u001b[1;32m    594\u001b[0m               \u001b[0minputs\u001b[0m\u001b[0;34m=\u001b[0m\u001b[0margs\u001b[0m\u001b[0;34m,\u001b[0m\u001b[0;34m\u001b[0m\u001b[0;34m\u001b[0m\u001b[0m\n\u001b[1;32m    595\u001b[0m               \u001b[0mattrs\u001b[0m\u001b[0;34m=\u001b[0m\u001b[0mattrs\u001b[0m\u001b[0;34m,\u001b[0m\u001b[0;34m\u001b[0m\u001b[0;34m\u001b[0m\u001b[0m\n\u001b[0;32m--> 596\u001b[0;31m               ctx=ctx)\n\u001b[0m\u001b[1;32m    597\u001b[0m         \u001b[0;32melse\u001b[0m\u001b[0;34m:\u001b[0m\u001b[0;34m\u001b[0m\u001b[0;34m\u001b[0m\u001b[0m\n\u001b[1;32m    598\u001b[0m           outputs = execute.execute_with_cancellation(\n",
      "\u001b[0;32m/usr/local/lib/python3.7/dist-packages/tensorflow/python/eager/execute.py\u001b[0m in \u001b[0;36mquick_execute\u001b[0;34m(op_name, num_outputs, inputs, attrs, ctx, name)\u001b[0m\n\u001b[1;32m     58\u001b[0m     \u001b[0mctx\u001b[0m\u001b[0;34m.\u001b[0m\u001b[0mensure_initialized\u001b[0m\u001b[0;34m(\u001b[0m\u001b[0;34m)\u001b[0m\u001b[0;34m\u001b[0m\u001b[0;34m\u001b[0m\u001b[0m\n\u001b[1;32m     59\u001b[0m     tensors = pywrap_tfe.TFE_Py_Execute(ctx._handle, device_name, op_name,\n\u001b[0;32m---> 60\u001b[0;31m                                         inputs, attrs, num_outputs)\n\u001b[0m\u001b[1;32m     61\u001b[0m   \u001b[0;32mexcept\u001b[0m \u001b[0mcore\u001b[0m\u001b[0;34m.\u001b[0m\u001b[0m_NotOkStatusException\u001b[0m \u001b[0;32mas\u001b[0m \u001b[0me\u001b[0m\u001b[0;34m:\u001b[0m\u001b[0;34m\u001b[0m\u001b[0;34m\u001b[0m\u001b[0m\n\u001b[1;32m     62\u001b[0m     \u001b[0;32mif\u001b[0m \u001b[0mname\u001b[0m \u001b[0;32mis\u001b[0m \u001b[0;32mnot\u001b[0m \u001b[0;32mNone\u001b[0m\u001b[0;34m:\u001b[0m\u001b[0;34m\u001b[0m\u001b[0;34m\u001b[0m\u001b[0m\n",
      "\u001b[0;31mInvalidArgumentError\u001b[0m:  Input to reshape is a tensor with 259840 values, but the requested shape requires a multiple of 12800\n\t [[node sequential/flatten/Reshape (defined at <ipython-input-12-3f8737701920>:3) ]] [Op:__inference_train_function_1867]\n\nFunction call stack:\ntrain_function\n"
     ]
    }
   ],
   "source": [
    "history_rnn = model.fit_generator(train_generator_rnn, steps_per_epoch=steps_per_epoch, epochs=num_epochs, verbose=1, \n",
    "                    callbacks=callbacks_list, validation_data=val_generator_rnn, \n",
    "                    validation_steps=validation_steps, class_weight=None, workers=1, initial_epoch=0)"
   ]
  },
  {
   "cell_type": "markdown",
   "metadata": {},
   "source": [
    "## Summary for Model 1:\n",
    "\n",
    "Because of the input image size we are getting OOM error."
   ]
  },
  {
   "cell_type": "markdown",
   "metadata": {},
   "source": [
    "# CNN + LSTM"
   ]
  },
  {
   "cell_type": "code",
   "execution_count": 50,
   "metadata": {
    "id": "zbtWb-0zVpmz"
   },
   "outputs": [],
   "source": [
    "train_doc = np.random.permutation(open(r'/content/project_data/train.csv').readlines())\n",
    "val_doc = np.random.permutation(open(r'/content/project_data/val.csv').readlines())\n",
    "batch_size = 10"
   ]
  },
  {
   "cell_type": "code",
   "execution_count": 51,
   "metadata": {
    "id": "xPdR3fbfWsKP"
   },
   "outputs": [],
   "source": [
    "def generator5(source_path, folder_list, batch_size):\n",
    "    print( 'Source path = ', source_path, '; batch size =', batch_size)\n",
    "    # It is not possible to work with all the 30 images, as it will take too long processing time.\n",
    "    # So lets choose randomly 18 images\n",
    "    img_idx = [0,1,2,4,6,8,10,12,14,16,18,20,22,24,26,27,28,29] #create a list of image numbers you want to use for a particular video(incase if u want to try with lesser images)\n",
    "    x, y, z = len(img_idx), 100, 100\n",
    "    while True:\n",
    "        t = np.random.permutation(folder_list)\n",
    "        num_batches = len(t)//batch_size # calculate the number of batches\n",
    "        for batch in range(num_batches): # we iterate over the number of batches\n",
    "            batch_data = np.zeros((batch_size,x,y,z,3)) # x is the number of images you use for each video, (y,z) is the final size of the input images and 3 is the number of channels RGB\n",
    "            batch_labels = np.zeros((batch_size,5)) # batch_labels is the one hot representation of the output\n",
    "            for folder in range(batch_size): # iterate over the batch_size\n",
    "                imgs = os.listdir(source_path+'/'+ t[folder + (batch*batch_size)].split(';')[0]) # read all the images in the folder\n",
    "                for idx,item in enumerate(img_idx): #  Iterate iver the frames/images of a folder to read them in\n",
    "                    image = imread(source_path+'/'+ t[folder + (batch*batch_size)].strip().split(';')[0]+'/'+imgs[item]).astype(np.float32)\n",
    "                    \n",
    "                    #crop the images and resize them. Note that the images are of 2 different shape \n",
    "                    #and the conv3D will throw error if the inputs in a batch have different shapes\n",
    "                    image = imresize(image[:,20:140,:],(100,100)).astype(np.float32)\n",
    "                    image = image/255.0\n",
    "                    batch_data[folder,idx,:,:,0] =(image[:,:,0]) #normalise and feed in the image # divide by 255.0\n",
    "                    batch_data[folder,idx,:,:,1] =(image[:,:,1])#normalise and feed in the image\n",
    "                    batch_data[folder,idx,:,:,2] =(image[:,:,2]) #normalise and feed in the image\n",
    "                    \n",
    "                batch_labels[folder, int(t[folder + (batch*batch_size)].strip().split(';')[2])] = 1 # OHE\n",
    "            yield batch_data, batch_labels #you yield the batch_data and the batch_labels, remember what does yield do\n",
    "\n",
    "        \n",
    "        # write the code for the remaining data points which are left after full batches\n",
    "        if(len(t)%batch_size)!=0:\n",
    "            batch_data = np.zeros((len(t)%batch_size,x,y,z,3)) # x is the number of images you use for each video, (y,z) is the final size of the input images and 3 is the number of channels RGB\n",
    "            batch_labels = np.zeros((len(t)%batch_size,5)) # batch_labels is the one hot representation of the output\n",
    "            for folder in range(len(t)%batch_size): # iterate over the batch_size\n",
    "                imgs = os.listdir(source_path+'/'+ t[folder + (num_batches*batch_size)].split(';')[0]) # read all the images in the folder\n",
    "                for idx,item in enumerate(img_idx): #  Iterate iver the frames/images of a folder to read them in\n",
    "                    image = imread(source_path+'/'+ t[folder + (num_batches*batch_size)].strip().split(';')[0]+'/'+imgs[item]).astype(np.float32)\n",
    "                    \n",
    "                    #crop the images and resize them. Note that the images are of 2 different shape \n",
    "                    #and the conv3D will throw error if the inputs in a batch have different shapes\n",
    "                    image = imresize(image[:,20:140,:],(100,100)).astype(np.float32)\n",
    "                    image = image/255.0\n",
    "                    batch_data[folder,idx,:,:,0] = (image[:,:,0])#normalise and feed in the image # divide by 255.0\n",
    "                    batch_data[folder,idx,:,:,1] = (image[:,:,1])#normalise and feed in the image\n",
    "                    batch_data[folder,idx,:,:,2] = (image[:,:,2])#normalise and feed in the image\n",
    "                    \n",
    "                batch_labels[folder, int(t[folder + (num_batches*batch_size)].strip().split(';')[2])] = 1 # OHE\n",
    "            yield batch_data, batch_labels\n"
   ]
  },
  {
   "cell_type": "code",
   "execution_count": 52,
   "metadata": {
    "colab": {
     "base_uri": "https://localhost:8080/"
    },
    "id": "eBEcPLaiW6l8",
    "outputId": "86615549-6237-4bf8-a08b-ee7dbd1ddc44"
   },
   "outputs": [
    {
     "name": "stdout",
     "output_type": "stream",
     "text": [
      "# training sequences = 663\n",
      "# validation sequences = 100\n",
      "# epochs = 20\n"
     ]
    }
   ],
   "source": [
    "curr_dt_time = datetime.datetime.now()\n",
    "train_path = r'/content/project_data/train'\n",
    "val_path = r'/content/project_data/val'\n",
    "num_train_sequences = len(train_doc) \n",
    "print('# training sequences =', num_train_sequences)\n",
    "num_val_sequences = len(val_doc) \n",
    "print('# validation sequences =', num_val_sequences)\n",
    "num_epochs = 20 \n",
    "print ('# epochs =', num_epochs)"
   ]
  },
  {
   "cell_type": "code",
   "execution_count": 53,
   "metadata": {
    "id": "_3zJnkr-5rVN"
   },
   "outputs": [],
   "source": [
    "train_generator_rnn1 = generator5(train_path, train_doc, batch_size)\n",
    "val_generator_rnn1 = generator5(val_path, val_doc, batch_size)"
   ]
  },
  {
   "cell_type": "code",
   "execution_count": 54,
   "metadata": {
    "id": "H5iUMgPlW_Y8"
   },
   "outputs": [],
   "source": [
    "from keras.models import Sequential, Model\n",
    "from keras.layers import Dense, GRU, Flatten, TimeDistributed, Flatten, BatchNormalization, Activation\n",
    "from keras.layers.convolutional import Conv3D, MaxPooling3D, Conv2D, MaxPooling2D\n",
    "from keras.layers.recurrent import LSTM\n",
    "from keras.callbacks import ModelCheckpoint, ReduceLROnPlateau, EarlyStopping\n",
    "from keras import optimizers\n",
    "from keras.layers import Dropout\n",
    "\n",
    "# Model 2\n",
    "\n",
    "# Batch_size = 10\n",
    "# image_shape = 100, 100, 3\n",
    "# epochs = 20\n",
    "\n",
    "model_rnn1 = Sequential()\n",
    "model_rnn1.add(TimeDistributed(Conv2D(16, (3, 3) , padding='same', activation='relu'),input_shape=(18,100,100,3)))\n",
    "model_rnn1.add(TimeDistributed(BatchNormalization()))\n",
    "model_rnn1.add(TimeDistributed(MaxPooling2D((2, 2))))\n",
    "        \n",
    "model_rnn1.add(TimeDistributed(Conv2D(32, (3, 3) , padding='same', activation='relu')))\n",
    "model_rnn1.add(TimeDistributed(BatchNormalization()))\n",
    "model_rnn1.add(TimeDistributed(MaxPooling2D((2, 2))))\n",
    "        \n",
    "model_rnn1.add(TimeDistributed(Conv2D(64, (3, 3) , padding='same', activation='relu')))\n",
    "model_rnn1.add(TimeDistributed(BatchNormalization()))\n",
    "model_rnn1.add(TimeDistributed(MaxPooling2D((2, 2))))\n",
    "        \n",
    "model_rnn1.add(TimeDistributed(Conv2D(128, (3, 3) , padding='same', activation='relu')))\n",
    "model_rnn1.add(TimeDistributed(BatchNormalization()))\n",
    "model_rnn1.add(TimeDistributed(MaxPooling2D((2, 2))))\n",
    "\n",
    "model_rnn1.add(TimeDistributed(Conv2D(256, (3, 3) , padding='same', activation='relu')))\n",
    "model_rnn1.add(TimeDistributed(BatchNormalization()))\n",
    "model_rnn1.add(TimeDistributed(MaxPooling2D((2, 2))))\n",
    "        \n",
    "model_rnn1.add(TimeDistributed(Flatten()))\n",
    "\n",
    "model_rnn1.add(LSTM(128))\n",
    "model_rnn1.add(Dropout(0.25))\n",
    "        \n",
    "model_rnn1.add(Dense(128,activation='relu'))\n",
    "model_rnn1.add(Dropout(0.25))\n",
    "        \n",
    "model_rnn1.add(Dense(5, activation='softmax'))"
   ]
  },
  {
   "cell_type": "code",
   "execution_count": 55,
   "metadata": {
    "id": "0WpbJg4tXOd4"
   },
   "outputs": [],
   "source": [
    "model_rnn1.compile(optimizer='adam', loss='categorical_crossentropy', metrics=['categorical_accuracy'])"
   ]
  },
  {
   "cell_type": "code",
   "execution_count": 56,
   "metadata": {
    "colab": {
     "base_uri": "https://localhost:8080/"
    },
    "id": "Dzx78bmcXTPh",
    "outputId": "577ba6e1-0749-40ce-d65a-8ce56a6b90b6"
   },
   "outputs": [
    {
     "name": "stdout",
     "output_type": "stream",
     "text": [
      "WARNING:tensorflow:`period` argument is deprecated. Please use `save_freq` to specify the frequency in number of batches seen.\n",
      "WARNING:tensorflow:`epsilon` argument is deprecated and will be removed, use `min_delta` instead.\n"
     ]
    }
   ],
   "source": [
    "model_name = 'model_init' + '_' + str(curr_dt_time).replace(' ','').replace(':','_') + '/'\n",
    "# model_init_1-_25_43/model-epoch:01-loss:0.9876-categorical_accuracy:0.76545......\n",
    "\n",
    "if not os.path.exists(model_name):\n",
    "    os.mkdir(model_name)\n",
    "        \n",
    "filepath = model_name + 'model-{epoch:05d}-{loss:.5f}-{categorical_accuracy:.5f}-{val_loss:.5f}-{val_categorical_accuracy:.5f}.h5'\n",
    "\n",
    "checkpoint = ModelCheckpoint(filepath, monitor='val_loss', verbose=1, save_best_only=False, save_weights_only=False, mode='auto', period=1)\n",
    "# ModelCheckpoint - saves weight and model after every epoch\n",
    "LR = ReduceLROnPlateau(monitor='val_loss', factor=0.5, patience=2, verbose=1, mode='min', epsilon=0.0001, cooldown=0, min_lr=0.00001) # write the REducelronplateau code here\n",
    "callbacks_list = [checkpoint, LR]"
   ]
  },
  {
   "cell_type": "code",
   "execution_count": 57,
   "metadata": {
    "id": "D9hPvJjOXXpm"
   },
   "outputs": [],
   "source": [
    "if (num_train_sequences%batch_size) == 0:\n",
    "    steps_per_epoch = int(num_train_sequences/batch_size)\n",
    "\n",
    "else:\n",
    "    steps_per_epoch = (num_train_sequences//batch_size) + 1\n",
    "\n",
    "if (num_val_sequences%batch_size) == 0:\n",
    "    validation_steps = int(num_val_sequences/batch_size)\n",
    "else:\n",
    "    validation_steps = (num_val_sequences//batch_size) + 1"
   ]
  },
  {
   "cell_type": "code",
   "execution_count": 58,
   "metadata": {
    "colab": {
     "base_uri": "https://localhost:8080/"
    },
    "id": "3hz52PZaXcIE",
    "outputId": "3ee2cdb3-e1f2-4848-d574-0cbd59fa1595",
    "scrolled": true
   },
   "outputs": [
    {
     "name": "stdout",
     "output_type": "stream",
     "text": [
      "Source path =  /content/project_data/train ; batch size = 10\n",
      "Epoch 1/20\n",
      "67/67 [==============================] - ETA: 0s - loss: 1.5540 - categorical_accuracy: 0.3228Source path =  /content/project_data/val ; batch size = 10\n",
      "67/67 [==============================] - 99s 786ms/step - loss: 1.5540 - categorical_accuracy: 0.3228 - val_loss: 1.6858 - val_categorical_accuracy: 0.1800\n",
      "\n",
      "Epoch 00001: saving model to model_init_2021-10-2406_04_36.653329/model-00001-1.55402-0.32278-1.68580-0.18000.h5\n",
      "Epoch 2/20\n",
      "67/67 [==============================] - 52s 787ms/step - loss: 1.3786 - categorical_accuracy: 0.3937 - val_loss: 1.8005 - val_categorical_accuracy: 0.2400\n",
      "\n",
      "Epoch 00002: saving model to model_init_2021-10-2406_04_36.653329/model-00002-1.37861-0.39367-1.80048-0.24000.h5\n",
      "Epoch 3/20\n",
      "67/67 [==============================] - 52s 782ms/step - loss: 1.4164 - categorical_accuracy: 0.4027 - val_loss: 2.2000 - val_categorical_accuracy: 0.2100\n",
      "\n",
      "Epoch 00003: saving model to model_init_2021-10-2406_04_36.653329/model-00003-1.41645-0.40271-2.20000-0.21000.h5\n",
      "\n",
      "Epoch 00003: ReduceLROnPlateau reducing learning rate to 0.0005000000237487257.\n",
      "Epoch 4/20\n",
      "67/67 [==============================] - 52s 782ms/step - loss: 1.3008 - categorical_accuracy: 0.4344 - val_loss: 2.1247 - val_categorical_accuracy: 0.1900\n",
      "\n",
      "Epoch 00004: saving model to model_init_2021-10-2406_04_36.653329/model-00004-1.30077-0.43439-2.12474-0.19000.h5\n",
      "Epoch 5/20\n",
      "67/67 [==============================] - 53s 792ms/step - loss: 1.2278 - categorical_accuracy: 0.4691 - val_loss: 1.9484 - val_categorical_accuracy: 0.2200\n",
      "\n",
      "Epoch 00005: saving model to model_init_2021-10-2406_04_36.653329/model-00005-1.22777-0.46908-1.94842-0.22000.h5\n",
      "\n",
      "Epoch 00005: ReduceLROnPlateau reducing learning rate to 0.0002500000118743628.\n",
      "Epoch 6/20\n",
      "67/67 [==============================] - 52s 781ms/step - loss: 1.1121 - categorical_accuracy: 0.5581 - val_loss: 2.0399 - val_categorical_accuracy: 0.2600\n",
      "\n",
      "Epoch 00006: saving model to model_init_2021-10-2406_04_36.653329/model-00006-1.11207-0.55807-2.03994-0.26000.h5\n",
      "Epoch 7/20\n",
      "67/67 [==============================] - 52s 784ms/step - loss: 1.0779 - categorical_accuracy: 0.5596 - val_loss: 1.9990 - val_categorical_accuracy: 0.3100\n",
      "\n",
      "Epoch 00007: saving model to model_init_2021-10-2406_04_36.653329/model-00007-1.07791-0.55958-1.99900-0.31000.h5\n",
      "\n",
      "Epoch 00007: ReduceLROnPlateau reducing learning rate to 0.0001250000059371814.\n",
      "Epoch 8/20\n",
      "67/67 [==============================] - 52s 784ms/step - loss: 1.0245 - categorical_accuracy: 0.5837 - val_loss: 1.5119 - val_categorical_accuracy: 0.3900\n",
      "\n",
      "Epoch 00008: saving model to model_init_2021-10-2406_04_36.653329/model-00008-1.02453-0.58371-1.51185-0.39000.h5\n",
      "Epoch 9/20\n",
      "67/67 [==============================] - 52s 788ms/step - loss: 0.9294 - categorical_accuracy: 0.6486 - val_loss: 1.3225 - val_categorical_accuracy: 0.4500\n",
      "\n",
      "Epoch 00009: saving model to model_init_2021-10-2406_04_36.653329/model-00009-0.92936-0.64857-1.32254-0.45000.h5\n",
      "Epoch 10/20\n",
      "67/67 [==============================] - 52s 782ms/step - loss: 0.9145 - categorical_accuracy: 0.6380 - val_loss: 1.1304 - val_categorical_accuracy: 0.5700\n",
      "\n",
      "Epoch 00010: saving model to model_init_2021-10-2406_04_36.653329/model-00010-0.91446-0.63801-1.13042-0.57000.h5\n",
      "Epoch 11/20\n",
      "67/67 [==============================] - 52s 791ms/step - loss: 0.8418 - categorical_accuracy: 0.6833 - val_loss: 1.0476 - val_categorical_accuracy: 0.5800\n",
      "\n",
      "Epoch 00011: saving model to model_init_2021-10-2406_04_36.653329/model-00011-0.84176-0.68326-1.04760-0.58000.h5\n",
      "Epoch 12/20\n",
      "67/67 [==============================] - 52s 782ms/step - loss: 0.8204 - categorical_accuracy: 0.6923 - val_loss: 1.0033 - val_categorical_accuracy: 0.5700\n",
      "\n",
      "Epoch 00012: saving model to model_init_2021-10-2406_04_36.653329/model-00012-0.82044-0.69231-1.00329-0.57000.h5\n",
      "Epoch 13/20\n",
      "67/67 [==============================] - 52s 789ms/step - loss: 0.7405 - categorical_accuracy: 0.7195 - val_loss: 0.9127 - val_categorical_accuracy: 0.6600\n",
      "\n",
      "Epoch 00013: saving model to model_init_2021-10-2406_04_36.653329/model-00013-0.74046-0.71946-0.91270-0.66000.h5\n",
      "Epoch 14/20\n",
      "67/67 [==============================] - 52s 779ms/step - loss: 0.6959 - categorical_accuracy: 0.7451 - val_loss: 0.9352 - val_categorical_accuracy: 0.6400\n",
      "\n",
      "Epoch 00014: saving model to model_init_2021-10-2406_04_36.653329/model-00014-0.69589-0.74510-0.93518-0.64000.h5\n",
      "Epoch 15/20\n",
      "67/67 [==============================] - 52s 789ms/step - loss: 0.6507 - categorical_accuracy: 0.7692 - val_loss: 0.9734 - val_categorical_accuracy: 0.6100\n",
      "\n",
      "Epoch 00015: saving model to model_init_2021-10-2406_04_36.653329/model-00015-0.65066-0.76923-0.97340-0.61000.h5\n",
      "\n",
      "Epoch 00015: ReduceLROnPlateau reducing learning rate to 6.25000029685907e-05.\n",
      "Epoch 16/20\n",
      "67/67 [==============================] - 52s 785ms/step - loss: 0.6540 - categorical_accuracy: 0.7451 - val_loss: 0.9421 - val_categorical_accuracy: 0.6000\n",
      "\n",
      "Epoch 00016: saving model to model_init_2021-10-2406_04_36.653329/model-00016-0.65401-0.74510-0.94207-0.60000.h5\n",
      "Epoch 17/20\n",
      "67/67 [==============================] - 52s 783ms/step - loss: 0.5988 - categorical_accuracy: 0.8009 - val_loss: 0.8563 - val_categorical_accuracy: 0.6300\n",
      "\n",
      "Epoch 00017: saving model to model_init_2021-10-2406_04_36.653329/model-00017-0.59880-0.80090-0.85634-0.63000.h5\n",
      "Epoch 18/20\n",
      "67/67 [==============================] - 52s 784ms/step - loss: 0.5551 - categorical_accuracy: 0.8190 - val_loss: 0.8641 - val_categorical_accuracy: 0.6300\n",
      "\n",
      "Epoch 00018: saving model to model_init_2021-10-2406_04_36.653329/model-00018-0.55512-0.81900-0.86409-0.63000.h5\n",
      "Epoch 19/20\n",
      "67/67 [==============================] - 52s 787ms/step - loss: 0.5112 - categorical_accuracy: 0.8115 - val_loss: 0.8413 - val_categorical_accuracy: 0.6500\n",
      "\n",
      "Epoch 00019: saving model to model_init_2021-10-2406_04_36.653329/model-00019-0.51124-0.81146-0.84132-0.65000.h5\n",
      "Epoch 20/20\n",
      "67/67 [==============================] - 53s 790ms/step - loss: 0.5356 - categorical_accuracy: 0.8265 - val_loss: 0.7840 - val_categorical_accuracy: 0.6700\n",
      "\n",
      "Epoch 00020: saving model to model_init_2021-10-2406_04_36.653329/model-00020-0.53557-0.82655-0.78404-0.67000.h5\n"
     ]
    }
   ],
   "source": [
    "history_rnn1 = model_rnn1.fit_generator(train_generator_rnn1, steps_per_epoch=steps_per_epoch, epochs=num_epochs, verbose=1, \n",
    "                    callbacks=callbacks_list, validation_data=val_generator_rnn1, \n",
    "                    validation_steps=validation_steps, class_weight=None, workers=1, initial_epoch=0)"
   ]
  },
  {
   "cell_type": "code",
   "execution_count": 76,
   "metadata": {
    "colab": {
     "base_uri": "https://localhost:8080/",
     "height": 265
    },
    "id": "pkAaumytEWKJ",
    "outputId": "43ec75b0-4bca-4d82-80e8-75490c7d3cff"
   },
   "outputs": [
    {
     "data": {
      "image/png": "[encoded data removed]",
      "text/plain": [
       "<Figure size 1080x288 with 2 Axes>"
      ]
     },
     "metadata": {
      "needs_background": "light"
     },
     "output_type": "display_data"
    }
   ],
   "source": [
    "import matplotlib.pyplot as plt\n",
    "\n",
    "fig, axes = plt.subplots(nrows=1, ncols=2, figsize=(15,4))\n",
    "axes[0].plot(history_rnn1.history['loss'])   \n",
    "axes[0].plot(history_rnn1.history['val_loss'])\n",
    "axes[0].legend(['loss','val_loss'])\n",
    "\n",
    "axes[1].plot(history_rnn1.history['categorical_accuracy'])   \n",
    "axes[1].plot(history_rnn1.history['val_categorical_accuracy'])\n",
    "axes[1].legend(['categorical_accuracy','val_categorical_accuracy'])\n",
    "\n",
    "plt.savefig('Model_rnn1.png')"
   ]
  },
  {
   "cell_type": "markdown",
   "metadata": {},
   "source": [
    "## Summary for Model 2:\n",
    "\n",
    "After resizing the image size model is working fine.\n",
    "\n",
    "best model: 'model-00012-0.82044-0.69231-1.00329-0.57000.h5'\n",
    "\n",
    "accuracy : train - 71% val - 66%"
   ]
  },
  {
   "cell_type": "code",
   "execution_count": 59,
   "metadata": {
    "id": "Dopw1rxlXifc"
   },
   "outputs": [],
   "source": [
    "train_doc = np.random.permutation(open(r'/content/project_data/train.csv').readlines())\n",
    "val_doc = np.random.permutation(open(r'/content/project_data/val.csv').readlines())\n",
    "batch_size = 10"
   ]
  },
  {
   "cell_type": "code",
   "execution_count": 60,
   "metadata": {
    "id": "QSBkFl8iX0jw"
   },
   "outputs": [],
   "source": [
    "def generator6(source_path, folder_list, batch_size):\n",
    "    print( 'Source path = ', source_path, '; batch size =', batch_size)\n",
    "    # It is not possible to work with all the 30 images, as it will take too long processing time.\n",
    "    # So lets choose randomly 18 images\n",
    "    img_idx = [0,1,2,4,6,8,10,12,14,16,18,20,22,24,26,27,28,29] #create a list of image numbers you want to use for a particular video(incase if u want to try with lesser images)\n",
    "    x, y, z = len(img_idx), 84, 84\n",
    "    while True:\n",
    "        t = np.random.permutation(folder_list)\n",
    "        num_batches = len(t)//batch_size # calculate the number of batches\n",
    "        for batch in range(num_batches): # we iterate over the number of batches\n",
    "            batch_data = np.zeros((batch_size,x,y,z,3)) # x is the number of images you use for each video, (y,z) is the final size of the input images and 3 is the number of channels RGB\n",
    "            batch_labels = np.zeros((batch_size,5)) # batch_labels is the one hot representation of the output\n",
    "            for folder in range(batch_size): # iterate over the batch_size\n",
    "                imgs = os.listdir(source_path+'/'+ t[folder + (batch*batch_size)].split(';')[0]) # read all the images in the folder\n",
    "                for idx,item in enumerate(img_idx): #  Iterate iver the frames/images of a folder to read them in\n",
    "                    image = imread(source_path+'/'+ t[folder + (batch*batch_size)].strip().split(';')[0]+'/'+imgs[item]).astype(np.float32)\n",
    "                    \n",
    "                    #crop the images and resize them. Note that the images are of 2 different shape \n",
    "                    #and the conv3D will throw error if the inputs in a batch have different shapes\n",
    "                    image = imresize(image[:,20:140,:],(84,84)).astype(np.float32)\n",
    "                    image = image/255.0\n",
    "                    batch_data[folder,idx,:,:,0] =(image[:,:,0]) #normalise and feed in the image # divide by 255.0\n",
    "                    batch_data[folder,idx,:,:,1] =(image[:,:,1])#normalise and feed in the image\n",
    "                    batch_data[folder,idx,:,:,2] =(image[:,:,2]) #normalise and feed in the image\n",
    "                    \n",
    "                batch_labels[folder, int(t[folder + (batch*batch_size)].strip().split(';')[2])] = 1 # OHE\n",
    "            yield batch_data, batch_labels #you yield the batch_data and the batch_labels, remember what does yield do\n",
    "\n",
    "        \n",
    "        # write the code for the remaining data points which are left after full batches\n",
    "        if(len(t)%batch_size)!=0:\n",
    "            batch_data = np.zeros((len(t)%batch_size,x,y,z,3)) # x is the number of images you use for each video, (y,z) is the final size of the input images and 3 is the number of channels RGB\n",
    "            batch_labels = np.zeros((len(t)%batch_size,5)) # batch_labels is the one hot representation of the output\n",
    "            for folder in range(len(t)%batch_size): # iterate over the batch_size\n",
    "                imgs = os.listdir(source_path+'/'+ t[folder + (num_batches*batch_size)].split(';')[0]) # read all the images in the folder\n",
    "                for idx,item in enumerate(img_idx): #  Iterate iver the frames/images of a folder to read them in\n",
    "                    image = imread(source_path+'/'+ t[folder + (num_batches*batch_size)].strip().split(';')[0]+'/'+imgs[item]).astype(np.float32)\n",
    "                    \n",
    "                    #crop the images and resize them. Note that the images are of 2 different shape \n",
    "                    #and the conv3D will throw error if the inputs in a batch have different shapes\n",
    "                    image = imresize(image[:,20:140,:],(84,  84)).astype(np.float32)\n",
    "                    image = image/255.0\n",
    "                    batch_data[folder,idx,:,:,0] = (image[:,:,0])#normalise and feed in the image # divide by 255.0\n",
    "                    batch_data[folder,idx,:,:,1] = (image[:,:,1])#normalise and feed in the image\n",
    "                    batch_data[folder,idx,:,:,2] = (image[:,:,2])#normalise and feed in the image\n",
    "                    \n",
    "                batch_labels[folder, int(t[folder + (num_batches*batch_size)].strip().split(';')[2])] = 1 # OHE\n",
    "            yield batch_data, batch_labels\n"
   ]
  },
  {
   "cell_type": "code",
   "execution_count": 61,
   "metadata": {
    "colab": {
     "base_uri": "https://localhost:8080/"
    },
    "id": "5hcN1-qaYFUE",
    "outputId": "56ab795f-9ec6-4c5e-a1bd-9193fc026274"
   },
   "outputs": [
    {
     "name": "stdout",
     "output_type": "stream",
     "text": [
      "# training sequences = 663\n",
      "# validation sequences = 100\n",
      "# epochs = 20\n"
     ]
    }
   ],
   "source": [
    "curr_dt_time = datetime.datetime.now()\n",
    "train_path = r'/content/project_data/train'\n",
    "val_path = r'/content/project_data/val'\n",
    "num_train_sequences = len(train_doc) \n",
    "print('# training sequences =', num_train_sequences)\n",
    "num_val_sequences = len(val_doc) \n",
    "print('# validation sequences =', num_val_sequences)\n",
    "num_epochs = 20 \n",
    "print ('# epochs =', num_epochs)"
   ]
  },
  {
   "cell_type": "code",
   "execution_count": 62,
   "metadata": {
    "id": "Mafvls0vYR_h"
   },
   "outputs": [],
   "source": [
    "from keras.models import Sequential, Model\n",
    "from keras.layers import Dense, GRU, Flatten, TimeDistributed, Flatten, BatchNormalization, Activation\n",
    "from keras.layers.convolutional import Conv3D, MaxPooling3D, Conv2D, MaxPooling2D\n",
    "from keras.layers.recurrent import LSTM\n",
    "from keras.callbacks import ModelCheckpoint, ReduceLROnPlateau, EarlyStopping\n",
    "from keras import optimizers\n",
    "from keras.layers import Dropout\n",
    "\n",
    "# Batch_size = 10\n",
    "# image_shape = 84, 84, 3\n",
    "# epochs = 20\n",
    "\n",
    "model_rnn2 = Sequential()\n",
    "model_rnn2.add(TimeDistributed(Conv2D(16, (3, 3) , padding='same', activation='relu'),input_shape=(18,84,84,3)))\n",
    "model_rnn2.add(TimeDistributed(BatchNormalization()))\n",
    "model_rnn2.add(TimeDistributed(MaxPooling2D((2, 2))))\n",
    "        \n",
    "model_rnn2.add(TimeDistributed(Conv2D(32, (3, 3) , padding='same', activation='relu')))\n",
    "model_rnn2.add(TimeDistributed(BatchNormalization()))\n",
    "model_rnn2.add(TimeDistributed(MaxPooling2D((2, 2))))\n",
    "        \n",
    "model_rnn2.add(TimeDistributed(Conv2D(64, (3, 3) , padding='same', activation='relu')))\n",
    "model_rnn2.add(TimeDistributed(BatchNormalization()))\n",
    "model_rnn2.add(TimeDistributed(MaxPooling2D((2, 2))))\n",
    "        \n",
    "model_rnn2.add(TimeDistributed(Conv2D(128, (3, 3) , padding='same', activation='relu')))\n",
    "model_rnn2.add(TimeDistributed(BatchNormalization()))\n",
    "model_rnn2.add(TimeDistributed(MaxPooling2D((2, 2))))\n",
    "\n",
    "model_rnn2.add(TimeDistributed(Conv2D(256, (3, 3) , padding='same', activation='relu')))\n",
    "model_rnn2.add(TimeDistributed(BatchNormalization()))\n",
    "model_rnn2.add(TimeDistributed(MaxPooling2D((2, 2))))\n",
    "        \n",
    "model_rnn2.add(TimeDistributed(Flatten()))\n",
    "\n",
    "model_rnn2.add(LSTM(128))\n",
    "model_rnn2.add(Dropout(0.25))\n",
    "        \n",
    "model_rnn2.add(Dense(128,activation='relu'))\n",
    "model_rnn2.add(Dropout(0.25))\n",
    "        \n",
    "model_rnn2.add(Dense(5, activation='softmax'))"
   ]
  },
  {
   "cell_type": "code",
   "execution_count": 63,
   "metadata": {
    "colab": {
     "base_uri": "https://localhost:8080/"
    },
    "id": "TA5VC6itYkKj",
    "outputId": "aad56d00-175f-4fb7-b983-5586395ca0a4"
   },
   "outputs": [
    {
     "name": "stdout",
     "output_type": "stream",
     "text": [
      "Model: \"sequential_6\"\n",
      "_________________________________________________________________\n",
      "Layer (type)                 Output Shape              Param #   \n",
      "=================================================================\n",
      "time_distributed_32 (TimeDis (None, 18, 84, 84, 16)    448       \n",
      "_________________________________________________________________\n",
      "time_distributed_33 (TimeDis (None, 18, 84, 84, 16)    64        \n",
      "_________________________________________________________________\n",
      "time_distributed_34 (TimeDis (None, 18, 42, 42, 16)    0         \n",
      "_________________________________________________________________\n",
      "time_distributed_35 (TimeDis (None, 18, 42, 42, 32)    4640      \n",
      "_________________________________________________________________\n",
      "time_distributed_36 (TimeDis (None, 18, 42, 42, 32)    128       \n",
      "_________________________________________________________________\n",
      "time_distributed_37 (TimeDis (None, 18, 21, 21, 32)    0         \n",
      "_________________________________________________________________\n",
      "time_distributed_38 (TimeDis (None, 18, 21, 21, 64)    18496     \n",
      "_________________________________________________________________\n",
      "time_distributed_39 (TimeDis (None, 18, 21, 21, 64)    256       \n",
      "_________________________________________________________________\n",
      "time_distributed_40 (TimeDis (None, 18, 10, 10, 64)    0         \n",
      "_________________________________________________________________\n",
      "time_distributed_41 (TimeDis (None, 18, 10, 10, 128)   73856     \n",
      "_________________________________________________________________\n",
      "time_distributed_42 (TimeDis (None, 18, 10, 10, 128)   512       \n",
      "_________________________________________________________________\n",
      "time_distributed_43 (TimeDis (None, 18, 5, 5, 128)     0         \n",
      "_________________________________________________________________\n",
      "time_distributed_44 (TimeDis (None, 18, 5, 5, 256)     295168    \n",
      "_________________________________________________________________\n",
      "time_distributed_45 (TimeDis (None, 18, 5, 5, 256)     1024      \n",
      "_________________________________________________________________\n",
      "time_distributed_46 (TimeDis (None, 18, 2, 2, 256)     0         \n",
      "_________________________________________________________________\n",
      "time_distributed_47 (TimeDis (None, 18, 1024)          0         \n",
      "_________________________________________________________________\n",
      "lstm_2 (LSTM)                (None, 128)               590336    \n",
      "_________________________________________________________________\n",
      "dropout_12 (Dropout)         (None, 128)               0         \n",
      "_________________________________________________________________\n",
      "dense_13 (Dense)             (None, 128)               16512     \n",
      "_________________________________________________________________\n",
      "dropout_13 (Dropout)         (None, 128)               0         \n",
      "_________________________________________________________________\n",
      "dense_14 (Dense)             (None, 5)                 645       \n",
      "=================================================================\n",
      "Total params: 1,002,085\n",
      "Trainable params: 1,001,093\n",
      "Non-trainable params: 992\n",
      "_________________________________________________________________\n"
     ]
    }
   ],
   "source": [
    "model_rnn2.summary()"
   ]
  },
  {
   "cell_type": "code",
   "execution_count": 67,
   "metadata": {
    "id": "XFOb-f39Yu5y"
   },
   "outputs": [],
   "source": [
    "model_rnn2.compile(optimizer='adam', loss='categorical_crossentropy', metrics=['categorical_accuracy'])"
   ]
  },
  {
   "cell_type": "code",
   "execution_count": 68,
   "metadata": {
    "colab": {
     "base_uri": "https://localhost:8080/"
    },
    "id": "eJqRCWuqY1Xh",
    "outputId": "f3f6635f-60d2-4b14-d691-d1107317196d"
   },
   "outputs": [
    {
     "name": "stdout",
     "output_type": "stream",
     "text": [
      "WARNING:tensorflow:`period` argument is deprecated. Please use `save_freq` to specify the frequency in number of batches seen.\n",
      "WARNING:tensorflow:`epsilon` argument is deprecated and will be removed, use `min_delta` instead.\n"
     ]
    }
   ],
   "source": [
    "model_name = 'model_init' + '_' + str(curr_dt_time).replace(' ','').replace(':','_') + '/'\n",
    "# model_init_1-_25_43/model-epoch:01-loss:0.9876-categorical_accuracy:0.76545......\n",
    "\n",
    "if not os.path.exists(model_name):\n",
    "    os.mkdir(model_name)\n",
    "        \n",
    "filepath = model_name + 'model-{epoch:05d}-{loss:.5f}-{categorical_accuracy:.5f}-{val_loss:.5f}-{val_categorical_accuracy:.5f}.h5'\n",
    "\n",
    "checkpoint = ModelCheckpoint(filepath, monitor='val_loss', verbose=1, save_best_only=False, save_weights_only=False, mode='auto', period=1)\n",
    "# ModelCheckpoint - saves weight and model after every epoch\n",
    "LR = ReduceLROnPlateau(monitor='val_loss', factor=0.5, patience=2, verbose=1, mode='min', epsilon=0.0001, cooldown=0, min_lr=0.00001) # write the REducelronplateau code here\n",
    "callbacks_list = [checkpoint, LR]"
   ]
  },
  {
   "cell_type": "code",
   "execution_count": 69,
   "metadata": {
    "id": "_BbrFpQ2Y75k"
   },
   "outputs": [],
   "source": [
    "if (num_train_sequences%batch_size) == 0:\n",
    "    steps_per_epoch = int(num_train_sequences/batch_size)\n",
    "\n",
    "else:\n",
    "    steps_per_epoch = (num_train_sequences//batch_size) + 1\n",
    "\n",
    "if (num_val_sequences%batch_size) == 0:\n",
    "    validation_steps = int(num_val_sequences/batch_size)\n",
    "else:\n",
    "    validation_steps = (num_val_sequences//batch_size) + 1"
   ]
  },
  {
   "cell_type": "code",
   "execution_count": 70,
   "metadata": {
    "id": "qzYfrdXxBVn7"
   },
   "outputs": [],
   "source": [
    "train_generator_rnn2 = generator6(train_path, train_doc, batch_size)\n",
    "val_generator_rnn2 = generator6(val_path, val_doc, batch_size)"
   ]
  },
  {
   "cell_type": "code",
   "execution_count": 71,
   "metadata": {
    "colab": {
     "base_uri": "https://localhost:8080/"
    },
    "id": "O-SZaRg3ZAHc",
    "outputId": "5c9900d6-a21d-4ae3-e6ab-fcaf153cbaee",
    "scrolled": true
   },
   "outputs": [
    {
     "name": "stdout",
     "output_type": "stream",
     "text": [
      "Source path =  /content/project_data/train ; batch size = 10\n",
      "Epoch 1/20\n",
      "67/67 [==============================] - ETA: 0s - loss: 1.5289 - categorical_accuracy: 0.3198Source path =  /content/project_data/val ; batch size = 10\n",
      "67/67 [==============================] - 55s 766ms/step - loss: 1.5289 - categorical_accuracy: 0.3198 - val_loss: 1.9690 - val_categorical_accuracy: 0.2100\n",
      "\n",
      "Epoch 00001: saving model to model_init_2021-10-2406_30_27.142575/model-00001-1.52894-0.31976-1.96898-0.21000.h5\n",
      "Epoch 2/20\n",
      "67/67 [==============================] - 51s 763ms/step - loss: 1.3499 - categorical_accuracy: 0.3952 - val_loss: 1.8859 - val_categorical_accuracy: 0.2200\n",
      "\n",
      "Epoch 00002: saving model to model_init_2021-10-2406_30_27.142575/model-00002-1.34991-0.39517-1.88591-0.22000.h5\n",
      "Epoch 3/20\n",
      "67/67 [==============================] - 50s 754ms/step - loss: 1.2941 - categorical_accuracy: 0.4465 - val_loss: 2.3408 - val_categorical_accuracy: 0.2000\n",
      "\n",
      "Epoch 00003: saving model to model_init_2021-10-2406_30_27.142575/model-00003-1.29405-0.44646-2.34083-0.20000.h5\n",
      "Epoch 4/20\n",
      "67/67 [==============================] - 51s 761ms/step - loss: 1.2590 - categorical_accuracy: 0.4555 - val_loss: 2.0553 - val_categorical_accuracy: 0.2500\n",
      "\n",
      "Epoch 00004: saving model to model_init_2021-10-2406_30_27.142575/model-00004-1.25902-0.45551-2.05526-0.25000.h5\n",
      "\n",
      "Epoch 00004: ReduceLROnPlateau reducing learning rate to 0.0005000000237487257.\n",
      "Epoch 5/20\n",
      "67/67 [==============================] - 50s 756ms/step - loss: 1.1683 - categorical_accuracy: 0.4842 - val_loss: 1.7270 - val_categorical_accuracy: 0.4000\n",
      "\n",
      "Epoch 00005: saving model to model_init_2021-10-2406_30_27.142575/model-00005-1.16831-0.48416-1.72700-0.40000.h5\n",
      "Epoch 6/20\n",
      "67/67 [==============================] - 50s 754ms/step - loss: 1.0548 - categorical_accuracy: 0.5611 - val_loss: 2.0118 - val_categorical_accuracy: 0.2800\n",
      "\n",
      "Epoch 00006: saving model to model_init_2021-10-2406_30_27.142575/model-00006-1.05481-0.56109-2.01184-0.28000.h5\n",
      "Epoch 7/20\n",
      "67/67 [==============================] - 51s 761ms/step - loss: 1.0086 - categorical_accuracy: 0.5928 - val_loss: 1.5765 - val_categorical_accuracy: 0.3700\n",
      "\n",
      "Epoch 00007: saving model to model_init_2021-10-2406_30_27.142575/model-00007-1.00863-0.59276-1.57650-0.37000.h5\n",
      "Epoch 8/20\n",
      "67/67 [==============================] - 50s 759ms/step - loss: 0.9043 - categorical_accuracy: 0.6244 - val_loss: 1.8240 - val_categorical_accuracy: 0.3500\n",
      "\n",
      "Epoch 00008: saving model to model_init_2021-10-2406_30_27.142575/model-00008-0.90428-0.62443-1.82404-0.35000.h5\n",
      "Epoch 9/20\n",
      "67/67 [==============================] - 50s 759ms/step - loss: 0.8943 - categorical_accuracy: 0.6561 - val_loss: 1.1423 - val_categorical_accuracy: 0.5900\n",
      "\n",
      "Epoch 00009: saving model to model_init_2021-10-2406_30_27.142575/model-00009-0.89432-0.65611-1.14229-0.59000.h5\n",
      "Epoch 10/20\n",
      "67/67 [==============================] - 50s 753ms/step - loss: 0.8260 - categorical_accuracy: 0.6606 - val_loss: 1.1473 - val_categorical_accuracy: 0.5800\n",
      "\n",
      "Epoch 00010: saving model to model_init_2021-10-2406_30_27.142575/model-00010-0.82597-0.66063-1.14727-0.58000.h5\n",
      "Epoch 11/20\n",
      "67/67 [==============================] - 51s 761ms/step - loss: 0.7633 - categorical_accuracy: 0.7179 - val_loss: 1.2502 - val_categorical_accuracy: 0.5200\n",
      "\n",
      "Epoch 00011: saving model to model_init_2021-10-2406_30_27.142575/model-00011-0.76331-0.71795-1.25017-0.52000.h5\n",
      "\n",
      "Epoch 00011: ReduceLROnPlateau reducing learning rate to 0.0002500000118743628.\n",
      "Epoch 12/20\n",
      "67/67 [==============================] - 50s 756ms/step - loss: 0.6614 - categorical_accuracy: 0.7632 - val_loss: 1.1563 - val_categorical_accuracy: 0.5300\n",
      "\n",
      "Epoch 00012: saving model to model_init_2021-10-2406_30_27.142575/model-00012-0.66139-0.76320-1.15634-0.53000.h5\n",
      "Epoch 13/20\n",
      "67/67 [==============================] - 50s 757ms/step - loss: 0.5279 - categorical_accuracy: 0.8265 - val_loss: 1.1163 - val_categorical_accuracy: 0.5700\n",
      "\n",
      "Epoch 00013: saving model to model_init_2021-10-2406_30_27.142575/model-00013-0.52787-0.82655-1.11629-0.57000.h5\n",
      "Epoch 14/20\n",
      "67/67 [==============================] - 51s 766ms/step - loss: 0.4808 - categorical_accuracy: 0.8296 - val_loss: 0.8496 - val_categorical_accuracy: 0.6300\n",
      "\n",
      "Epoch 00014: saving model to model_init_2021-10-2406_30_27.142575/model-00014-0.48082-0.82956-0.84963-0.63000.h5\n",
      "Epoch 15/20\n",
      "67/67 [==============================] - 50s 755ms/step - loss: 0.4410 - categorical_accuracy: 0.8341 - val_loss: 0.9592 - val_categorical_accuracy: 0.6500\n",
      "\n",
      "Epoch 00015: saving model to model_init_2021-10-2406_30_27.142575/model-00015-0.44102-0.83409-0.95917-0.65000.h5\n",
      "Epoch 16/20\n",
      "67/67 [==============================] - 51s 763ms/step - loss: 0.3839 - categorical_accuracy: 0.8597 - val_loss: 0.8944 - val_categorical_accuracy: 0.6400\n",
      "\n",
      "Epoch 00016: saving model to model_init_2021-10-2406_30_27.142575/model-00016-0.38388-0.85973-0.89440-0.64000.h5\n",
      "\n",
      "Epoch 00016: ReduceLROnPlateau reducing learning rate to 0.0001250000059371814.\n",
      "Epoch 17/20\n",
      "67/67 [==============================] - 50s 758ms/step - loss: 0.2997 - categorical_accuracy: 0.9110 - val_loss: 1.2112 - val_categorical_accuracy: 0.5600\n",
      "\n",
      "Epoch 00017: saving model to model_init_2021-10-2406_30_27.142575/model-00017-0.29973-0.91101-1.21121-0.56000.h5\n",
      "Epoch 18/20\n",
      "67/67 [==============================] - 50s 754ms/step - loss: 0.2670 - categorical_accuracy: 0.9110 - val_loss: 0.9280 - val_categorical_accuracy: 0.6300\n",
      "\n",
      "Epoch 00018: saving model to model_init_2021-10-2406_30_27.142575/model-00018-0.26699-0.91101-0.92803-0.63000.h5\n",
      "\n",
      "Epoch 00018: ReduceLROnPlateau reducing learning rate to 6.25000029685907e-05.\n",
      "Epoch 19/20\n",
      "67/67 [==============================] - 50s 759ms/step - loss: 0.2183 - categorical_accuracy: 0.9336 - val_loss: 0.8324 - val_categorical_accuracy: 0.6900\n",
      "\n",
      "Epoch 00019: saving model to model_init_2021-10-2406_30_27.142575/model-00019-0.21827-0.93363-0.83240-0.69000.h5\n",
      "Epoch 20/20\n",
      "67/67 [==============================] - 51s 765ms/step - loss: 0.2129 - categorical_accuracy: 0.9336 - val_loss: 0.9213 - val_categorical_accuracy: 0.6700\n",
      "\n",
      "Epoch 00020: saving model to model_init_2021-10-2406_30_27.142575/model-00020-0.21289-0.93363-0.92126-0.67000.h5\n"
     ]
    }
   ],
   "source": [
    "history_rnn2 = model_rnn2.fit_generator(train_generator_rnn2, steps_per_epoch=steps_per_epoch, epochs=num_epochs, verbose=1, \n",
    "                    callbacks=callbacks_list, validation_data=val_generator_rnn2, \n",
    "                    validation_steps=validation_steps, class_weight=None, workers=1, initial_epoch=0)"
   ]
  },
  {
   "cell_type": "code",
   "execution_count": 72,
   "metadata": {
    "colab": {
     "base_uri": "https://localhost:8080/",
     "height": 265
    },
    "id": "s4Rz-c-YZEnc",
    "outputId": "2f12f4b1-78bd-40b7-db0a-11017e314482"
   },
   "outputs": [
    {
     "data": {
      "image/png": "[encoded data removed]",
      "text/plain": [
       "<Figure size 1080x288 with 2 Axes>"
      ]
     },
     "metadata": {
      "needs_background": "light"
     },
     "output_type": "display_data"
    }
   ],
   "source": [
    "import matplotlib.pyplot as plt\n",
    "\n",
    "fig, axes = plt.subplots(nrows=1, ncols=2, figsize=(15,4))\n",
    "axes[0].plot(history_rnn2.history['loss'])   \n",
    "axes[0].plot(history_rnn2.history['val_loss'])\n",
    "axes[0].legend(['loss','val_loss'])\n",
    "\n",
    "axes[1].plot(history_rnn2.history['categorical_accuracy'])   \n",
    "axes[1].plot(history_rnn2.history['val_categorical_accuracy'])\n",
    "axes[1].legend(['categorical_accuracy','val_categorical_accuracy'])\n",
    "\n",
    "plt.savefig('Model_rnn2.png')"
   ]
  },
  {
   "cell_type": "markdown",
   "metadata": {},
   "source": [
    "## Summary for Model 3:\n",
    "\n",
    "After resizing the image size model is working fine.\n",
    "\n",
    "best model: 'model-00010-0.82597-0.66063-1.14727-0.58000.h5'\n",
    "\n",
    "accuracy : train - 66% val - 58%"
   ]
  },
  {
   "cell_type": "markdown",
   "metadata": {},
   "source": [
    "# CNN + RNN"
   ]
  },
  {
   "cell_type": "markdown",
   "metadata": {},
   "source": [
    "# CNN + GRU"
   ]
  },
  {
   "cell_type": "code",
   "execution_count": 73,
   "metadata": {
    "id": "dfSPXPJZdfP9"
   },
   "outputs": [],
   "source": [
    "def generator7(source_path, folder_list, batch_size):\n",
    "    print( 'Source path = ', source_path, '; batch size =', batch_size)\n",
    "    # It is not possible to work with all the 30 images, as it will take too long processing time.\n",
    "    # So lets choose randomly 18 images\n",
    "    img_idx = [0,1,2,4,6,8,10,12,14,16,18,20,22,24,26,27,28,29] #create a list of image numbers you want to use for a particular video(incase if u want to try with lesser images)\n",
    "    x, y, z = len(img_idx), 84, 84\n",
    "    while True:\n",
    "        t = np.random.permutation(folder_list)\n",
    "        num_batches = len(t)//batch_size # calculate the number of batches\n",
    "        for batch in range(num_batches): # we iterate over the number of batches\n",
    "            batch_data = np.zeros((batch_size,x,y,z,3)) # x is the number of images you use for each video, (y,z) is the final size of the input images and 3 is the number of channels RGB\n",
    "            batch_labels = np.zeros((batch_size,5)) # batch_labels is the one hot representation of the output\n",
    "            for folder in range(batch_size): # iterate over the batch_size\n",
    "                imgs = os.listdir(source_path+'/'+ t[folder + (batch*batch_size)].split(';')[0]) # read all the images in the folder\n",
    "                for idx,item in enumerate(img_idx): #  Iterate iver the frames/images of a folder to read them in\n",
    "                    image = imread(source_path+'/'+ t[folder + (batch*batch_size)].strip().split(';')[0]+'/'+imgs[item]).astype(np.float32)\n",
    "                    \n",
    "                    #crop the images and resize them. Note that the images are of 2 different shape \n",
    "                    #and the conv3D will throw error if the inputs in a batch have different shapes\n",
    "                    image = imresize(image[:,20:140,:],(84,84)).astype(np.float32)\n",
    "                    image = image/255.0\n",
    "                    batch_data[folder,idx,:,:,0] =(image[:,:,0]) #normalise and feed in the image # divide by 255.0\n",
    "                    batch_data[folder,idx,:,:,1] =(image[:,:,1])#normalise and feed in the image\n",
    "                    batch_data[folder,idx,:,:,2] =(image[:,:,2]) #normalise and feed in the image\n",
    "                    \n",
    "                batch_labels[folder, int(t[folder + (batch*batch_size)].strip().split(';')[2])] = 1 # OHE\n",
    "            yield batch_data, batch_labels #you yield the batch_data and the batch_labels, remember what does yield do\n",
    "\n",
    "        \n",
    "        # write the code for the remaining data points which are left after full batches\n",
    "        if(len(t)%batch_size)!=0:\n",
    "            batch_data = np.zeros((len(t)%batch_size,x,y,z,3)) # x is the number of images you use for each video, (y,z) is the final size of the input images and 3 is the number of channels RGB\n",
    "            batch_labels = np.zeros((len(t)%batch_size,5)) # batch_labels is the one hot representation of the output\n",
    "            for folder in range(len(t)%batch_size): # iterate over the batch_size\n",
    "                imgs = os.listdir(source_path+'/'+ t[folder + (num_batches*batch_size)].split(';')[0]) # read all the images in the folder\n",
    "                for idx,item in enumerate(img_idx): #  Iterate iver the frames/images of a folder to read them in\n",
    "                    image = imread(source_path+'/'+ t[folder + (num_batches*batch_size)].strip().split(';')[0]+'/'+imgs[item]).astype(np.float32)\n",
    "                    \n",
    "                    #crop the images and resize them. Note that the images are of 2 different shape \n",
    "                    #and the conv3D will throw error if the inputs in a batch have different shapes\n",
    "                    image = imresize(image[:,20:140,:],(84,84)).astype(np.float32)\n",
    "                    image = image/255.0\n",
    "                    batch_data[folder,idx,:,:,0] = (image[:,:,0])#normalise and feed in the image # divide by 255.0\n",
    "                    batch_data[folder,idx,:,:,1] = (image[:,:,1])#normalise and feed in the image\n",
    "                    batch_data[folder,idx,:,:,2] = (image[:,:,2])#normalise and feed in the image\n",
    "                    \n",
    "                batch_labels[folder, int(t[folder + (num_batches*batch_size)].strip().split(';')[2])] = 1 # OHE\n",
    "            yield batch_data, batch_labels\n"
   ]
  },
  {
   "cell_type": "code",
   "execution_count": 74,
   "metadata": {
    "colab": {
     "base_uri": "https://localhost:8080/"
    },
    "id": "PcosK8sSfNJe",
    "outputId": "bda84681-81fd-4ad6-f94a-dbd5f733e16e"
   },
   "outputs": [
    {
     "name": "stdout",
     "output_type": "stream",
     "text": [
      "# training sequences = 663\n",
      "# validation sequences = 100\n",
      "# epochs = 20\n"
     ]
    }
   ],
   "source": [
    "curr_dt_time = datetime.datetime.now()\n",
    "train_path = r'/content/project_data/train'\n",
    "val_path = r'/content/project_data/val'\n",
    "num_train_sequences = len(train_doc) \n",
    "print('# training sequences =', num_train_sequences)\n",
    "num_val_sequences = len(val_doc) \n",
    "print('# validation sequences =', num_val_sequences)\n",
    "num_epochs = 20 \n",
    "print ('# epochs =', num_epochs)"
   ]
  },
  {
   "cell_type": "code",
   "execution_count": 75,
   "metadata": {
    "id": "VInFPGEdF-Vq"
   },
   "outputs": [],
   "source": [
    "train_generator_rnn3 = generator7(train_path, train_doc, batch_size)\n",
    "val_generator_rnn3 = generator7(val_path, val_doc, batch_size)"
   ]
  },
  {
   "cell_type": "code",
   "execution_count": 77,
   "metadata": {
    "id": "ei1iNbTmfS6P"
   },
   "outputs": [],
   "source": [
    "#Model 3\n",
    "\n",
    "# Batch_size = 10\n",
    "# image_shape = 84, 84, 3\n",
    "# epochs = 20\n",
    "\n",
    "\n",
    "model_rnn3 = Sequential()\n",
    "\n",
    "model_rnn3.add(TimeDistributed(Conv2D(16, (3, 3) , padding='same', activation='relu'),input_shape=(18, 84, 84, 3)))\n",
    "model_rnn3.add(TimeDistributed(BatchNormalization()))\n",
    "model_rnn3.add(TimeDistributed(MaxPooling2D((2, 2))))\n",
    "        \n",
    "model_rnn3.add(TimeDistributed(Conv2D(32, (3, 3) , padding='same', activation='relu')))\n",
    "model_rnn3.add(TimeDistributed(BatchNormalization()))\n",
    "model_rnn3.add(TimeDistributed(MaxPooling2D((2, 2))))\n",
    "        \n",
    "model_rnn3.add(TimeDistributed(Conv2D(64, (3, 3) , padding='same', activation='relu')))\n",
    "model_rnn3.add(TimeDistributed(BatchNormalization()))\n",
    "model_rnn3.add(TimeDistributed(MaxPooling2D((2, 2))))\n",
    "        \n",
    "model_rnn3.add(TimeDistributed(Conv2D(128, (3, 3) , padding='same', activation='relu')))\n",
    "model_rnn3.add(TimeDistributed(BatchNormalization()))\n",
    "model_rnn3.add(TimeDistributed(MaxPooling2D((2, 2))))\n",
    "        \n",
    "model_rnn3.add(TimeDistributed(Flatten()))\n",
    "\n",
    "model_rnn3.add(GRU(64))\n",
    "model_rnn3.add(Dropout(0.25))\n",
    "        \n",
    "model_rnn3.add(Dense(64,activation='relu'))\n",
    "model_rnn3.add(Dropout(0.25))\n",
    "        \n",
    "model_rnn3.add(Dense(5, activation='softmax'))\n"
   ]
  },
  {
   "cell_type": "code",
   "execution_count": 78,
   "metadata": {
    "id": "JWn96nbVfah_"
   },
   "outputs": [],
   "source": [
    "model_rnn3.compile(optimizer='adam', loss='categorical_crossentropy', metrics=['categorical_accuracy'])\n"
   ]
  },
  {
   "cell_type": "code",
   "execution_count": 79,
   "metadata": {
    "colab": {
     "base_uri": "https://localhost:8080/"
    },
    "id": "xbQmfVTVfeEY",
    "outputId": "203bef5e-02b9-4af9-9951-a74f29ffc954"
   },
   "outputs": [
    {
     "name": "stdout",
     "output_type": "stream",
     "text": [
      "Model: \"sequential_7\"\n",
      "_________________________________________________________________\n",
      "Layer (type)                 Output Shape              Param #   \n",
      "=================================================================\n",
      "time_distributed_48 (TimeDis (None, 18, 84, 84, 16)    448       \n",
      "_________________________________________________________________\n",
      "time_distributed_49 (TimeDis (None, 18, 84, 84, 16)    64        \n",
      "_________________________________________________________________\n",
      "time_distributed_50 (TimeDis (None, 18, 42, 42, 16)    0         \n",
      "_________________________________________________________________\n",
      "time_distributed_51 (TimeDis (None, 18, 42, 42, 32)    4640      \n",
      "_________________________________________________________________\n",
      "time_distributed_52 (TimeDis (None, 18, 42, 42, 32)    128       \n",
      "_________________________________________________________________\n",
      "time_distributed_53 (TimeDis (None, 18, 21, 21, 32)    0         \n",
      "_________________________________________________________________\n",
      "time_distributed_54 (TimeDis (None, 18, 21, 21, 64)    18496     \n",
      "_________________________________________________________________\n",
      "time_distributed_55 (TimeDis (None, 18, 21, 21, 64)    256       \n",
      "_________________________________________________________________\n",
      "time_distributed_56 (TimeDis (None, 18, 10, 10, 64)    0         \n",
      "_________________________________________________________________\n",
      "time_distributed_57 (TimeDis (None, 18, 10, 10, 128)   73856     \n",
      "_________________________________________________________________\n",
      "time_distributed_58 (TimeDis (None, 18, 10, 10, 128)   512       \n",
      "_________________________________________________________________\n",
      "time_distributed_59 (TimeDis (None, 18, 5, 5, 128)     0         \n",
      "_________________________________________________________________\n",
      "time_distributed_60 (TimeDis (None, 18, 3200)          0         \n",
      "_________________________________________________________________\n",
      "gru (GRU)                    (None, 64)                627072    \n",
      "_________________________________________________________________\n",
      "dropout_14 (Dropout)         (None, 64)                0         \n",
      "_________________________________________________________________\n",
      "dense_15 (Dense)             (None, 64)                4160      \n",
      "_________________________________________________________________\n",
      "dropout_15 (Dropout)         (None, 64)                0         \n",
      "_________________________________________________________________\n",
      "dense_16 (Dense)             (None, 5)                 325       \n",
      "=================================================================\n",
      "Total params: 729,957\n",
      "Trainable params: 729,477\n",
      "Non-trainable params: 480\n",
      "_________________________________________________________________\n"
     ]
    }
   ],
   "source": [
    "model_rnn3.summary()"
   ]
  },
  {
   "cell_type": "code",
   "execution_count": 80,
   "metadata": {
    "colab": {
     "base_uri": "https://localhost:8080/"
    },
    "id": "lPQCEMDyfjO0",
    "outputId": "70dda8e9-0615-42c8-da7a-80cb1888e7ce"
   },
   "outputs": [
    {
     "name": "stdout",
     "output_type": "stream",
     "text": [
      "WARNING:tensorflow:`period` argument is deprecated. Please use `save_freq` to specify the frequency in number of batches seen.\n",
      "WARNING:tensorflow:`epsilon` argument is deprecated and will be removed, use `min_delta` instead.\n"
     ]
    }
   ],
   "source": [
    "model_name = 'model_init' + '_' + str(curr_dt_time).replace(' ','').replace(':','_') + '/'\n",
    "# model_init_1-_25_43/model-epoch:01-loss:0.9876-categorical_accuracy:0.76545......\n",
    "\n",
    "if not os.path.exists(model_name):\n",
    "    os.mkdir(model_name)\n",
    "        \n",
    "filepath = model_name + 'model-{epoch:05d}-{loss:.5f}-{categorical_accuracy:.5f}-{val_loss:.5f}-{val_categorical_accuracy:.5f}.h5'\n",
    "\n",
    "checkpoint = ModelCheckpoint(filepath, monitor='val_loss', verbose=1, save_best_only=False, save_weights_only=False, mode='auto', period=1)\n",
    "# ModelCheckpoint - saves weight and model after every epoch\n",
    "LR = ReduceLROnPlateau(monitor='val_loss', factor=0.5, patience=2, verbose=1, mode='min', epsilon=0.0001, cooldown=0, min_lr=0.00001) # write the REducelronplateau code here\n",
    "callbacks_list = [checkpoint, LR]"
   ]
  },
  {
   "cell_type": "code",
   "execution_count": 81,
   "metadata": {
    "id": "GjH-it6hflL8"
   },
   "outputs": [],
   "source": [
    "# if #images=55, batch_size=5, then we have 11 batches and 11 epochs\n",
    "if (num_train_sequences%batch_size) == 0:\n",
    "    steps_per_epoch = int(num_train_sequences/batch_size)\n",
    "# if #images=55, batch_size=5, then we have 11 batches and 3 pending images, therefore 12 epoch will be reqd for last 3 images\n",
    "else:\n",
    "    steps_per_epoch = (num_train_sequences//batch_size) + 1\n",
    "\n",
    "if (num_val_sequences%batch_size) == 0:\n",
    "    validation_steps = int(num_val_sequences/batch_size)\n",
    "else:\n",
    "    validation_steps = (num_val_sequences//batch_size) + 1"
   ]
  },
  {
   "cell_type": "code",
   "execution_count": 83,
   "metadata": {
    "colab": {
     "base_uri": "https://localhost:8080/"
    },
    "id": "oLJXmiosfn4D",
    "outputId": "60f3fa2a-20d4-4d0b-8d4a-4e34b56c7e89",
    "scrolled": true
   },
   "outputs": [
    {
     "name": "stdout",
     "output_type": "stream",
     "text": [
      "Epoch 1/20\n",
      "67/67 [==============================] - 47s 666ms/step - loss: 1.6528 - categorical_accuracy: 0.2715 - val_loss: 2.0623 - val_categorical_accuracy: 0.2300\n",
      "\n",
      "Epoch 00001: saving model to model_init_2021-10-2406_58_51.027434/model-00001-1.65280-0.27149-2.06228-0.23000.h5\n",
      "Epoch 2/20\n",
      "67/67 [==============================] - 44s 668ms/step - loss: 1.4292 - categorical_accuracy: 0.3967 - val_loss: 2.0646 - val_categorical_accuracy: 0.1300\n",
      "\n",
      "Epoch 00002: saving model to model_init_2021-10-2406_58_51.027434/model-00002-1.42924-0.39668-2.06463-0.13000.h5\n",
      "Epoch 3/20\n",
      "67/67 [==============================] - 44s 659ms/step - loss: 1.2788 - categorical_accuracy: 0.4630 - val_loss: 1.8165 - val_categorical_accuracy: 0.2600\n",
      "\n",
      "Epoch 00003: saving model to model_init_2021-10-2406_58_51.027434/model-00003-1.27878-0.46305-1.81649-0.26000.h5\n",
      "Epoch 4/20\n",
      "67/67 [==============================] - 44s 669ms/step - loss: 1.2380 - categorical_accuracy: 0.4902 - val_loss: 1.7600 - val_categorical_accuracy: 0.3000\n",
      "\n",
      "Epoch 00004: saving model to model_init_2021-10-2406_58_51.027434/model-00004-1.23797-0.49020-1.76004-0.30000.h5\n",
      "Epoch 5/20\n",
      "67/67 [==============================] - 44s 662ms/step - loss: 1.1468 - categorical_accuracy: 0.5400 - val_loss: 1.6385 - val_categorical_accuracy: 0.3000\n",
      "\n",
      "Epoch 00005: saving model to model_init_2021-10-2406_58_51.027434/model-00005-1.14680-0.53997-1.63845-0.30000.h5\n",
      "Epoch 6/20\n",
      "67/67 [==============================] - 44s 667ms/step - loss: 1.1550 - categorical_accuracy: 0.5264 - val_loss: 1.7711 - val_categorical_accuracy: 0.3400\n",
      "\n",
      "Epoch 00006: saving model to model_init_2021-10-2406_58_51.027434/model-00006-1.15496-0.52640-1.77113-0.34000.h5\n",
      "Epoch 7/20\n",
      "67/67 [==============================] - 44s 662ms/step - loss: 1.0593 - categorical_accuracy: 0.5792 - val_loss: 1.3081 - val_categorical_accuracy: 0.4600\n",
      "\n",
      "Epoch 00007: saving model to model_init_2021-10-2406_58_51.027434/model-00007-1.05932-0.57919-1.30812-0.46000.h5\n",
      "Epoch 8/20\n",
      "67/67 [==============================] - 44s 665ms/step - loss: 0.9668 - categorical_accuracy: 0.6154 - val_loss: 1.5868 - val_categorical_accuracy: 0.4200\n",
      "\n",
      "Epoch 00008: saving model to model_init_2021-10-2406_58_51.027434/model-00008-0.96683-0.61538-1.58679-0.42000.h5\n",
      "Epoch 9/20\n",
      "67/67 [==============================] - 44s 664ms/step - loss: 0.9487 - categorical_accuracy: 0.6244 - val_loss: 1.2091 - val_categorical_accuracy: 0.5100\n",
      "\n",
      "Epoch 00009: saving model to model_init_2021-10-2406_58_51.027434/model-00009-0.94869-0.62443-1.20913-0.51000.h5\n",
      "Epoch 10/20\n",
      "67/67 [==============================] - 44s 663ms/step - loss: 0.8719 - categorical_accuracy: 0.6591 - val_loss: 1.0760 - val_categorical_accuracy: 0.6400\n",
      "\n",
      "Epoch 00010: saving model to model_init_2021-10-2406_58_51.027434/model-00010-0.87193-0.65913-1.07599-0.64000.h5\n",
      "Epoch 11/20\n",
      "67/67 [==============================] - 44s 665ms/step - loss: 0.9490 - categorical_accuracy: 0.6214 - val_loss: 1.1324 - val_categorical_accuracy: 0.5700\n",
      "\n",
      "Epoch 00011: saving model to model_init_2021-10-2406_58_51.027434/model-00011-0.94904-0.62142-1.13236-0.57000.h5\n",
      "Epoch 12/20\n",
      "67/67 [==============================] - 44s 662ms/step - loss: 0.7684 - categorical_accuracy: 0.6983 - val_loss: 1.1454 - val_categorical_accuracy: 0.6400\n",
      "\n",
      "Epoch 00012: saving model to model_init_2021-10-2406_58_51.027434/model-00012-0.76839-0.69834-1.14538-0.64000.h5\n",
      "\n",
      "Epoch 00012: ReduceLROnPlateau reducing learning rate to 0.0005000000237487257.\n",
      "Epoch 13/20\n",
      "67/67 [==============================] - 44s 664ms/step - loss: 0.6990 - categorical_accuracy: 0.7360 - val_loss: 1.0127 - val_categorical_accuracy: 0.6500\n",
      "\n",
      "Epoch 00013: saving model to model_init_2021-10-2406_58_51.027434/model-00013-0.69900-0.73605-1.01266-0.65000.h5\n",
      "Epoch 14/20\n",
      "67/67 [==============================] - 44s 663ms/step - loss: 0.6380 - categorical_accuracy: 0.7707 - val_loss: 0.9606 - val_categorical_accuracy: 0.7100\n",
      "\n",
      "Epoch 00014: saving model to model_init_2021-10-2406_58_51.027434/model-00014-0.63799-0.77074-0.96058-0.71000.h5\n",
      "Epoch 15/20\n",
      "67/67 [==============================] - 44s 660ms/step - loss: 0.5590 - categorical_accuracy: 0.7587 - val_loss: 0.9241 - val_categorical_accuracy: 0.6400\n",
      "\n",
      "Epoch 00015: saving model to model_init_2021-10-2406_58_51.027434/model-00015-0.55899-0.75867-0.92414-0.64000.h5\n",
      "Epoch 16/20\n",
      "67/67 [==============================] - 44s 665ms/step - loss: 0.5231 - categorical_accuracy: 0.8084 - val_loss: 0.8337 - val_categorical_accuracy: 0.6700\n",
      "\n",
      "Epoch 00016: saving model to model_init_2021-10-2406_58_51.027434/model-00016-0.52307-0.80845-0.83366-0.67000.h5\n",
      "Epoch 17/20\n",
      "67/67 [==============================] - 44s 662ms/step - loss: 0.4942 - categorical_accuracy: 0.8054 - val_loss: 0.8879 - val_categorical_accuracy: 0.6900\n",
      "\n",
      "Epoch 00017: saving model to model_init_2021-10-2406_58_51.027434/model-00017-0.49423-0.80543-0.88789-0.69000.h5\n",
      "Epoch 18/20\n",
      "67/67 [==============================] - 44s 661ms/step - loss: 0.4433 - categorical_accuracy: 0.8401 - val_loss: 0.9345 - val_categorical_accuracy: 0.6600\n",
      "\n",
      "Epoch 00018: saving model to model_init_2021-10-2406_58_51.027434/model-00018-0.44326-0.84012-0.93455-0.66000.h5\n",
      "\n",
      "Epoch 00018: ReduceLROnPlateau reducing learning rate to 0.0002500000118743628.\n",
      "Epoch 19/20\n",
      "67/67 [==============================] - 44s 663ms/step - loss: 0.3871 - categorical_accuracy: 0.8446 - val_loss: 0.6903 - val_categorical_accuracy: 0.7500\n",
      "\n",
      "Epoch 00019: saving model to model_init_2021-10-2406_58_51.027434/model-00019-0.38707-0.84465-0.69030-0.75000.h5\n",
      "Epoch 20/20\n",
      "67/67 [==============================] - 43s 658ms/step - loss: 0.3503 - categorical_accuracy: 0.8824 - val_loss: 0.7353 - val_categorical_accuracy: 0.7400\n",
      "\n",
      "Epoch 00020: saving model to model_init_2021-10-2406_58_51.027434/model-00020-0.35033-0.88235-0.73525-0.74000.h5\n"
     ]
    }
   ],
   "source": [
    "history_rnn3 = model_rnn3.fit_generator(train_generator_rnn3, steps_per_epoch=steps_per_epoch, epochs=num_epochs, verbose=1, \n",
    "                    callbacks=callbacks_list, validation_data=val_generator_rnn3, \n",
    "                    validation_steps=validation_steps, class_weight=None, workers=1, initial_epoch=0)"
   ]
  },
  {
   "cell_type": "code",
   "execution_count": 85,
   "metadata": {
    "colab": {
     "base_uri": "https://localhost:8080/",
     "height": 265
    },
    "id": "w252vgkUfqUH",
    "outputId": "0e8a1f6f-0fea-4359-8b81-d7f5e860d20c"
   },
   "outputs": [
    {
     "data": {
      "image/png": "[encoded data removed]",
      "text/plain": [
       "<Figure size 1080x288 with 2 Axes>"
      ]
     },
     "metadata": {
      "needs_background": "light"
     },
     "output_type": "display_data"
    }
   ],
   "source": [
    "import matplotlib.pyplot as plt\n",
    "\n",
    "fig, axes = plt.subplots(nrows=1, ncols=2, figsize=(15,4))\n",
    "axes[0].plot(history_rnn3.history['loss'])   \n",
    "axes[0].plot(history_rnn3.history['val_loss'])\n",
    "axes[0].legend(['loss','val_loss'])\n",
    "\n",
    "axes[1].plot(history_rnn3.history['categorical_accuracy'])   \n",
    "axes[1].plot(history_rnn3.history['val_categorical_accuracy'])\n",
    "axes[1].legend(['categorical_accuracy','val_categorical_accuracy'])\n",
    "\n",
    "plt.savefig('Model_rnn3.png')"
   ]
  },
  {
   "cell_type": "markdown",
   "metadata": {
    "id": "v35TpieTm_KD"
   },
   "source": [
    "## Summary for Model 3:\n",
    "\n",
    "After resizing the image size model is working fine.\n",
    "\n",
    "best model: 'model-00014-0.63799-0.77074-0.96058-0.71000.h5'\n",
    "\n",
    "accuracy : train - 77% val - 71%"
   ]
  },
  {
   "cell_type": "markdown",
   "metadata": {},
   "source": [
    "# Experimet Results"
   ]
  },
  {
   "cell_type": "markdown",
   "metadata": {},
   "source": [
    "# Conv3D Results :\n",
    "\n",
    "| Experiment | Model | Result | Decision + Accuracy |\n",
    "| --- | --- | --- | --- |\n",
    "| 1 | Conv3D | OOM Error | Because of the large batch size(ie., 64) OOM error generated |\n",
    "| 2 | Conv3D | Model is overfitting | As the Model is overfitting droping few layers |\n",
    "| 3 | Conv3D | OOM Error | Batchsize is reduced from 32 to 10 |\n",
    "| 4 | Conv3D | Model is generalising the data | Changing the tensor shape from 100 to 84  train_acc = 87% , val_acc = 75% |\n",
    "| 5 | Conv3D | Model acheived good accuracy | train_acc = 79% , val_acc = 70% |\n"
   ]
  },
  {
   "cell_type": "markdown",
   "metadata": {},
   "source": [
    "# CNN + RNN Results:\n",
    "\n",
    "| Experiment | Model | Result | Decision + Accuracy |\n",
    "| --- | --- | --- | --- |\n",
    "| 1 | CNN + LSTM | OOM Error | Image size is large so changing image size |\n",
    "| 2 | CNN + LSTM | Model acheived good accuracy | After decreasing image size acheived good accuracy train_acc = 71%, val_acc = 66% |\n",
    "| 3 | CNN+LSTM | Model Accuracy dropped after image is resized | train_acc = 66%, val_acc = 58% |\n",
    "| 4 | CNN + GRU | OOM Error | Due to large tensor size OOM error occured changing batch size to 10 again |\n",
    "| 5 | CNN + GRU | Model acheived good accuracy | train_acc = 77%, val_acc = 71% |\n"
   ]
  },
  {
   "cell_type": "markdown",
   "metadata": {},
   "source": [
    "# Summary :\n",
    "\n",
    "because of the memory constraints only ran for 20 epochs. if increased epoch rate to 30 or 50 can get better model.\n",
    "\n",
    "Conv3D model gives better accuracy compared to CNN+RNN model\n",
    "\n",
    "In CNN+RNN model, CNN+GRU model gives CNN+LSTM\n",
    "\n"
   ]
  }
 ],
 "metadata": {
  "accelerator": "GPU",
  "colab": {
   "collapsed_sections": [],
   "name": "notebookbc5ac73bac (1).ipynb",
   "provenance": []
  },
  "kernelspec": {
   "display_name": "Python 3",
   "language": "python",
   "name": "python3"
  },
  "language_info": {
   "codemirror_mode": {
    "name": "ipython",
    "version": 3
   },
   "file_extension": ".py",
   "mimetype": "text/x-python",
   "name": "python",
   "nbconvert_exporter": "python",
   "pygments_lexer": "ipython3",
   "version": "3.7.9"
  }
 },
 "nbformat": 4,
 "nbformat_minor": 1
}
